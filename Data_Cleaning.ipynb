{
 "cells": [
  {
   "cell_type": "code",
   "execution_count": 1,
   "metadata": {},
   "outputs": [],
   "source": [
    "import pandas as pd\n",
    "import numpy as np\n",
    "import matplotlib.pyplot as plt\n",
    "import seaborn as sns\n",
    "%matplotlib inline\n",
    "import missingno as msno  ##pip install missingno"
   ]
  },
  {
   "cell_type": "markdown",
   "metadata": {},
   "source": [
    "\n",
    "### **Read File**"
   ]
  },
  {
   "cell_type": "code",
   "execution_count": 2,
   "metadata": {},
   "outputs": [],
   "source": [
    "null_df = pd.read_csv('Data/car_v2.csv')"
   ]
  },
  {
   "cell_type": "markdown",
   "metadata": {},
   "source": [
    "### **Initial count of Rows and Column**"
   ]
  },
  {
   "cell_type": "code",
   "execution_count": 3,
   "metadata": {},
   "outputs": [
    {
     "data": {
      "text/plain": [
       "(5551, 126)"
      ]
     },
     "execution_count": 3,
     "metadata": {},
     "output_type": "execute_result"
    }
   ],
   "source": [
    "null_df.shape"
   ]
  },
  {
   "cell_type": "markdown",
   "metadata": {},
   "source": [
    "### **Are there duplicate rows?**"
   ]
  },
  {
   "cell_type": "code",
   "execution_count": 4,
   "metadata": {},
   "outputs": [
    {
     "data": {
      "text/plain": [
       "0       False\n",
       "1       False\n",
       "2       False\n",
       "3       False\n",
       "4       False\n",
       "5       False\n",
       "6       False\n",
       "7       False\n",
       "8       False\n",
       "9       False\n",
       "10      False\n",
       "11      False\n",
       "12      False\n",
       "13      False\n",
       "14      False\n",
       "15      False\n",
       "16      False\n",
       "17      False\n",
       "18      False\n",
       "19      False\n",
       "20      False\n",
       "21      False\n",
       "22      False\n",
       "23      False\n",
       "24      False\n",
       "25      False\n",
       "26      False\n",
       "27      False\n",
       "28      False\n",
       "29      False\n",
       "        ...  \n",
       "5521    False\n",
       "5522    False\n",
       "5523    False\n",
       "5524    False\n",
       "5525    False\n",
       "5526    False\n",
       "5527    False\n",
       "5528    False\n",
       "5529    False\n",
       "5530    False\n",
       "5531    False\n",
       "5532    False\n",
       "5533    False\n",
       "5534    False\n",
       "5535    False\n",
       "5536    False\n",
       "5537    False\n",
       "5538    False\n",
       "5539    False\n",
       "5540    False\n",
       "5541    False\n",
       "5542    False\n",
       "5543    False\n",
       "5544    False\n",
       "5545    False\n",
       "5546    False\n",
       "5547    False\n",
       "5548    False\n",
       "5549    False\n",
       "5550    False\n",
       "Length: 5551, dtype: bool"
      ]
     },
     "execution_count": 4,
     "metadata": {},
     "output_type": "execute_result"
    }
   ],
   "source": [
    "null_df.duplicated()"
   ]
  },
  {
   "cell_type": "markdown",
   "metadata": {},
   "source": [
    "\n",
    "### **Count of null at the Columns level **"
   ]
  },
  {
   "cell_type": "markdown",
   "metadata": {},
   "source": [
    "### There are 127 rows and some rows with null values. Many of these null rows have a count of only nine nulls "
   ]
  },
  {
   "cell_type": "code",
   "execution_count": 5,
   "metadata": {},
   "outputs": [
    {
     "data": {
      "text/plain": [
       "126"
      ]
     },
     "execution_count": 5,
     "metadata": {},
     "output_type": "execute_result"
    }
   ],
   "source": [
    "null_df.isnull().sum().count()"
   ]
  },
  {
   "cell_type": "code",
   "execution_count": 6,
   "metadata": {},
   "outputs": [
    {
     "data": {
      "text/plain": [
       "% Unprofitable Banks                5551\n",
       "% Banks with Earnings Gains         5551\n",
       "Trading Acct Gains Fees             3698\n",
       "Earnings Cov Net Chargeoffs         2343\n",
       "namehcr                             1251\n",
       "Credit Loss Prov to Chargeoffs       691\n",
       "Loan Loss Allow to noncurr Loans     578\n",
       "Loss Allow to Loans                   46\n",
       "Net Chargeoffs to Loans               45\n",
       "Noncurrent Loans to Loans             37\n",
       "Average Total Loans                   36\n",
       "Net Loans Lease to core deposits      24\n",
       "Assets per Emp                        21\n",
       "Cash Div to Net Inc                   11\n",
       "Average earning assets                10\n",
       "Yield on Earning Assets               10\n",
       "Cost of Funding Earnings Assets       10\n",
       "Net Interest Margin                   10\n",
       "Volatile Liabilities                   9\n",
       "Derivatives                            9\n",
       "Sale Conversion Ret Stock              9\n",
       "Tier 2 Risk-based capital              9\n",
       "Tier One Capital                       9\n",
       "Loans Leases held for sale             9\n",
       "FHLB advances                          9\n",
       "NonInterest Inc to Ave Asset           9\n",
       "Insider Loans                          9\n",
       "Net Operating Income                   9\n",
       "Separate Acct Life Insurance           9\n",
       "Hybrid Life Insurance                  9\n",
       "                                    ... \n",
       "address                                0\n",
       "mutual                                 0\n",
       "Total Assets                           0\n",
       "City                                   0\n",
       "Report Date                            0\n",
       "Zip                                    0\n",
       "Fed RSSD                               0\n",
       "Bank Name                              0\n",
       "Cash & Bal Due DI                      0\n",
       "Total Unused Commitments               0\n",
       "All Other Assets                       0\n",
       "Total Liab Equity                      0\n",
       "Pre-tax Net Op Income                  0\n",
       "Additional NonInterest Expense         0\n",
       "Additional NonInterest Income          0\n",
       "Average Total Assets.1                 0\n",
       "Tot Dom Deposits to Tot Assets         0\n",
       "Net Loans Lease to Tot Assets          0\n",
       "Unused Loan Commitments                0\n",
       "Average Assets Quart                   0\n",
       "Average Total Assets                   0\n",
       "Noncurrent Loans Leases                0\n",
       "All Other Liabilities                  0\n",
       "Other Borrowed Funds                   0\n",
       "Trading Liabilities                    0\n",
       "Feds Funds Purchased                   0\n",
       "Deposits Domestic                      0\n",
       "Total Deposits                         0\n",
       "Total Liabilities                      0\n",
       "Cert                                   0\n",
       "Length: 126, dtype: int64"
      ]
     },
     "execution_count": 6,
     "metadata": {},
     "output_type": "execute_result"
    }
   ],
   "source": [
    "#null_df.isnull().sum()\n",
    "null_df.isnull().sum().sort_values(ascending=False)"
   ]
  },
  {
   "cell_type": "markdown",
   "metadata": {},
   "source": [
    "\n",
    "### **More Analysis**"
   ]
  },
  {
   "cell_type": "markdown",
   "metadata": {},
   "source": [
    "\n",
    "\n",
    "### Find a pattern: Are there several columns with null values at the same index rows?  "
   ]
  },
  {
   "cell_type": "markdown",
   "metadata": {},
   "source": [
    "###  Retreive the row number for the solitary row which has \"lnatres\" as null"
   ]
  },
  {
   "cell_type": "code",
   "execution_count": 7,
   "metadata": {},
   "outputs": [],
   "source": [
    "null_columns=null_df.columns[null_df.isnull().any()] \n",
    "# Step one - Assign null_columns"
   ]
  },
  {
   "cell_type": "code",
   "execution_count": 8,
   "metadata": {},
   "outputs": [
    {
     "name": "stdout",
     "output_type": "stream",
     "text": [
      "     namehcr  Number Employees  Cash Balance IB  Loan Allowance Loss  \\\n",
      "268      NaN               NaN              NaN                  NaN   \n",
      "282      NaN               NaN              NaN                  NaN   \n",
      "313      NaN               NaN              NaN                  NaN   \n",
      "390      NaN               NaN              NaN                  NaN   \n",
      "3127     NaN               NaN              NaN                  NaN   \n",
      "3194     NaN               NaN              NaN                  NaN   \n",
      "4175     NaN               NaN              NaN                  NaN   \n",
      "4176     NaN               NaN              NaN                  NaN   \n",
      "4380     NaN               NaN              NaN                  NaN   \n",
      "\n",
      "      Bank Premises Fixed Assets  Other RE Owned  Goodwill Intangibles  \\\n",
      "268                          NaN             NaN                   NaN   \n",
      "282                          NaN             NaN                   NaN   \n",
      "313                          NaN             NaN                   NaN   \n",
      "390                          NaN             NaN                   NaN   \n",
      "3127                         NaN             NaN                   NaN   \n",
      "3194                         NaN             NaN                   NaN   \n",
      "4175                         NaN             NaN                   NaN   \n",
      "4176                         NaN             NaN                   NaN   \n",
      "4380                         NaN             NaN                   NaN   \n",
      "\n",
      "      Interest-bearing Deposits  % Insured  Subordinated Debt  \\\n",
      "268                         NaN  87.520758                NaN   \n",
      "282                         NaN  98.649697                NaN   \n",
      "313                         NaN  58.088665                NaN   \n",
      "390                         NaN  98.551696                NaN   \n",
      "3127                        NaN  28.799863                NaN   \n",
      "3194                        NaN  99.463723                NaN   \n",
      "4175                        NaN  97.203041                NaN   \n",
      "4176                        NaN  81.501127                NaN   \n",
      "4380                        NaN  98.362486                NaN   \n",
      "\n",
      "              ...           Income Tax  Income before ext items  \\\n",
      "268           ...                  NaN                      NaN   \n",
      "282           ...                  NaN                      NaN   \n",
      "313           ...                  NaN                      NaN   \n",
      "390           ...                  NaN                      NaN   \n",
      "3127          ...                  NaN                      NaN   \n",
      "3194          ...                  NaN                      NaN   \n",
      "4175          ...                  NaN                      NaN   \n",
      "4176          ...                  NaN                      NaN   \n",
      "4380          ...                  NaN                      NaN   \n",
      "\n",
      "      Extraordinary Gains  Net Income  Minority Interest NI  \\\n",
      "268                   NaN         NaN                   NaN   \n",
      "282                   NaN         NaN                   NaN   \n",
      "313                   NaN         NaN                   NaN   \n",
      "390                   NaN         NaN                   NaN   \n",
      "3127                  NaN         NaN                   NaN   \n",
      "3194                  NaN         NaN                   NaN   \n",
      "4175                  NaN         NaN                   NaN   \n",
      "4176                  NaN         NaN                   NaN   \n",
      "4380                  NaN         NaN                   NaN   \n",
      "\n",
      "      Net income of bank and min int  Net Charge-offs  Cash Dividends  \\\n",
      "268                              NaN              NaN             NaN   \n",
      "282                              NaN              NaN             NaN   \n",
      "313                              NaN              NaN             NaN   \n",
      "390                              NaN              NaN             NaN   \n",
      "3127                             NaN              NaN             NaN   \n",
      "3194                             NaN              NaN             NaN   \n",
      "4175                             NaN              NaN             NaN   \n",
      "4176                             NaN              NaN             NaN   \n",
      "4380                             NaN              NaN             NaN   \n",
      "\n",
      "      Sale Conversion Ret Stock  Net Operating Income  \n",
      "268                         NaN                   NaN  \n",
      "282                         NaN                   NaN  \n",
      "313                         NaN                   NaN  \n",
      "390                         NaN                   NaN  \n",
      "3127                        NaN                   NaN  \n",
      "3194                        NaN                   NaN  \n",
      "4175                        NaN                   NaN  \n",
      "4176                        NaN                   NaN  \n",
      "4380                        NaN                   NaN  \n",
      "\n",
      "[9 rows x 90 columns]\n"
     ]
    }
   ],
   "source": [
    "print(null_df[null_df[\"Number Employees\"].isnull()][null_columns])  \n",
    "\n",
    "# Step two - \n",
    "#Are there other columns with null value at the same index than sample column \"Number Employees\"\n",
    "#The answer is Yes. It appears to ber several colums with nine null value at the same index as seen in the results below."
   ]
  },
  {
   "cell_type": "markdown",
   "metadata": {},
   "source": [
    "### Removing null values at indexes = 268, 282, 313, 390, 3127, 3194, 4175, 4176, 4380?  "
   ]
  },
  {
   "cell_type": "code",
   "execution_count": 9,
   "metadata": {},
   "outputs": [
    {
     "data": {
      "text/plain": [
       "nan"
      ]
     },
     "execution_count": 9,
     "metadata": {},
     "output_type": "execute_result"
    }
   ],
   "source": [
    "#Testing null value at index row= 282\n",
    "null_df.loc[282]['Number Employees']"
   ]
  },
  {
   "cell_type": "code",
   "execution_count": 10,
   "metadata": {},
   "outputs": [
    {
     "data": {
      "text/plain": [
       "(5551, 126)"
      ]
     },
     "execution_count": 10,
     "metadata": {},
     "output_type": "execute_result"
    }
   ],
   "source": [
    "null_df.shape"
   ]
  },
  {
   "cell_type": "code",
   "execution_count": 11,
   "metadata": {},
   "outputs": [],
   "source": [
    "filtered_null_step1= null_df[null_df['Number Employees'].notnull()]"
   ]
  },
  {
   "cell_type": "code",
   "execution_count": 12,
   "metadata": {},
   "outputs": [],
   "source": [
    "#filtered_null_step1.loc[282]['Number Employees']"
   ]
  },
  {
   "cell_type": "code",
   "execution_count": 13,
   "metadata": {},
   "outputs": [
    {
     "data": {
      "text/plain": [
       "(5542, 126)"
      ]
     },
     "execution_count": 13,
     "metadata": {},
     "output_type": "execute_result"
    }
   ],
   "source": [
    "filtered_null_step1.shape\n",
    "# AS seenm, we removed a total of nine rows. Our dataset shape is now 5542 rowns (previously 5551 rows)"
   ]
  },
  {
   "cell_type": "code",
   "execution_count": 14,
   "metadata": {},
   "outputs": [
    {
     "data": {
      "text/plain": [
       "% Unprofitable Banks                  5542\n",
       "% Banks with Earnings Gains           5542\n",
       "Trading Acct Gains Fees               3689\n",
       "Earnings Cov Net Chargeoffs           2334\n",
       "namehcr                               1242\n",
       "Credit Loss Prov to Chargeoffs         682\n",
       "Loan Loss Allow to noncurr Loans       569\n",
       "Noncurrent Loans to Loans               37\n",
       "Loss Allow to Loans                     37\n",
       "Net Chargeoffs to Loans                 36\n",
       "Average Total Loans                     36\n",
       "Net Loans Lease to core deposits        15\n",
       "Assets per Emp                          12\n",
       "Cash Div to Net Inc                      2\n",
       "% Insured                                1\n",
       "Average earning assets                   1\n",
       "Net Loans Lease to Deposits              1\n",
       "Net Interest Margin                      1\n",
       "Cost of Funding Earnings Assets          1\n",
       "Yield on Earning Assets                  1\n",
       "Earning Assets                           0\n",
       "Life Insurance Assets                    0\n",
       "Subordinated Debt                        0\n",
       "Adjusted Average Assets                  0\n",
       "Total Risk Weighted Assets               0\n",
       "Average Assets Quart                     0\n",
       "Average Total Assets                     0\n",
       "All Other Liabilities                    0\n",
       "Long-term Assets                         0\n",
       "Income Earned                            0\n",
       "                                      ... \n",
       "Net Charge-offs                          0\n",
       "Cash Dividends                           0\n",
       "Average Total Assets.1                   0\n",
       "Total risk based  Capt ratio             0\n",
       "Volatile Liabilities                     0\n",
       "Tier 1-based risk capital                0\n",
       "Insider Loans                            0\n",
       "FHLB advances                            0\n",
       "Loans Leases held for sale               0\n",
       "Unused Loan Commitments                  0\n",
       "Tier One Capital                         0\n",
       "Tier 2 Risk-based capital                0\n",
       "Sale Conversion Ret Stock                0\n",
       "Derivatives                              0\n",
       "NonInterest Inc to Ave Asset             0\n",
       "NonInterest Exp to Ave Asset             0\n",
       "Loan Lease Loss Prov to Assets           0\n",
       "Net Op Inc to Assets                     0\n",
       "Return On Assets                         0\n",
       "Pretax ROA                               0\n",
       "Return on Equity                         0\n",
       "RE to Ave Equity                         0\n",
       "Efficiency Ratio                         0\n",
       "Earning Assets to Total Asst Ratio       0\n",
       "Noncurr Assets Other RE                  0\n",
       "Net Loans Lease to Tot Assets            0\n",
       "Tot Dom Deposits to Tot Assets           0\n",
       "Equity to Assets                         0\n",
       "Core Capital Ratio                       0\n",
       "Cert                                     0\n",
       "Length: 126, dtype: int64"
      ]
     },
     "execution_count": 14,
     "metadata": {},
     "output_type": "execute_result"
    }
   ],
   "source": [
    "filtered_null_step1.isnull().sum().sort_values(ascending=False)"
   ]
  },
  {
   "cell_type": "code",
   "execution_count": null,
   "metadata": {},
   "outputs": [],
   "source": []
  },
  {
   "cell_type": "markdown",
   "metadata": {},
   "source": [
    "### Dropping Columns containing >80% of nulls"
   ]
  },
  {
   "cell_type": "code",
   "execution_count": 15,
   "metadata": {},
   "outputs": [],
   "source": [
    "null_df = filtered_null_step1.columns[filtered_null_step1.isna().any()].tolist()"
   ]
  },
  {
   "cell_type": "code",
   "execution_count": 16,
   "metadata": {},
   "outputs": [
    {
     "data": {
      "text/plain": [
       "['namehcr',\n",
       " '% Insured',\n",
       " '% Unprofitable Banks',\n",
       " '% Banks with Earnings Gains',\n",
       " 'Yield on Earning Assets',\n",
       " 'Cost of Funding Earnings Assets',\n",
       " 'Net Interest Margin',\n",
       " 'Net Chargeoffs to Loans',\n",
       " 'Credit Loss Prov to Chargeoffs',\n",
       " 'Earnings Cov Net Chargeoffs',\n",
       " 'Assets per Emp',\n",
       " 'Cash Div to Net Inc',\n",
       " 'Loss Allow to Loans',\n",
       " 'Loan Loss Allow to noncurr Loans',\n",
       " 'Noncurrent Loans to Loans',\n",
       " 'Net Loans Lease to Deposits',\n",
       " 'Net Loans Lease to core deposits',\n",
       " 'Average earning assets',\n",
       " 'Average Total Loans',\n",
       " 'Trading Acct Gains Fees']"
      ]
     },
     "execution_count": 16,
     "metadata": {},
     "output_type": "execute_result"
    }
   ],
   "source": [
    "#List of columns containing nulls\n",
    "null_df"
   ]
  },
  {
   "cell_type": "markdown",
   "metadata": {},
   "source": [
    "### Dropping Columns containing >80% of nulls"
   ]
  },
  {
   "cell_type": "code",
   "execution_count": 17,
   "metadata": {},
   "outputs": [],
   "source": [
    "#filtered_null_step2 = filtered_null_step1.dropna(thresh=500, axis=1)  #Keep only the rows with at least 500 non-na values"
   ]
  },
  {
   "cell_type": "code",
   "execution_count": 18,
   "metadata": {},
   "outputs": [],
   "source": [
    "filtered_null_step2 = filtered_null_step1.dropna(thresh=0.8*len(filtered_null_step1), axis=1)"
   ]
  },
  {
   "cell_type": "code",
   "execution_count": 19,
   "metadata": {},
   "outputs": [],
   "source": [
    "#filtered_null_step2 = filtered_null_step1.loc[:, filtered_null_step1.isnull().sum() < 0.8*filtered_null_step1.shape[0]]"
   ]
  },
  {
   "cell_type": "code",
   "execution_count": 20,
   "metadata": {},
   "outputs": [
    {
     "data": {
      "text/plain": [
       "(5542, 121)"
      ]
     },
     "execution_count": 20,
     "metadata": {},
     "output_type": "execute_result"
    }
   ],
   "source": [
    "filtered_null_step2.shape"
   ]
  },
  {
   "cell_type": "code",
   "execution_count": 30,
   "metadata": {},
   "outputs": [
    {
     "data": {
      "text/plain": [
       "Credit Loss Prov to Chargeoffs        682\n",
       "Loan Loss Allow to noncurr Loans      569\n",
       "Noncurrent Loans to Loans              37\n",
       "Loss Allow to Loans                    37\n",
       "Net Chargeoffs to Loans                36\n",
       "Average Total Loans                    36\n",
       "Net Loans Lease to core deposits       15\n",
       "Assets per Emp                         12\n",
       "Cash Div to Net Inc                     2\n",
       "Yield on Earning Assets                 1\n",
       "Cost of Funding Earnings Assets         1\n",
       "Net Interest Margin                     1\n",
       "Average earning assets                  1\n",
       "% Insured                               1\n",
       "Net Loans Lease to Deposits             1\n",
       "Bank Equity                             0\n",
       "All Other Liabilities                   0\n",
       "Total Equity                            0\n",
       "Subordinated Debt                       0\n",
       "Net Operating Income                    0\n",
       "Perpertual Pref Stock                   0\n",
       "Other Borrowed Funds                    0\n",
       "Surplus                                 0\n",
       "Undivided Profits                       0\n",
       "Equity Minor Interest                   0\n",
       "Noncurrent Loans Leases                 0\n",
       "Noncurrent Loans Leases Guaranteed      0\n",
       "Income Earned                           0\n",
       "Earning Assets                          0\n",
       "Long-term Assets                        0\n",
       "                                     ... \n",
       "Net Charge-offs                         0\n",
       "Cash Dividends                          0\n",
       "Average Total Assets.1                  0\n",
       "Total risk based  Capt ratio            0\n",
       "Volatile Liabilities                    0\n",
       "Tier 1-based risk capital               0\n",
       "Insider Loans                           0\n",
       "FHLB advances                           0\n",
       "Loans Leases held for sale              0\n",
       "Unused Loan Commitments                 0\n",
       "Tier One Capital                        0\n",
       "Sale Conversion Ret Stock               0\n",
       "Total Unused Commitments                0\n",
       "Derivatives                             0\n",
       "NonInterest Inc to Ave Asset            0\n",
       "NonInterest Exp to Ave Asset            0\n",
       "Loan Lease Loss Prov to Assets          0\n",
       "Net Op Inc to Assets                    0\n",
       "Return On Assets                        0\n",
       "Pretax ROA                              0\n",
       "Return on Equity                        0\n",
       "RE to Ave Equity                        0\n",
       "Efficiency Ratio                        0\n",
       "Earning Assets to Total Asst Ratio      0\n",
       "Noncurr Assets Other RE                 0\n",
       "Net Loans Lease to Tot Assets           0\n",
       "Tot Dom Deposits to Tot Assets          0\n",
       "Equity to Assets                        0\n",
       "Core Capital Ratio                      0\n",
       "Cert                                    0\n",
       "Length: 121, dtype: int64"
      ]
     },
     "execution_count": 30,
     "metadata": {},
     "output_type": "execute_result"
    }
   ],
   "source": [
    "filtered_null_step2.isnull().sum().sort_values(ascending=False)"
   ]
  },
  {
   "cell_type": "code",
   "execution_count": 22,
   "metadata": {},
   "outputs": [],
   "source": [
    "null_df_1 = filtered_null_step2.columns[filtered_null_step2.isna().any()].tolist()"
   ]
  },
  {
   "cell_type": "code",
   "execution_count": 23,
   "metadata": {},
   "outputs": [
    {
     "data": {
      "text/plain": [
       "['% Insured',\n",
       " 'Yield on Earning Assets',\n",
       " 'Cost of Funding Earnings Assets',\n",
       " 'Net Interest Margin',\n",
       " 'Net Chargeoffs to Loans',\n",
       " 'Credit Loss Prov to Chargeoffs',\n",
       " 'Assets per Emp',\n",
       " 'Cash Div to Net Inc',\n",
       " 'Loss Allow to Loans',\n",
       " 'Loan Loss Allow to noncurr Loans',\n",
       " 'Noncurrent Loans to Loans',\n",
       " 'Net Loans Lease to Deposits',\n",
       " 'Net Loans Lease to core deposits',\n",
       " 'Average earning assets',\n",
       " 'Average Total Loans']"
      ]
     },
     "execution_count": 23,
     "metadata": {},
     "output_type": "execute_result"
    }
   ],
   "source": [
    "null_df_1"
   ]
  },
  {
   "cell_type": "code",
   "execution_count": 24,
   "metadata": {},
   "outputs": [],
   "source": [
    "#msno.matrix(filtered_null_step2)"
   ]
  },
  {
   "cell_type": "markdown",
   "metadata": {},
   "source": [
    "### Fill out Columns containing nulls > 500 with its mean value"
   ]
  },
  {
   "cell_type": "code",
   "execution_count": 25,
   "metadata": {},
   "outputs": [
    {
     "data": {
      "text/plain": [
       "count      4860.000000\n",
       "mean         49.740703\n",
       "std        4265.386256\n",
       "min     -117500.000000\n",
       "25%           0.000000\n",
       "50%          60.000000\n",
       "75%         222.222222\n",
       "max       80000.000000\n",
       "Name: Credit Loss Prov to Chargeoffs, dtype: float64"
      ]
     },
     "execution_count": 25,
     "metadata": {},
     "output_type": "execute_result"
    }
   ],
   "source": [
    "filtered_null_step2[\"Credit Loss Prov to Chargeoffs\"].describe()"
   ]
  },
  {
   "cell_type": "code",
   "execution_count": 29,
   "metadata": {},
   "outputs": [
    {
     "data": {
      "text/plain": [
       "count      4973.000000\n",
       "mean       1062.504461\n",
       "std        6091.322654\n",
       "min           0.000000\n",
       "25%          86.327260\n",
       "50%         175.291375\n",
       "75%         431.611111\n",
       "max      140700.000000\n",
       "Name: Loan Loss Allow to noncurr Loans, dtype: float64"
      ]
     },
     "execution_count": 29,
     "metadata": {},
     "output_type": "execute_result"
    }
   ],
   "source": [
    "filtered_null_step2[\"Loan Loss Allow to noncurr Loans\"].describe()"
   ]
  },
  {
   "cell_type": "code",
   "execution_count": 36,
   "metadata": {},
   "outputs": [
    {
     "data": {
      "text/plain": [
       "<matplotlib.axes._subplots.AxesSubplot at 0x7f0d3cdd7518>"
      ]
     },
     "execution_count": 36,
     "metadata": {},
     "output_type": "execute_result"
    },
    {
     "data": {
      "image/png": "[encoded data removed]",
      "text/plain": [
       "<Figure size 2160x1296 with 1 Axes>"
      ]
     },
     "metadata": {
      "needs_background": "light"
     },
     "output_type": "display_data"
    }
   ],
   "source": [
    "fig = plt.figure(figsize=(30,18))\n",
    "sns.heatmap(filtered_null_step2.isnull(),yticklabels=False,cbar=False,cmap='viridis')\n"
   ]
  },
  {
   "cell_type": "code",
   "execution_count": 35,
   "metadata": {},
   "outputs": [
    {
     "data": {
      "text/plain": [
       "(5542, 121)"
      ]
     },
     "execution_count": 35,
     "metadata": {},
     "output_type": "execute_result"
    }
   ],
   "source": [
    "filtered_null_step2.shape\n",
    "# As seen, we removed a total of five columns."
   ]
  },
  {
   "cell_type": "code",
   "execution_count": null,
   "metadata": {},
   "outputs": [],
   "source": [
    "filtered_null_step2.isnull().sum().sort_values(ascending=False)\n",
    "#filtered_null_step2 = filtered_null_step2.iloc[filtered_null_step2.isnull().sum(1).sort_values(ascending=0).index]"
   ]
  },
  {
   "cell_type": "code",
   "execution_count": 51,
   "metadata": {},
   "outputs": [
    {
     "data": {
      "text/plain": [
       "0          34.189316\n",
       "1        2922.222222\n",
       "2        1062.504461\n",
       "3        1484.415584\n",
       "4          56.932153\n",
       "5          60.877514\n",
       "6         113.526808\n",
       "7         116.981132\n",
       "8        3243.939394\n",
       "9         234.765101\n",
       "10         85.102421\n",
       "11         95.343880\n",
       "12         22.815853\n",
       "13         14.432234\n",
       "14        270.689655\n",
       "15        194.622996\n",
       "16         70.973783\n",
       "17       1845.454545\n",
       "18        280.971605\n",
       "19         89.197861\n",
       "20         67.391304\n",
       "21        222.331567\n",
       "22         49.754501\n",
       "23        146.372240\n",
       "24         71.578187\n",
       "25       1143.670886\n",
       "26         57.894737\n",
       "27       3238.333333\n",
       "28       1006.451613\n",
       "29         94.301471\n",
       "            ...     \n",
       "5521      167.446211\n",
       "5522     1155.982275\n",
       "5523      360.321716\n",
       "5524       83.718604\n",
       "5525      101.461039\n",
       "5526      107.672634\n",
       "5527      134.995383\n",
       "5528       42.310068\n",
       "5529      278.335535\n",
       "5530       31.184408\n",
       "5531      182.659523\n",
       "5532      128.894298\n",
       "5533      276.565465\n",
       "5534       87.124464\n",
       "5535     1669.090909\n",
       "5536       68.675519\n",
       "5537     1062.504461\n",
       "5538     1062.504461\n",
       "5539    14383.333330\n",
       "5540     1558.510638\n",
       "5541      224.462200\n",
       "5542      235.317460\n",
       "5543      228.605769\n",
       "5544      759.473684\n",
       "5545      148.556742\n",
       "5546      659.090909\n",
       "5547     1062.504461\n",
       "5548       28.792987\n",
       "5549     1062.504461\n",
       "5550      140.832765\n",
       "Name: Loan Loss Allow to noncurr Loans, Length: 5542, dtype: float64"
      ]
     },
     "execution_count": 51,
     "metadata": {},
     "output_type": "execute_result"
    }
   ],
   "source": [
    "filtered_null_step2['Loan Loss Allow to noncurr Loans'].fillna(value=filtered_null_step2['Loan Loss Allow to noncurr Loans'].mean())"
   ]
  },
  {
   "cell_type": "code",
   "execution_count": 52,
   "metadata": {},
   "outputs": [
    {
     "data": {
      "text/plain": [
       "0         77.083333\n",
       "1       -300.000000\n",
       "2          0.000000\n",
       "3        375.000000\n",
       "4        142.857143\n",
       "5         49.740703\n",
       "6        389.830509\n",
       "7          0.000000\n",
       "8        -80.000000\n",
       "9        294.500000\n",
       "10        49.740703\n",
       "11     -1285.714286\n",
       "12         0.000000\n",
       "13        49.740703\n",
       "14        29.069767\n",
       "15        70.218623\n",
       "16      2200.000000\n",
       "17     -5333.333333\n",
       "18      1796.033403\n",
       "19        21.968366\n",
       "20        49.740703\n",
       "21       317.073171\n",
       "22       312.500000\n",
       "23        49.740703\n",
       "24       148.305085\n",
       "25        49.740703\n",
       "26       263.157895\n",
       "27         0.000000\n",
       "28        49.740703\n",
       "29         0.000000\n",
       "           ...     \n",
       "5521     461.538462\n",
       "5522      35.442436\n",
       "5523       0.000000\n",
       "5524     362.277981\n",
       "5525    -375.000000\n",
       "5526    -146.341463\n",
       "5527      69.565217\n",
       "5528      49.740703\n",
       "5529       0.000000\n",
       "5530     228.571429\n",
       "5531     566.037736\n",
       "5532      49.740703\n",
       "5533    -143.820225\n",
       "5534      49.740703\n",
       "5535      49.740703\n",
       "5536     517.857143\n",
       "5537      49.740703\n",
       "5538      49.740703\n",
       "5539       0.000000\n",
       "5540     -47.368421\n",
       "5541      49.740703\n",
       "5542    1400.000000\n",
       "5543     375.000000\n",
       "5544     250.000000\n",
       "5545   -3333.333333\n",
       "5546    -800.000000\n",
       "5547      49.740703\n",
       "5548     100.000000\n",
       "5549       0.000000\n",
       "5550     521.959611\n",
       "Name: Credit Loss Prov to Chargeoffs, Length: 5542, dtype: float64"
      ]
     },
     "execution_count": 52,
     "metadata": {},
     "output_type": "execute_result"
    }
   ],
   "source": [
    "filtered_null_step2['Credit Loss Prov to Chargeoffs'].fillna(value=filtered_null_step2['Credit Loss Prov to Chargeoffs'].mean())"
   ]
  },
  {
   "cell_type": "code",
   "execution_count": 53,
   "metadata": {},
   "outputs": [
    {
     "data": {
      "text/plain": [
       "Credit Loss Prov to Chargeoffs        682\n",
       "Loss Allow to Loans                    37\n",
       "Noncurrent Loans to Loans              37\n",
       "Net Chargeoffs to Loans                36\n",
       "Average Total Loans                    36\n",
       "Net Loans Lease to core deposits       15\n",
       "Assets per Emp                         12\n",
       "Cash Div to Net Inc                     2\n",
       "Yield on Earning Assets                 1\n",
       "Cost of Funding Earnings Assets         1\n",
       "Net Interest Margin                     1\n",
       "Average earning assets                  1\n",
       "% Insured                               1\n",
       "Net Loans Lease to Deposits             1\n",
       "Total Equity                            0\n",
       "Perpertual Pref Stock                   0\n",
       "All Other Liabilities                   0\n",
       "Bank Equity                             0\n",
       "Subordinated Debt                       0\n",
       "Net Operating Income                    0\n",
       "Common Stock                            0\n",
       "Other Borrowed Funds                    0\n",
       "Undivided Profits                       0\n",
       "Equity Minor Interest                   0\n",
       "Noncurrent Loans Leases                 0\n",
       "Noncurrent Loans Leases Guaranteed      0\n",
       "Income Earned                           0\n",
       "Earning Assets                          0\n",
       "Long-term Assets                        0\n",
       "Average Total Assets                    0\n",
       "                                     ... \n",
       "Net Charge-offs                         0\n",
       "Cash Dividends                          0\n",
       "Average Total Assets.1                  0\n",
       "Total risk based  Capt ratio            0\n",
       "Insider Loans                           0\n",
       "Tier 1-based risk capital               0\n",
       "FHLB advances                           0\n",
       "Loans Leases held for sale              0\n",
       "Unused Loan Commitments                 0\n",
       "Tier One Capital                        0\n",
       "Sale Conversion Ret Stock               0\n",
       "Total Unused Commitments                0\n",
       "Derivatives                             0\n",
       "NonInterest Inc to Ave Asset            0\n",
       "NonInterest Exp to Ave Asset            0\n",
       "Loan Lease Loss Prov to Assets          0\n",
       "Net Op Inc to Assets                    0\n",
       "Return On Assets                        0\n",
       "Pretax ROA                              0\n",
       "Return on Equity                        0\n",
       "RE to Ave Equity                        0\n",
       "Efficiency Ratio                        0\n",
       "Earning Assets to Total Asst Ratio      0\n",
       "Loan Loss Allow to noncurr Loans        0\n",
       "Noncurr Assets Other RE                 0\n",
       "Net Loans Lease to Tot Assets           0\n",
       "Tot Dom Deposits to Tot Assets          0\n",
       "Equity to Assets                        0\n",
       "Core Capital Ratio                      0\n",
       "Cert                                    0\n",
       "Length: 121, dtype: int64"
      ]
     },
     "execution_count": 53,
     "metadata": {},
     "output_type": "execute_result"
    }
   ],
   "source": [
    "filtered_null_step2.isnull().sum().sort_values(ascending=False)"
   ]
  },
  {
   "cell_type": "code",
   "execution_count": null,
   "metadata": {},
   "outputs": [],
   "source": []
  }
 ],
 "metadata": {
  "kernelspec": {
   "display_name": "Python 3",
   "language": "python",
   "name": "python3"
  },
  "language_info": {
   "codemirror_mode": {
    "name": "ipython",
    "version": 3
   },
   "file_extension": ".py",
   "mimetype": "text/x-python",
   "name": "python",
   "nbconvert_exporter": "python",
   "pygments_lexer": "ipython3",
   "version": "3.6.6"
  }
 },
 "nbformat": 4,
 "nbformat_minor": 2
}
