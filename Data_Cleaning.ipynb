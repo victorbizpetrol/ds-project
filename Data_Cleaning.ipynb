{
 "cells": [
  {
   "cell_type": "code",
   "execution_count": 1,
   "metadata": {},
   "outputs": [],
   "source": [
    "import pandas as pd\n",
    "import numpy as np\n",
    "import matplotlib.pyplot as plt\n",
    "import seaborn as sns\n",
    "%matplotlib inline\n",
    "import missingno as msno  ##pip install missingno\n",
    "\n",
    "pd.set_option('display.max_rows', 500) # your numbers here\n",
    "pd.set_option('display.max_columns', 500)"
   ]
  },
  {
   "cell_type": "markdown",
   "metadata": {},
   "source": [
    "\n",
    "### **Read File**"
   ]
  },
  {
   "cell_type": "code",
   "execution_count": 2,
   "metadata": {},
   "outputs": [],
   "source": [
    "null_df = pd.read_csv('Data/car_v2.csv')"
   ]
  },
  {
   "cell_type": "markdown",
   "metadata": {},
   "source": [
    "### **Initial count of Rows and Column**"
   ]
  },
  {
   "cell_type": "code",
   "execution_count": null,
   "metadata": {},
   "outputs": [],
   "source": [
    "null_df.shape"
   ]
  },
  {
   "cell_type": "markdown",
   "metadata": {},
   "source": [
    "### **Are there duplicate rows?**"
   ]
  },
  {
   "cell_type": "code",
   "execution_count": null,
   "metadata": {},
   "outputs": [],
   "source": [
    "null_df.duplicated()"
   ]
  },
  {
   "cell_type": "markdown",
   "metadata": {},
   "source": [
    "\n",
    "### **Count of null at the Columns level **"
   ]
  },
  {
   "cell_type": "markdown",
   "metadata": {},
   "source": [
    "### There are 127 rows and some rows with null values. Many of these null rows have a count of only nine nulls "
   ]
  },
  {
   "cell_type": "code",
   "execution_count": null,
   "metadata": {},
   "outputs": [],
   "source": [
    "null_df.isnull().sum().count()"
   ]
  },
  {
   "cell_type": "code",
   "execution_count": null,
   "metadata": {},
   "outputs": [],
   "source": [
    "#null_df.isnull().sum()\n",
    "null_df.isnull().sum().sort_values(ascending=False)"
   ]
  },
  {
   "cell_type": "code",
   "execution_count": null,
   "metadata": {},
   "outputs": [],
   "source": [
    "# Let's find out how missing data do we have\n",
    "\n",
    "# First, let's count the number of null values\n",
    "total = null_df.isnull().sum().sort_values(ascending=False)\n",
    "# Then, let's calculate the percentage of missing data per feature\n",
    "percent = (null_df.isnull().sum()/null_df.isnull().count()).sort_values(ascending=False)\n",
    "# Finally, let's concatenate Total and Percent into another dataframe\n",
    "missing_data = pd.concat([total, percent], axis=1, keys=['Total', 'Percent'])\n",
    "missing_data.head(30)"
   ]
  },
  {
   "cell_type": "markdown",
   "metadata": {},
   "source": [
    "\n",
    "### **More Analysis**"
   ]
  },
  {
   "cell_type": "markdown",
   "metadata": {},
   "source": [
    "\n",
    "\n",
    "### Find a pattern: Are there several columns with null values at the same index rows?  "
   ]
  },
  {
   "cell_type": "markdown",
   "metadata": {},
   "source": [
    "###  Retreive the row number for the solitary row which has \"Number Employees\" as null"
   ]
  },
  {
   "cell_type": "code",
   "execution_count": null,
   "metadata": {},
   "outputs": [],
   "source": [
    "null_columns=null_df.columns[null_df.isnull().any()] \n",
    "# Step one - Assign null_columns"
   ]
  },
  {
   "cell_type": "code",
   "execution_count": null,
   "metadata": {},
   "outputs": [],
   "source": [
    "print(null_df[null_df[\"Number Employees\"].isnull()][null_columns])  \n",
    "\n",
    "# Step two - \n",
    "#Are there other columns with null value at the same index than sample column \"Number Employees\"\n",
    "#The answer is Yes. It appears to be several colums with nine null value at the same index as seen in the results below."
   ]
  },
  {
   "cell_type": "markdown",
   "metadata": {},
   "source": [
    "### Removing null values at indexes = 268, 282, 313, 390, 3127, 3194, 4175, 4176, 4380?  "
   ]
  },
  {
   "cell_type": "code",
   "execution_count": null,
   "metadata": {},
   "outputs": [],
   "source": [
    "#Testing null value at index row= 282\n",
    "null_df.loc[282]['Number Employees']"
   ]
  },
  {
   "cell_type": "code",
   "execution_count": null,
   "metadata": {},
   "outputs": [],
   "source": [
    "null_df.shape"
   ]
  },
  {
   "cell_type": "code",
   "execution_count": 3,
   "metadata": {},
   "outputs": [],
   "source": [
    "filtered_null_step1= null_df[null_df['Number Employees'].notnull()]"
   ]
  },
  {
   "cell_type": "code",
   "execution_count": null,
   "metadata": {},
   "outputs": [],
   "source": [
    "#filtered_null_step1.loc[282]['Number Employees']"
   ]
  },
  {
   "cell_type": "code",
   "execution_count": null,
   "metadata": {},
   "outputs": [],
   "source": [
    "filtered_null_step1.shape\n",
    "# AS seenm, we removed a total of nine rows. Our dataset shape is now 5542 rowns (previously 5551 rows)"
   ]
  },
  {
   "cell_type": "code",
   "execution_count": null,
   "metadata": {},
   "outputs": [],
   "source": [
    "filtered_null_step1.isnull().sum().sort_values(ascending=False)"
   ]
  },
  {
   "cell_type": "markdown",
   "metadata": {},
   "source": [
    "### Dropping Columns containing >80% of nulls"
   ]
  },
  {
   "cell_type": "code",
   "execution_count": 4,
   "metadata": {},
   "outputs": [],
   "source": [
    "null_df = filtered_null_step1.columns[filtered_null_step1.isna().any()].tolist()"
   ]
  },
  {
   "cell_type": "code",
   "execution_count": null,
   "metadata": {},
   "outputs": [],
   "source": [
    "#List of columns containing nulls\n",
    "null_df"
   ]
  },
  {
   "cell_type": "markdown",
   "metadata": {},
   "source": [
    "### Dropping Columns containing >80% of nulls"
   ]
  },
  {
   "cell_type": "markdown",
   "metadata": {},
   "source": [
    "filtered_null_step2 = filtered_null_step1.dropna(thresh=500, axis=1)  #Keep only the rows with at least 500 non-na values"
   ]
  },
  {
   "cell_type": "code",
   "execution_count": 5,
   "metadata": {},
   "outputs": [],
   "source": [
    "filtered_null_step2 = filtered_null_step1.dropna(thresh=0.8*len(filtered_null_step1), axis=1)"
   ]
  },
  {
   "cell_type": "code",
   "execution_count": null,
   "metadata": {},
   "outputs": [],
   "source": [
    "#filtered_null_step2 = filtered_null_step1.loc[:, filtered_null_step1.isnull().sum() < 0.8*filtered_null_step1.shape[0]]"
   ]
  },
  {
   "cell_type": "code",
   "execution_count": null,
   "metadata": {},
   "outputs": [],
   "source": [
    "filtered_null_step2.shape"
   ]
  },
  {
   "cell_type": "code",
   "execution_count": null,
   "metadata": {},
   "outputs": [],
   "source": [
    "filtered_null_step2.isnull().sum().sort_values(ascending=False)"
   ]
  },
  {
   "cell_type": "code",
   "execution_count": null,
   "metadata": {},
   "outputs": [],
   "source": [
    "#How to create a list with columns containing nulls\n",
    "#null_df_1 = filtered_null_step2.columns[filtered_null_step2.isna().any()].tolist()"
   ]
  },
  {
   "cell_type": "code",
   "execution_count": null,
   "metadata": {},
   "outputs": [],
   "source": [
    "#null_df_1"
   ]
  },
  {
   "cell_type": "code",
   "execution_count": null,
   "metadata": {},
   "outputs": [],
   "source": [
    "#msno.matrix(filtered_null_step2)"
   ]
  },
  {
   "cell_type": "markdown",
   "metadata": {},
   "source": [
    "### Fill out Columns containing nulls > 500 with its mean value"
   ]
  },
  {
   "cell_type": "code",
   "execution_count": null,
   "metadata": {},
   "outputs": [],
   "source": [
    "filtered_null_step2[\"Credit Loss Prov to Chargeoffs\"].describe()"
   ]
  },
  {
   "cell_type": "code",
   "execution_count": null,
   "metadata": {},
   "outputs": [],
   "source": [
    "filtered_null_step2[\"Loan Loss Allow to noncurr Loans\"].describe()"
   ]
  },
  {
   "cell_type": "code",
   "execution_count": null,
   "metadata": {},
   "outputs": [],
   "source": [
    "#This vizualization usually crashes. I will pause it for now.\n",
    "#fig = plt.figure(figsize=(30,18))\n",
    "#sns.heatmap(filtered_null_step2.isnull(),yticklabels=False,cbar=False,cmap='viridis')\n"
   ]
  },
  {
   "cell_type": "code",
   "execution_count": null,
   "metadata": {},
   "outputs": [],
   "source": [
    "filtered_null_step2.shape\n",
    "# As seen, we removed a total of five columns."
   ]
  },
  {
   "cell_type": "code",
   "execution_count": null,
   "metadata": {},
   "outputs": [],
   "source": [
    "\n",
    "#filtered_null_step2.isnull().sum().sort_values(ascending=False)\n",
    "#filtered_null_step2 = filtered_null_step2.iloc[filtered_null_step2.isnull().sum(1).sort_values(ascending=0).index]"
   ]
  },
  {
   "cell_type": "code",
   "execution_count": null,
   "metadata": {},
   "outputs": [],
   "source": [
    "filtered_null_step2.head()"
   ]
  },
  {
   "cell_type": "markdown",
   "metadata": {},
   "source": [
    "### Let's do a Data Segmentation and apply mean for remaining nulls"
   ]
  },
  {
   "cell_type": "code",
   "execution_count": 6,
   "metadata": {},
   "outputs": [
    {
     "name": "stderr",
     "output_type": "stream",
     "text": [
      "/usr/local/lib/python3.6/site-packages/ipykernel_launcher.py:3: SettingWithCopyWarning: \n",
      "A value is trying to be set on a copy of a slice from a DataFrame.\n",
      "Try using .loc[row_indexer,col_indexer] = value instead\n",
      "\n",
      "See the caveats in the documentation: http://pandas.pydata.org/pandas-docs/stable/indexing.html#indexing-view-versus-copy\n",
      "  This is separate from the ipykernel package so we can avoid doing imports until\n"
     ]
    }
   ],
   "source": [
    "#Small <$50M, Medium = $50M to $50B, Large = $50B to $3T\n",
    "filtered_null_step2['Bank Size'] = pd.cut(filtered_null_step2['Total Assets'], [0,50000, 50000000, 3000000000], \n",
    "labels=['Small', 'Medium', 'Large'])"
   ]
  },
  {
   "cell_type": "markdown",
   "metadata": {},
   "source": [
    "Step 1: Create a list of columns that are type float or int.  We will iterate over these columns and replace nulls \n",
    "with the mean value for the column based on banks segments small, medium and large.\n",
    "\n",
    "Step 2: create a mask for banks that have null values in 'col_name' and are 'Small'...:\n",
    "    \n",
    "Step 3: get mean value for the col_name based on bank size.\n",
    "\n",
    "Step 4: replace nulls with mean value"
   ]
  },
  {
   "cell_type": "code",
   "execution_count": 7,
   "metadata": {},
   "outputs": [],
   "source": [
    "columns = [col_name for col_name, dtype in filtered_null_step2.dtypes.iteritems() if (dtype == np.float or dtype == np.int)]"
   ]
  },
  {
   "cell_type": "code",
   "execution_count": 8,
   "metadata": {},
   "outputs": [
    {
     "data": {
      "text/plain": [
       "Credit Loss Prov to Chargeoffs        200\n",
       "Loan Loss Allow to noncurr Loans      147\n",
       "Net Chargeoffs to Loans                17\n",
       "Noncurrent Loans to Loans              17\n",
       "Average Total Loans                    17\n",
       "Loss Allow to Loans                    17\n",
       "Net Loans Lease to core deposits        8\n",
       "Assets per Emp                          6\n",
       "Cash Div to Net Inc                     2\n",
       "% Insured                               1\n",
       "Average earning assets                  1\n",
       "Cost of Funding Earnings Assets         1\n",
       "Net Interest Margin                     1\n",
       "Net Loans Lease to Deposits             1\n",
       "Yield on Earning Assets                 1\n",
       "Total Equity                            0\n",
       "Perpertual Pref Stock                   0\n",
       "All Other Liabilities                   0\n",
       "Bank Equity                             0\n",
       "Subordinated Debt                       0\n",
       "Bank Size                               0\n",
       "Common Stock                            0\n",
       "Undivided Profits                       0\n",
       "Equity Minor Interest                   0\n",
       "Noncurrent Loans Leases                 0\n",
       "Noncurrent Loans Leases Guaranteed      0\n",
       "Income Earned                           0\n",
       "Earning Assets                          0\n",
       "Long-term Assets                        0\n",
       "Average Total Assets                    0\n",
       "Average Assets Quart                    0\n",
       "Total Risk Weighted Assets              0\n",
       "Adjusted Average Assets                 0\n",
       "Life Insurance Assets                   0\n",
       "General Acct Life Insurance             0\n",
       "Surplus                                 0\n",
       "Other Borrowed Funds                    0\n",
       "Hybrid Life Insurance                   0\n",
       "Total Securities                        0\n",
       "Fed RSSD                                0\n",
       "Bank Name                               0\n",
       "City                                    0\n",
       "State                                   0\n",
       "Zip                                     0\n",
       "Report Date                             0\n",
       "address                                 0\n",
       "offdom                                  0\n",
       "mutual                                  0\n",
       "Number Employees                        0\n",
       "Total Assets                            0\n",
       "Cash & Bal Due DI                       0\n",
       "Cash Balance IB                         0\n",
       "FedFunds Sold Rev Purch                 0\n",
       "Trading Liabilities                     0\n",
       "Net Loans Leases                        0\n",
       "Loan Allowance Loss                     0\n",
       "Trading Acct Assets                     0\n",
       "Bank Premises Fixed Assets              0\n",
       "Other RE Owned                          0\n",
       "Goodwill Intangibles                    0\n",
       "All Other Assets                        0\n",
       "Total Liab Equity                       0\n",
       "Total Liabilities                       0\n",
       "Total Deposits                          0\n",
       "Interest-bearing Deposits               0\n",
       "Deposits Domestic                       0\n",
       "Feds Funds Purchased                    0\n",
       "Separate Acct Life Insurance            0\n",
       "Tier 2 Risk-based capital               0\n",
       "Volatile Liabilities                    0\n",
       "Average Total Assets.1                  0\n",
       "Total Interest Income                   0\n",
       "Total Interest Expense                  0\n",
       "Net Interest Income                     0\n",
       "Provision Loan Lease Losses             0\n",
       "Total NonInterest Income                0\n",
       "Gross Fid Act Income                    0\n",
       "Service Charges Deposit Accts           0\n",
       "Additional NonInterest Income           0\n",
       "Total NonInterest Expense               0\n",
       "Salaries Employee Benefits              0\n",
       "Premises Equipment Expense              0\n",
       "Additional NonInterest Expense          0\n",
       "Pre-tax Net Op Income                   0\n",
       "Securities gains loss                   0\n",
       "Income Tax                              0\n",
       "Income before ext items                 0\n",
       "Extraordinary Gains                     0\n",
       "Net Income                              0\n",
       "Minority Interest NI                    0\n",
       "Net income of bank and min int          0\n",
       "Net Charge-offs                         0\n",
       "Cash Dividends                          0\n",
       "Sale Conversion Ret Stock               0\n",
       "Average equity                          0\n",
       "Common Equity tier 1                    0\n",
       "Insider Loans                           0\n",
       "Total risk based  Capt ratio            0\n",
       "FHLB advances                           0\n",
       "Loans Leases held for sale              0\n",
       "Unused Loan Commitments                 0\n",
       "Tier One Capital                        0\n",
       "Net Operating Income                    0\n",
       "Total Unused Commitments                0\n",
       "Derivatives                             0\n",
       "NonInterest Inc to Ave Asset            0\n",
       "NonInterest Exp to Ave Asset            0\n",
       "Loan Lease Loss Prov to Assets          0\n",
       "Net Op Inc to Assets                    0\n",
       "Return On Assets                        0\n",
       "Pretax ROA                              0\n",
       "Return on Equity                        0\n",
       "RE to Ave Equity                        0\n",
       "Efficiency Ratio                        0\n",
       "Earning Assets to Total Asst Ratio      0\n",
       "Noncurr Assets Other RE                 0\n",
       "Net Loans Lease to Tot Assets           0\n",
       "Tot Dom Deposits to Tot Assets          0\n",
       "Equity to Assets                        0\n",
       "Core Capital Ratio                      0\n",
       "Tier 1-based risk capital               0\n",
       "Cert                                    0\n",
       "dtype: int64"
      ]
     },
     "execution_count": 8,
     "metadata": {},
     "output_type": "execute_result"
    }
   ],
   "source": [
    "filtered_null_step2.loc[filtered_null_step2['Bank Size'] == 'Small'].isnull().sum().sort_values(ascending=False)"
   ]
  },
  {
   "cell_type": "code",
   "execution_count": 32,
   "metadata": {},
   "outputs": [],
   "source": [
    "for col_name in columns:\n",
    "    if filtered_null_step2[col_name].isnull().any():\n",
    "        #Remove nulls for small banks\n",
    "        mask = (filtered_null_step2[col_name].isnull()) & (filtered_null_step2['Bank Size'] == 'Small')\n",
    "        segment_mean = filtered_null_step2.loc[filtered_null_step2['Bank Size'] == 'Small', col_name].mean()\n",
    "        filtered_null_step2.loc[mask, [col_name]] = segment_mean\n",
    "        \n",
    "        #Remove nulls for medium banks\n",
    "        mask = (filtered_null_step2[col_name].isnull()) & (filtered_null_step2['Bank Size'] == 'Medium')\n",
    "        segment_mean = filtered_null_step2.loc[filtered_null_step2['Bank Size'] == 'Medium', col_name].mean()\n",
    "        filtered_null_step2.loc[mask, [col_name]] = segment_mean\n",
    "        \n",
    "        #Remove nulls for large banks\n",
    "        mask = (filtered_null_step2[col_name].isnull()) & (filtered_null_step2['Bank Size'] == 'Large')\n",
    "        segment_mean = filtered_null_step2.loc[filtered_null_step2['Bank Size'] == 'Large', col_name].mean()\n",
    "        filtered_null_step2.loc[mask, [col_name]] = segment_mean"
   ]
  },
  {
   "cell_type": "code",
   "execution_count": 31,
   "metadata": {},
   "outputs": [
    {
     "data": {
      "text/plain": [
       "Loan Loss Allow to noncurr Loans      147\n",
       "Noncurrent Loans to Loans              17\n",
       "Loss Allow to Loans                    17\n",
       "Average Total Loans                    17\n",
       "Net Chargeoffs to Loans                17\n",
       "Net Loans Lease to core deposits        8\n",
       "Assets per Emp                          6\n",
       "Cash Div to Net Inc                     2\n",
       "Net Loans Lease to Deposits             1\n",
       "Net Interest Margin                     1\n",
       "Yield on Earning Assets                 1\n",
       "Cost of Funding Earnings Assets         1\n",
       "Average earning assets                  1\n",
       "% Insured                               1\n",
       "Total Equity                            0\n",
       "All Other Liabilities                   0\n",
       "Bank Equity                             0\n",
       "Subordinated Debt                       0\n",
       "Perpertual Pref Stock                   0\n",
       "Bank Size                               0\n",
       "Common Stock                            0\n",
       "Surplus                                 0\n",
       "Equity Minor Interest                   0\n",
       "Noncurrent Loans Leases                 0\n",
       "Noncurrent Loans Leases Guaranteed      0\n",
       "Income Earned                           0\n",
       "Earning Assets                          0\n",
       "Long-term Assets                        0\n",
       "Average Total Assets                    0\n",
       "Average Assets Quart                    0\n",
       "Total Risk Weighted Assets              0\n",
       "Adjusted Average Assets                 0\n",
       "Life Insurance Assets                   0\n",
       "General Acct Life Insurance             0\n",
       "Undivided Profits                       0\n",
       "Trading Liabilities                     0\n",
       "Other Borrowed Funds                    0\n",
       "Total Securities                        0\n",
       "Fed RSSD                                0\n",
       "Bank Name                               0\n",
       "City                                    0\n",
       "State                                   0\n",
       "Zip                                     0\n",
       "Report Date                             0\n",
       "address                                 0\n",
       "offdom                                  0\n",
       "mutual                                  0\n",
       "Number Employees                        0\n",
       "Total Assets                            0\n",
       "Cash & Bal Due DI                       0\n",
       "Cash Balance IB                         0\n",
       "FedFunds Sold Rev Purch                 0\n",
       "Hybrid Life Insurance                   0\n",
       "Net Loans Leases                        0\n",
       "Loan Allowance Loss                     0\n",
       "Trading Acct Assets                     0\n",
       "Bank Premises Fixed Assets              0\n",
       "Other RE Owned                          0\n",
       "Goodwill Intangibles                    0\n",
       "All Other Assets                        0\n",
       "Total Liab Equity                       0\n",
       "Total Liabilities                       0\n",
       "Total Deposits                          0\n",
       "Interest-bearing Deposits               0\n",
       "Deposits Domestic                       0\n",
       "Feds Funds Purchased                    0\n",
       "Separate Acct Life Insurance            0\n",
       "Tier 2 Risk-based capital               0\n",
       "Volatile Liabilities                    0\n",
       "Premises Equipment Expense              0\n",
       "Average equity                          0\n",
       "Total Interest Income                   0\n",
       "Total Interest Expense                  0\n",
       "Net Interest Income                     0\n",
       "Provision Loan Lease Losses             0\n",
       "Total NonInterest Income                0\n",
       "Gross Fid Act Income                    0\n",
       "Service Charges Deposit Accts           0\n",
       "Additional NonInterest Income           0\n",
       "Total NonInterest Expense               0\n",
       "Salaries Employee Benefits              0\n",
       "Additional NonInterest Expense          0\n",
       "Insider Loans                           0\n",
       "Pre-tax Net Op Income                   0\n",
       "Securities gains loss                   0\n",
       "Income Tax                              0\n",
       "Income before ext items                 0\n",
       "Extraordinary Gains                     0\n",
       "Net Income                              0\n",
       "Minority Interest NI                    0\n",
       "Net income of bank and min int          0\n",
       "Net Charge-offs                         0\n",
       "Cash Dividends                          0\n",
       "Sale Conversion Ret Stock               0\n",
       "Average Total Assets.1                  0\n",
       "Common Equity tier 1                    0\n",
       "Total risk based  Capt ratio            0\n",
       "Tier 1-based risk capital               0\n",
       "FHLB advances                           0\n",
       "Loans Leases held for sale              0\n",
       "Unused Loan Commitments                 0\n",
       "Tier One Capital                        0\n",
       "Net Operating Income                    0\n",
       "Total Unused Commitments                0\n",
       "Derivatives                             0\n",
       "NonInterest Inc to Ave Asset            0\n",
       "NonInterest Exp to Ave Asset            0\n",
       "Loan Lease Loss Prov to Assets          0\n",
       "Net Op Inc to Assets                    0\n",
       "Return On Assets                        0\n",
       "Pretax ROA                              0\n",
       "Return on Equity                        0\n",
       "RE to Ave Equity                        0\n",
       "Credit Loss Prov to Chargeoffs          0\n",
       "Efficiency Ratio                        0\n",
       "Earning Assets to Total Asst Ratio      0\n",
       "Noncurr Assets Other RE                 0\n",
       "Net Loans Lease to Tot Assets           0\n",
       "Tot Dom Deposits to Tot Assets          0\n",
       "Equity to Assets                        0\n",
       "Core Capital Ratio                      0\n",
       "Cert                                    0\n",
       "dtype: int64"
      ]
     },
     "execution_count": 31,
     "metadata": {},
     "output_type": "execute_result"
    }
   ],
   "source": [
    "filtered_null_step2.loc[filtered_null_step2['Bank Size'] == 'Small'].isnull().sum().sort_values(ascending=False)"
   ]
  },
  {
   "cell_type": "code",
   "execution_count": 33,
   "metadata": {},
   "outputs": [
    {
     "data": {
      "text/plain": [
       "Bank Size                             0\n",
       "Trading Liabilities                   0\n",
       "Subordinated Debt                     0\n",
       "All Other Liabilities                 0\n",
       "Total Equity                          0\n",
       "Bank Equity                           0\n",
       "Perpertual Pref Stock                 0\n",
       "Common Stock                          0\n",
       "Surplus                               0\n",
       "Undivided Profits                     0\n",
       "Equity Minor Interest                 0\n",
       "Noncurrent Loans Leases               0\n",
       "Noncurrent Loans Leases Guaranteed    0\n",
       "Income Earned                         0\n",
       "Earning Assets                        0\n",
       "Long-term Assets                      0\n",
       "Average Total Assets                  0\n",
       "Average Assets Quart                  0\n",
       "Total Risk Weighted Assets            0\n",
       "Adjusted Average Assets               0\n",
       "Life Insurance Assets                 0\n",
       "General Acct Life Insurance           0\n",
       "Separate Acct Life Insurance          0\n",
       "Hybrid Life Insurance                 0\n",
       "Volatile Liabilities                  0\n",
       "Insider Loans                         0\n",
       "FHLB advances                         0\n",
       "Loans Leases held for sale            0\n",
       "Unused Loan Commitments               0\n",
       "Other Borrowed Funds                  0\n",
       "Feds Funds Purchased                  0\n",
       "Net Operating Income                  0\n",
       "% Insured                             0\n",
       "Fed RSSD                              0\n",
       "Bank Name                             0\n",
       "City                                  0\n",
       "State                                 0\n",
       "Zip                                   0\n",
       "Report Date                           0\n",
       "address                               0\n",
       "offdom                                0\n",
       "mutual                                0\n",
       "Number Employees                      0\n",
       "Total Assets                          0\n",
       "Cash & Bal Due DI                     0\n",
       "Cash Balance IB                       0\n",
       "Total Securities                      0\n",
       "FedFunds Sold Rev Purch               0\n",
       "Net Loans Leases                      0\n",
       "Loan Allowance Loss                   0\n",
       "Trading Acct Assets                   0\n",
       "Bank Premises Fixed Assets            0\n",
       "Other RE Owned                        0\n",
       "Goodwill Intangibles                  0\n",
       "All Other Assets                      0\n",
       "Total Liab Equity                     0\n",
       "Total Liabilities                     0\n",
       "Total Deposits                        0\n",
       "Interest-bearing Deposits             0\n",
       "Deposits Domestic                     0\n",
       "Tier One Capital                      0\n",
       "Tier 2 Risk-based capital             0\n",
       "Total Unused Commitments              0\n",
       "Derivatives                           0\n",
       "Average Total Assets.1                0\n",
       "Average earning assets                0\n",
       "Average equity                        0\n",
       "Average Total Loans                   0\n",
       "Total Interest Income                 0\n",
       "Total Interest Expense                0\n",
       "Net Interest Income                   0\n",
       "Provision Loan Lease Losses           0\n",
       "Total NonInterest Income              0\n",
       "Gross Fid Act Income                  0\n",
       "Service Charges Deposit Accts         0\n",
       "Additional NonInterest Income         0\n",
       "Total NonInterest Expense             0\n",
       "Salaries Employee Benefits            0\n",
       "Premises Equipment Expense            0\n",
       "Additional NonInterest Expense        0\n",
       "Pre-tax Net Op Income                 0\n",
       "Securities gains loss                 0\n",
       "Income Tax                            0\n",
       "Income before ext items               0\n",
       "Extraordinary Gains                   0\n",
       "Net Income                            0\n",
       "Minority Interest NI                  0\n",
       "Net income of bank and min int        0\n",
       "Net Charge-offs                       0\n",
       "Cash Dividends                        0\n",
       "Sale Conversion Ret Stock             0\n",
       "Common Equity tier 1                  0\n",
       "Total risk based  Capt ratio          0\n",
       "Tier 1-based risk capital             0\n",
       "Credit Loss Prov to Chargeoffs        0\n",
       "Yield on Earning Assets               0\n",
       "Cost of Funding Earnings Assets       0\n",
       "Net Interest Margin                   0\n",
       "NonInterest Inc to Ave Asset          0\n",
       "NonInterest Exp to Ave Asset          0\n",
       "Loan Lease Loss Prov to Assets        0\n",
       "Net Op Inc to Assets                  0\n",
       "Return On Assets                      0\n",
       "Pretax ROA                            0\n",
       "Return on Equity                      0\n",
       "RE to Ave Equity                      0\n",
       "Net Chargeoffs to Loans               0\n",
       "Efficiency Ratio                      0\n",
       "Core Capital Ratio                    0\n",
       "Assets per Emp                        0\n",
       "Cash Div to Net Inc                   0\n",
       "Earning Assets to Total Asst Ratio    0\n",
       "Loss Allow to Loans                   0\n",
       "Loan Loss Allow to noncurr Loans      0\n",
       "Noncurr Assets Other RE               0\n",
       "Noncurrent Loans to Loans             0\n",
       "Net Loans Lease to Tot Assets         0\n",
       "Net Loans Lease to Deposits           0\n",
       "Net Loans Lease to core deposits      0\n",
       "Tot Dom Deposits to Tot Assets        0\n",
       "Equity to Assets                      0\n",
       "Cert                                  0\n",
       "dtype: int64"
      ]
     },
     "execution_count": 33,
     "metadata": {},
     "output_type": "execute_result"
    }
   ],
   "source": [
    "filtered_null_step2.isnull().sum().sort_values(ascending=False)"
   ]
  },
  {
   "cell_type": "code",
   "execution_count": 34,
   "metadata": {},
   "outputs": [],
   "source": [
    "filtered_null_step2.to_csv('Data/car_v3.csv')"
   ]
  }
 ],
 "metadata": {
  "kernelspec": {
   "display_name": "Python 3",
   "language": "python",
   "name": "python3"
  },
  "language_info": {
   "codemirror_mode": {
    "name": "ipython",
    "version": 3
   },
   "file_extension": ".py",
   "mimetype": "text/x-python",
   "name": "python",
   "nbconvert_exporter": "python",
   "pygments_lexer": "ipython3",
   "version": "3.6.6"
  }
 },
 "nbformat": 4,
 "nbformat_minor": 2
}
