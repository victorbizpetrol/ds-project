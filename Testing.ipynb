{
 "cells": [
  {
   "cell_type": "code",
   "execution_count": 81,
   "metadata": {},
   "outputs": [],
   "source": [
    "import io\n",
    "import pandas as pd\n",
    "import requests\n",
    "from pprint import pprint\n",
    "import json\n",
    "import sqlite3"
   ]
  },
  {
   "cell_type": "code",
   "execution_count": 82,
   "metadata": {},
   "outputs": [],
   "source": [
    "#Get Banks in California\n",
    "params={\n",
    "    'filters': 'STALP:CA AND ACTIVE:1',\n",
    "    'fields': 'ZIP,CITY,STNAME,NAME,CERT',\n",
    "    'limit': 10,\n",
    "    'offset':0\n",
    "}\n",
    "\n",
    "resp = requests.get('https://banks.data.fdic.gov/api/institutions', \n",
    "                    params, headers={'Accept': 'json'}, stream=True)"
   ]
  },
  {
   "cell_type": "code",
   "execution_count": 10,
   "metadata": {},
   "outputs": [
    {
     "name": "stdout",
     "output_type": "stream",
     "text": [
      "{'data': [{'data': {'CERT': '1536',\n",
      "                    'CITY': 'Stockton',\n",
      "                    'NAME': 'Bank of Stockton',\n",
      "                    'STNAME': 'California',\n",
      "                    'ZIP': '95202'}},\n",
      "          {'data': {'CERT': '21956',\n",
      "                    'CITY': 'Santa Barbara',\n",
      "                    'NAME': 'Montecito Bank & Trust',\n",
      "                    'STNAME': 'California',\n",
      "                    'ZIP': '93101'}},\n",
      "          {'data': {'CERT': '22366',\n",
      "                    'CITY': 'Los Angeles',\n",
      "                    'NAME': 'GBC International Bank',\n",
      "                    'STNAME': 'California',\n",
      "                    'ZIP': '90036'}},\n",
      "          {'data': {'CERT': '22460',\n",
      "                    'CITY': 'Monterey',\n",
      "                    'NAME': 'Monterey County Bank',\n",
      "                    'STNAME': 'California',\n",
      "                    'ZIP': '93940'}},\n",
      "          {'data': {'CERT': '25648',\n",
      "                    'CITY': 'Long Beach',\n",
      "                    'NAME': 'International City Bank Federal Savings Bank',\n",
      "                    'STNAME': 'California',\n",
      "                    'ZIP': '90802'}},\n",
      "          {'data': {'CERT': '26271',\n",
      "                    'CITY': 'San Diego',\n",
      "                    'NAME': 'Home Bank of California',\n",
      "                    'STNAME': 'California',\n",
      "                    'ZIP': '92123'}},\n",
      "          {'data': {'CERT': '26363',\n",
      "                    'CITY': 'Claremont',\n",
      "                    'NAME': 'Community Commerce Bank',\n",
      "                    'STNAME': 'California',\n",
      "                    'ZIP': '91711'}},\n",
      "          {'data': {'CERT': '23749',\n",
      "                    'CITY': 'San Francisco',\n",
      "                    'NAME': 'Mission National Bank',\n",
      "                    'STNAME': 'California',\n",
      "                    'ZIP': '94103'}},\n",
      "          {'data': {'CERT': '23998',\n",
      "                    'CITY': 'Los Angeles',\n",
      "                    'NAME': 'State Bank of India (California)',\n",
      "                    'STNAME': 'California',\n",
      "                    'ZIP': '90017'}},\n",
      "          {'data': {'CERT': '24332',\n",
      "                    'CITY': 'Los Angeles',\n",
      "                    'NAME': 'First Credit Bank',\n",
      "                    'STNAME': 'California',\n",
      "                    'ZIP': '90069'}}],\n",
      " 'meta': {'index': {'createTimestamp': '2018-11-14T02:00:31Z',\n",
      "                    'name': 'institutions_1542160831903'},\n",
      "          'parameters': {'fields': 'ZIP,CITY,STNAME,NAME,CERT',\n",
      "                         'filters': 'STALP:CA AND ACTIVE:1',\n",
      "                         'limit': '10',\n",
      "                         'offset': '0'},\n",
      "          'total': 155}}\n"
     ]
    }
   ],
   "source": [
    "fdic_data = resp.json()\n",
    "pprint(fdic_data)"
   ]
  },
  {
   "cell_type": "code",
   "execution_count": 7,
   "metadata": {},
   "outputs": [
    {
     "data": {
      "text/plain": [
       "dict_keys(['meta', 'data'])"
      ]
     },
     "execution_count": 7,
     "metadata": {},
     "output_type": "execute_result"
    }
   ],
   "source": [
    "resp.json().keys()"
   ]
  },
  {
   "cell_type": "code",
   "execution_count": 8,
   "metadata": {},
   "outputs": [
    {
     "data": {
      "text/plain": [
       "{'total': 155,\n",
       " 'parameters': {'filters': 'STALP:CA AND ACTIVE:1',\n",
       "  'fields': 'ZIP,CITY,STNAME,NAME,CERT',\n",
       "  'limit': '10',\n",
       "  'offset': '0'},\n",
       " 'index': {'name': 'institutions_1542160831903',\n",
       "  'createTimestamp': '2018-11-14T02:00:31Z'}}"
      ]
     },
     "execution_count": 8,
     "metadata": {},
     "output_type": "execute_result"
    }
   ],
   "source": [
    "resp.json()['meta']"
   ]
  },
  {
   "cell_type": "code",
   "execution_count": 64,
   "metadata": {},
   "outputs": [
    {
     "ename": "TypeError",
     "evalue": "list indices must be integers or slices, not str",
     "output_type": "error",
     "traceback": [
      "\u001b[0;31m---------------------------------------------------------------------------\u001b[0m",
      "\u001b[0;31mTypeError\u001b[0m                                 Traceback (most recent call last)",
      "\u001b[0;32m<ipython-input-64-e8d1bd4c6137>\u001b[0m in \u001b[0;36m<module>\u001b[0;34m\u001b[0m\n\u001b[0;32m----> 1\u001b[0;31m \u001b[0mprint\u001b[0m\u001b[0;34m(\u001b[0m\u001b[0mresp\u001b[0m\u001b[0;34m.\u001b[0m\u001b[0mjson\u001b[0m\u001b[0;34m(\u001b[0m\u001b[0;34m)\u001b[0m\u001b[0;34m[\u001b[0m\u001b[0;34m'data'\u001b[0m\u001b[0;34m]\u001b[0m\u001b[0;34m[\u001b[0m\u001b[0;34m'data'\u001b[0m\u001b[0;34m]\u001b[0m\u001b[0;34m.\u001b[0m\u001b[0mget\u001b[0m\u001b[0;34m(\u001b[0m\u001b[0;34m'ZIP'\u001b[0m\u001b[0;34m)\u001b[0m\u001b[0;34m)\u001b[0m\u001b[0;34m\u001b[0m\u001b[0m\n\u001b[0m",
      "\u001b[0;31mTypeError\u001b[0m: list indices must be integers or slices, not str"
     ]
    }
   ],
   "source": [
    "print(resp.json()['data']['data'].get('ZIP'))"
   ]
  },
  {
   "cell_type": "code",
   "execution_count": 57,
   "metadata": {},
   "outputs": [
    {
     "data": {
      "text/html": [
       "<div>\n",
       "<style scoped>\n",
       "    .dataframe tbody tr th:only-of-type {\n",
       "        vertical-align: middle;\n",
       "    }\n",
       "\n",
       "    .dataframe tbody tr th {\n",
       "        vertical-align: top;\n",
       "    }\n",
       "\n",
       "    .dataframe thead th {\n",
       "        text-align: right;\n",
       "    }\n",
       "</style>\n",
       "<table border=\"1\" class=\"dataframe\">\n",
       "  <thead>\n",
       "    <tr style=\"text-align: right;\">\n",
       "      <th></th>\n",
       "      <th>0</th>\n",
       "    </tr>\n",
       "  </thead>\n",
       "  <tbody>\n",
       "    <tr>\n",
       "      <th>0</th>\n",
       "      <td>Bank of Stockton</td>\n",
       "    </tr>\n",
       "    <tr>\n",
       "      <th>1</th>\n",
       "      <td>Montecito Bank &amp; Trust</td>\n",
       "    </tr>\n",
       "    <tr>\n",
       "      <th>2</th>\n",
       "      <td>GBC International Bank</td>\n",
       "    </tr>\n",
       "    <tr>\n",
       "      <th>3</th>\n",
       "      <td>Monterey County Bank</td>\n",
       "    </tr>\n",
       "    <tr>\n",
       "      <th>4</th>\n",
       "      <td>International City Bank Federal Savings Bank</td>\n",
       "    </tr>\n",
       "    <tr>\n",
       "      <th>5</th>\n",
       "      <td>Home Bank of California</td>\n",
       "    </tr>\n",
       "    <tr>\n",
       "      <th>6</th>\n",
       "      <td>Community Commerce Bank</td>\n",
       "    </tr>\n",
       "    <tr>\n",
       "      <th>7</th>\n",
       "      <td>Mission National Bank</td>\n",
       "    </tr>\n",
       "    <tr>\n",
       "      <th>8</th>\n",
       "      <td>State Bank of India (California)</td>\n",
       "    </tr>\n",
       "    <tr>\n",
       "      <th>9</th>\n",
       "      <td>First Credit Bank</td>\n",
       "    </tr>\n",
       "  </tbody>\n",
       "</table>\n",
       "</div>"
      ],
      "text/plain": [
       "                                              0\n",
       "0                              Bank of Stockton\n",
       "1                        Montecito Bank & Trust\n",
       "2                        GBC International Bank\n",
       "3                          Monterey County Bank\n",
       "4  International City Bank Federal Savings Bank\n",
       "5                       Home Bank of California\n",
       "6                       Community Commerce Bank\n",
       "7                         Mission National Bank\n",
       "8              State Bank of India (California)\n",
       "9                             First Credit Bank"
      ]
     },
     "execution_count": 57,
     "metadata": {},
     "output_type": "execute_result"
    }
   ],
   "source": [
    "pd.DataFrame((d['data'].get('NAME') for d in resp.json()['data']))"
   ]
  },
  {
   "cell_type": "code",
   "execution_count": 83,
   "metadata": {},
   "outputs": [],
   "source": [
    "db = sqlite3.connect('fdicdata.db')"
   ]
  },
  {
   "cell_type": "code",
   "execution_count": 84,
   "metadata": {},
   "outputs": [
    {
     "data": {
      "text/plain": [
       "<sqlite3.Cursor at 0x7f438c5c15e0>"
      ]
     },
     "execution_count": 84,
     "metadata": {},
     "output_type": "execute_result"
    }
   ],
   "source": [
    "# Create bank table\n",
    "db.executescript(\"\"\"\n",
    "drop table if exists banks;\n",
    "create table banks (\n",
    "  id integer primary key autoincrement,\n",
    "  CERT text not null,\n",
    "  CITY textz not null,\n",
    "  NAME text not null,\n",
    "  STNAME text not null,\n",
    "  ZIP integer not null\n",
    ");\n",
    "\"\"\")"
   ]
  },
  {
   "cell_type": "code",
   "execution_count": 85,
   "metadata": {},
   "outputs": [],
   "source": [
    "query = '''INSERT INTO banks (\n",
    "                        CERT, \n",
    "                        CITY, \n",
    "                        NAME,\n",
    "                        STNAME, \n",
    "                        ZIP\n",
    "                        )\n",
    "                VALUES (                  \n",
    "                        :CERT, \n",
    "                        :CITY, \n",
    "                        :NAME,\n",
    "                        :STNAME, \n",
    "                        :ZIP\n",
    "                        );'''\n",
    "\n",
    "for d in resp.json()['data']:\n",
    "    #creates params to be passed to db.execute along with query\n",
    "    bank_params = {\n",
    "        \"CERT\": d['data'].get('CERT'),\n",
    "        \"CITY\": d['data'].get('CITY'),\n",
    "        \"NAME\": d['data'].get('NAME'),\n",
    "        \"STNAME\": d['data'].get('STNAME'),\n",
    "        \"ZIP\": d['data'].get('ZIP')\n",
    "    }\n",
    "    db.execute(query, bank_params)\n",
    "    db.commit()\n"
   ]
  },
  {
   "cell_type": "code",
   "execution_count": 92,
   "metadata": {},
   "outputs": [
    {
     "name": "stdout",
     "output_type": "stream",
     "text": [
      "(1, '1536', 'Stockton', 'Bank of Stockton', 'California', 95202)\n",
      "(2, '22366', 'Los Angeles', 'GBC International Bank', 'California', 90036)\n",
      "(3, '22460', 'Monterey', 'Monterey County Bank', 'California', 93940)\n",
      "(4, '23749', 'San Francisco', 'Mission National Bank', 'California', 94103)\n",
      "(5, '23998', 'Los Angeles', 'State Bank of India (California)', 'California', 90017)\n",
      "(6, '19222', 'Fremont', 'Fremont Bank', 'California', 94538)\n",
      "(7, '21956', 'Santa Barbara', 'Montecito Bank & Trust', 'California', 93101)\n",
      "(8, '24332', 'Los Angeles', 'First Credit Bank', 'California', 90069)\n",
      "(9, '24735', 'Santa Clara', 'Silicon Valley Bank', 'California', 95054)\n",
      "(10, '25648', 'Long Beach', 'International City Bank Federal Savings Bank', 'California', 90802)\n"
     ]
    }
   ],
   "source": [
    "cursor = db.execute(\"SELECT * FROM banks\")\n",
    "\n",
    "for row in cursor:\n",
    "    print(row)\n",
    "\n",
    "#cursor.close()"
   ]
  },
  {
   "cell_type": "code",
   "execution_count": 93,
   "metadata": {},
   "outputs": [
    {
     "data": {
      "text/html": [
       "<div>\n",
       "<style scoped>\n",
       "    .dataframe tbody tr th:only-of-type {\n",
       "        vertical-align: middle;\n",
       "    }\n",
       "\n",
       "    .dataframe tbody tr th {\n",
       "        vertical-align: top;\n",
       "    }\n",
       "\n",
       "    .dataframe thead th {\n",
       "        text-align: right;\n",
       "    }\n",
       "</style>\n",
       "<table border=\"1\" class=\"dataframe\">\n",
       "  <thead>\n",
       "    <tr style=\"text-align: right;\">\n",
       "      <th></th>\n",
       "    </tr>\n",
       "  </thead>\n",
       "  <tbody>\n",
       "  </tbody>\n",
       "</table>\n",
       "</div>"
      ],
      "text/plain": [
       "Empty DataFrame\n",
       "Columns: []\n",
       "Index: []"
      ]
     },
     "execution_count": 93,
     "metadata": {},
     "output_type": "execute_result"
    }
   ],
   "source": [
    "df = pd.DataFrame([row for row in cursor])\n",
    "df.head()"
   ]
  },
  {
   "cell_type": "code",
   "execution_count": 96,
   "metadata": {},
   "outputs": [
    {
     "data": {
      "text/html": [
       "<div>\n",
       "<style scoped>\n",
       "    .dataframe tbody tr th:only-of-type {\n",
       "        vertical-align: middle;\n",
       "    }\n",
       "\n",
       "    .dataframe tbody tr th {\n",
       "        vertical-align: top;\n",
       "    }\n",
       "\n",
       "    .dataframe thead th {\n",
       "        text-align: right;\n",
       "    }\n",
       "</style>\n",
       "<table border=\"1\" class=\"dataframe\">\n",
       "  <thead>\n",
       "    <tr style=\"text-align: right;\">\n",
       "      <th></th>\n",
       "      <th>id</th>\n",
       "      <th>CERT</th>\n",
       "      <th>CITY</th>\n",
       "      <th>NAME</th>\n",
       "      <th>STNAME</th>\n",
       "      <th>ZIP</th>\n",
       "    </tr>\n",
       "  </thead>\n",
       "  <tbody>\n",
       "    <tr>\n",
       "      <th>0</th>\n",
       "      <td>1</td>\n",
       "      <td>1536</td>\n",
       "      <td>Stockton</td>\n",
       "      <td>Bank of Stockton</td>\n",
       "      <td>California</td>\n",
       "      <td>95202</td>\n",
       "    </tr>\n",
       "    <tr>\n",
       "      <th>1</th>\n",
       "      <td>2</td>\n",
       "      <td>22366</td>\n",
       "      <td>Los Angeles</td>\n",
       "      <td>GBC International Bank</td>\n",
       "      <td>California</td>\n",
       "      <td>90036</td>\n",
       "    </tr>\n",
       "    <tr>\n",
       "      <th>2</th>\n",
       "      <td>3</td>\n",
       "      <td>22460</td>\n",
       "      <td>Monterey</td>\n",
       "      <td>Monterey County Bank</td>\n",
       "      <td>California</td>\n",
       "      <td>93940</td>\n",
       "    </tr>\n",
       "    <tr>\n",
       "      <th>3</th>\n",
       "      <td>4</td>\n",
       "      <td>23749</td>\n",
       "      <td>San Francisco</td>\n",
       "      <td>Mission National Bank</td>\n",
       "      <td>California</td>\n",
       "      <td>94103</td>\n",
       "    </tr>\n",
       "    <tr>\n",
       "      <th>4</th>\n",
       "      <td>5</td>\n",
       "      <td>23998</td>\n",
       "      <td>Los Angeles</td>\n",
       "      <td>State Bank of India (California)</td>\n",
       "      <td>California</td>\n",
       "      <td>90017</td>\n",
       "    </tr>\n",
       "    <tr>\n",
       "      <th>5</th>\n",
       "      <td>6</td>\n",
       "      <td>19222</td>\n",
       "      <td>Fremont</td>\n",
       "      <td>Fremont Bank</td>\n",
       "      <td>California</td>\n",
       "      <td>94538</td>\n",
       "    </tr>\n",
       "    <tr>\n",
       "      <th>6</th>\n",
       "      <td>7</td>\n",
       "      <td>21956</td>\n",
       "      <td>Santa Barbara</td>\n",
       "      <td>Montecito Bank &amp; Trust</td>\n",
       "      <td>California</td>\n",
       "      <td>93101</td>\n",
       "    </tr>\n",
       "    <tr>\n",
       "      <th>7</th>\n",
       "      <td>8</td>\n",
       "      <td>24332</td>\n",
       "      <td>Los Angeles</td>\n",
       "      <td>First Credit Bank</td>\n",
       "      <td>California</td>\n",
       "      <td>90069</td>\n",
       "    </tr>\n",
       "    <tr>\n",
       "      <th>8</th>\n",
       "      <td>9</td>\n",
       "      <td>24735</td>\n",
       "      <td>Santa Clara</td>\n",
       "      <td>Silicon Valley Bank</td>\n",
       "      <td>California</td>\n",
       "      <td>95054</td>\n",
       "    </tr>\n",
       "    <tr>\n",
       "      <th>9</th>\n",
       "      <td>10</td>\n",
       "      <td>25648</td>\n",
       "      <td>Long Beach</td>\n",
       "      <td>International City Bank Federal Savings Bank</td>\n",
       "      <td>California</td>\n",
       "      <td>90802</td>\n",
       "    </tr>\n",
       "  </tbody>\n",
       "</table>\n",
       "</div>"
      ],
      "text/plain": [
       "   id   CERT           CITY                                          NAME  \\\n",
       "0   1   1536       Stockton                              Bank of Stockton   \n",
       "1   2  22366    Los Angeles                        GBC International Bank   \n",
       "2   3  22460       Monterey                          Monterey County Bank   \n",
       "3   4  23749  San Francisco                         Mission National Bank   \n",
       "4   5  23998    Los Angeles              State Bank of India (California)   \n",
       "5   6  19222        Fremont                                  Fremont Bank   \n",
       "6   7  21956  Santa Barbara                        Montecito Bank & Trust   \n",
       "7   8  24332    Los Angeles                             First Credit Bank   \n",
       "8   9  24735    Santa Clara                           Silicon Valley Bank   \n",
       "9  10  25648     Long Beach  International City Bank Federal Savings Bank   \n",
       "\n",
       "       STNAME    ZIP  \n",
       "0  California  95202  \n",
       "1  California  90036  \n",
       "2  California  93940  \n",
       "3  California  94103  \n",
       "4  California  90017  \n",
       "5  California  94538  \n",
       "6  California  93101  \n",
       "7  California  90069  \n",
       "8  California  95054  \n",
       "9  California  90802  "
      ]
     },
     "execution_count": 96,
     "metadata": {},
     "output_type": "execute_result"
    }
   ],
   "source": [
    "pd.read_sql_query(\"SELECT * FROM banks\",db)"
   ]
  },
  {
   "cell_type": "code",
   "execution_count": null,
   "metadata": {},
   "outputs": [],
   "source": []
  },
  {
   "cell_type": "code",
   "execution_count": 94,
   "metadata": {},
   "outputs": [],
   "source": [
    "cursor.close()"
   ]
  }
 ],
 "metadata": {
  "kernelspec": {
   "display_name": "Python 3",
   "language": "python",
   "name": "python3"
  },
  "language_info": {
   "codemirror_mode": {
    "name": "ipython",
    "version": 3
   },
   "file_extension": ".py",
   "mimetype": "text/x-python",
   "name": "python",
   "nbconvert_exporter": "python",
   "pygments_lexer": "ipython3",
   "version": "3.6.6"
  }
 },
 "nbformat": 4,
 "nbformat_minor": 2
}
