{
 "cells": [
  {
   "cell_type": "markdown",
   "metadata": {},
   "source": [
    "# Bank Stock Value Prediction\n",
    "## **Data Understanding**"
   ]
  },
  {
   "cell_type": "code",
   "execution_count": 1,
   "metadata": {},
   "outputs": [],
   "source": [
    "import pandas as pd\n",
    "import numpy as np\n",
    "import matplotlib.pyplot as plt\n",
    "import seaborn as sns\n",
    "\n",
    "%matplotlib inline\n",
    "\n",
    "import warnings\n",
    "warnings.filterwarnings('ignore')\n",
    "\n",
    "pd.set_option('display.max_rows', 500) # your numbers here\n",
    "pd.set_option('display.max_columns', 500)"
   ]
  },
  {
   "cell_type": "code",
   "execution_count": 2,
   "metadata": {},
   "outputs": [],
   "source": [
    "sns.set(rc={'figure.figsize': (18,6)})"
   ]
  },
  {
   "cell_type": "code",
   "execution_count": 3,
   "metadata": {},
   "outputs": [],
   "source": [
    "car_df = pd.read_csv('Data/car_v3.csv')"
   ]
  },
  {
   "cell_type": "markdown",
   "metadata": {},
   "source": [
    "### **What does the data look like?**\n",
    "    We have balance sheet features expressed in dollars\n",
    "    We have income statement features expressed id dollars\n",
    "    We have performance-ratio features\n",
    "    We have segment banks based on asset size:  small, medium, and large"
   ]
  },
  {
   "cell_type": "code",
   "execution_count": null,
   "metadata": {},
   "outputs": [],
   "source": [
    "car_df.shape"
   ]
  },
  {
   "cell_type": "markdown",
   "metadata": {},
   "source": [
    "### **Segment features into balance/income statement versus performance ratios**\n",
    "    1.Create segment based on balance sheet and income statement features\n",
    "    2.Create segment based on performance ratio features"
   ]
  },
  {
   "cell_type": "code",
   "execution_count": 4,
   "metadata": {},
   "outputs": [],
   "source": [
    "#Create balance sheet and income statement dataframe\n",
    "bal_inc_df = car_df.iloc[0:,0:]\n",
    "#Drop performance ratios features but keep last row (bank size) and other rows.\n",
    "bal_inc_df.drop(bal_inc_df.iloc[:,65:98], inplace=True, axis=1)\n",
    "bal_inc_df.drop(columns=['Cert', 'address', 'City', 'State', 'Zip', 'Report Date', 'mutual','% Insured'], inplace=True)\n",
    "bal_inc_df = bal_inc_df.iloc[0:,1:]"
   ]
  },
  {
   "cell_type": "code",
   "execution_count": null,
   "metadata": {},
   "outputs": [],
   "source": [
    "bal_inc_df.head()"
   ]
  },
  {
   "cell_type": "code",
   "execution_count": null,
   "metadata": {},
   "outputs": [],
   "source": [
    "bal_inc_df.shape"
   ]
  },
  {
   "cell_type": "code",
   "execution_count": 5,
   "metadata": {},
   "outputs": [],
   "source": [
    "#Create performance ratios dataframe\n",
    "perf_rat_df = car_df.iloc[0:,0:]\n",
    "#Drop balance sheet features.\n",
    "perf_rat_df.drop(perf_rat_df.iloc[:,12:64], inplace=True, axis=1)\n",
    "#Drop income statement features.\n",
    "perf_rat_df.drop(perf_rat_df.iloc[:,46:70], inplace=True, axis=1)\n",
    "#Drop other rows\n",
    "perf_rat_df.drop(columns=['Cert', 'address', 'City', 'State', 'Zip', 'Report Date', 'mutual', 'offdom', 'Number Employees'], inplace=True)\n",
    "perf_rat_df = perf_rat_df.iloc[:,1:38]"
   ]
  },
  {
   "cell_type": "code",
   "execution_count": null,
   "metadata": {},
   "outputs": [],
   "source": [
    "perf_rat_df.head()"
   ]
  },
  {
   "cell_type": "code",
   "execution_count": null,
   "metadata": {},
   "outputs": [],
   "source": [
    "perf_rat_df.shape"
   ]
  },
  {
   "cell_type": "markdown",
   "metadata": {},
   "source": [
    "### **Segment bal_inc_df based on small, medium and large banks.  Each segment will be analyzed separately.**"
   ]
  },
  {
   "cell_type": "code",
   "execution_count": 6,
   "metadata": {},
   "outputs": [],
   "source": [
    "bal_inc_small_df = bal_inc_df.loc[car_df['Bank Size'] == 'Small']\n",
    "bal_inc_medium_df = bal_inc_df.loc[car_df['Bank Size'] == 'Medium']\n",
    "bal_inc_large_df = bal_inc_df.loc[car_df['Bank Size'] == 'Large']"
   ]
  },
  {
   "cell_type": "code",
   "execution_count": null,
   "metadata": {},
   "outputs": [],
   "source": [
    "bal_inc_medium_df.shape"
   ]
  },
  {
   "cell_type": "code",
   "execution_count": null,
   "metadata": {},
   "outputs": [],
   "source": [
    "bal_inc_small_df.shape"
   ]
  },
  {
   "cell_type": "code",
   "execution_count": null,
   "metadata": {},
   "outputs": [],
   "source": [
    "bal_inc_large_df.shape"
   ]
  },
  {
   "cell_type": "markdown",
   "metadata": {},
   "source": [
    "### **Segment bal_inc_df based on small, medium and large banks.  Each segment will be analyzed separately.**"
   ]
  },
  {
   "cell_type": "code",
   "execution_count": 7,
   "metadata": {},
   "outputs": [],
   "source": [
    "perf_rat_small_df = perf_rat_df.loc[car_df['Bank Size'] == 'Small']\n",
    "perf_rat_medium_df = perf_rat_df.loc[car_df['Bank Size'] == 'Medium']\n",
    "perf_rat_large_df = perf_rat_df.loc[car_df['Bank Size'] == 'Large']"
   ]
  },
  {
   "cell_type": "code",
   "execution_count": null,
   "metadata": {},
   "outputs": [],
   "source": [
    "perf_rat_medium_df.shape"
   ]
  },
  {
   "cell_type": "code",
   "execution_count": null,
   "metadata": {},
   "outputs": [],
   "source": [
    "perf_rat_small_df.shape"
   ]
  },
  {
   "cell_type": "code",
   "execution_count": null,
   "metadata": {},
   "outputs": [],
   "source": [
    "perf_rat_large_df.shape"
   ]
  },
  {
   "cell_type": "markdown",
   "metadata": {},
   "source": [
    "### **Analyze Balance Sheet & Income Statement Feature Segment.**"
   ]
  },
  {
   "cell_type": "code",
   "execution_count": 10,
   "metadata": {},
   "outputs": [
    {
     "data": {
      "text/html": [
       "<div>\n",
       "<style scoped>\n",
       "    .dataframe tbody tr th:only-of-type {\n",
       "        vertical-align: middle;\n",
       "    }\n",
       "\n",
       "    .dataframe tbody tr th {\n",
       "        vertical-align: top;\n",
       "    }\n",
       "\n",
       "    .dataframe thead th {\n",
       "        text-align: right;\n",
       "    }\n",
       "</style>\n",
       "<table border=\"1\" class=\"dataframe\">\n",
       "  <thead>\n",
       "    <tr style=\"text-align: right;\">\n",
       "      <th></th>\n",
       "      <th>Fed RSSD</th>\n",
       "      <th>Yield on Earning Assets</th>\n",
       "      <th>Cost of Funding Earnings Assets</th>\n",
       "      <th>Net Interest Margin</th>\n",
       "      <th>NonInterest Inc to Ave Asset</th>\n",
       "      <th>NonInterest Exp to Ave Asset</th>\n",
       "      <th>Loan Lease Loss Prov to Assets</th>\n",
       "      <th>Net Op Inc to Assets</th>\n",
       "      <th>Return On Assets</th>\n",
       "      <th>Pretax ROA</th>\n",
       "      <th>Return on Equity</th>\n",
       "      <th>RE to Ave Equity</th>\n",
       "      <th>Net Chargeoffs to Loans</th>\n",
       "      <th>Credit Loss Prov to Chargeoffs</th>\n",
       "      <th>Efficiency Ratio</th>\n",
       "      <th>Assets per Emp</th>\n",
       "      <th>Cash Div to Net Inc</th>\n",
       "      <th>Earning Assets to Total Asst Ratio</th>\n",
       "      <th>Loss Allow to Loans</th>\n",
       "      <th>Loan Loss Allow to noncurr Loans</th>\n",
       "      <th>Noncurr Assets Other RE</th>\n",
       "      <th>Noncurrent Loans to Loans</th>\n",
       "      <th>Net Loans Lease to Tot Assets</th>\n",
       "      <th>Net Loans Lease to Deposits</th>\n",
       "      <th>Net Loans Lease to core deposits</th>\n",
       "      <th>Tot Dom Deposits to Tot Assets</th>\n",
       "      <th>Equity to Assets</th>\n",
       "      <th>Core Capital Ratio</th>\n",
       "      <th>Tier 1-based risk capital</th>\n",
       "      <th>Total risk based  Capt ratio</th>\n",
       "      <th>Common Equity tier 1</th>\n",
       "      <th>Average Total Assets.1</th>\n",
       "      <th>Average earning assets</th>\n",
       "      <th>Average equity</th>\n",
       "      <th>Average Total Loans</th>\n",
       "    </tr>\n",
       "  </thead>\n",
       "  <tbody>\n",
       "    <tr>\n",
       "      <th>count</th>\n",
       "      <td>4.996000e+03</td>\n",
       "      <td>4996.000000</td>\n",
       "      <td>4996.000000</td>\n",
       "      <td>4996.000000</td>\n",
       "      <td>4996.000000</td>\n",
       "      <td>4996.000000</td>\n",
       "      <td>4996.000000</td>\n",
       "      <td>4996.000000</td>\n",
       "      <td>4996.000000</td>\n",
       "      <td>4996.000000</td>\n",
       "      <td>4996.000000</td>\n",
       "      <td>4996.000000</td>\n",
       "      <td>4996.000000</td>\n",
       "      <td>4996.000000</td>\n",
       "      <td>4996.000000</td>\n",
       "      <td>4996.000000</td>\n",
       "      <td>4996.000000</td>\n",
       "      <td>4996.000000</td>\n",
       "      <td>4996.000000</td>\n",
       "      <td>4996.000000</td>\n",
       "      <td>4996.000000</td>\n",
       "      <td>4996.000000</td>\n",
       "      <td>4996.000000</td>\n",
       "      <td>4996.000000</td>\n",
       "      <td>4996.000000</td>\n",
       "      <td>4996.000000</td>\n",
       "      <td>4996.000000</td>\n",
       "      <td>4996.000000</td>\n",
       "      <td>4996.000000</td>\n",
       "      <td>4996.000000</td>\n",
       "      <td>4996.000000</td>\n",
       "      <td>4.996000e+03</td>\n",
       "      <td>4.996000e+03</td>\n",
       "      <td>4.996000e+03</td>\n",
       "      <td>4.996000e+03</td>\n",
       "    </tr>\n",
       "    <tr>\n",
       "      <th>mean</th>\n",
       "      <td>9.825358e+05</td>\n",
       "      <td>4.374796</td>\n",
       "      <td>0.575063</td>\n",
       "      <td>3.799733</td>\n",
       "      <td>1.180668</td>\n",
       "      <td>3.159360</td>\n",
       "      <td>0.122791</td>\n",
       "      <td>1.222591</td>\n",
       "      <td>1.220883</td>\n",
       "      <td>1.426075</td>\n",
       "      <td>10.144929</td>\n",
       "      <td>5.543414</td>\n",
       "      <td>0.108056</td>\n",
       "      <td>47.607257</td>\n",
       "      <td>67.735890</td>\n",
       "      <td>6.236468</td>\n",
       "      <td>39.440274</td>\n",
       "      <td>92.972587</td>\n",
       "      <td>1.295630</td>\n",
       "      <td>1089.849551</td>\n",
       "      <td>0.856527</td>\n",
       "      <td>0.986335</td>\n",
       "      <td>66.271336</td>\n",
       "      <td>80.569061</td>\n",
       "      <td>326.101988</td>\n",
       "      <td>83.099371</td>\n",
       "      <td>11.751049</td>\n",
       "      <td>11.731835</td>\n",
       "      <td>25.292191</td>\n",
       "      <td>26.358196</td>\n",
       "      <td>25.264536</td>\n",
       "      <td>9.669133e+05</td>\n",
       "      <td>8.918345e+05</td>\n",
       "      <td>1.145872e+05</td>\n",
       "      <td>6.665567e+05</td>\n",
       "    </tr>\n",
       "    <tr>\n",
       "      <th>std</th>\n",
       "      <td>1.035319e+06</td>\n",
       "      <td>1.021336</td>\n",
       "      <td>0.306493</td>\n",
       "      <td>0.958571</td>\n",
       "      <td>10.035937</td>\n",
       "      <td>5.514374</td>\n",
       "      <td>0.411783</td>\n",
       "      <td>4.975244</td>\n",
       "      <td>4.968852</td>\n",
       "      <td>6.252945</td>\n",
       "      <td>13.035112</td>\n",
       "      <td>6.829558</td>\n",
       "      <td>0.580769</td>\n",
       "      <td>4198.377234</td>\n",
       "      <td>23.672157</td>\n",
       "      <td>24.078027</td>\n",
       "      <td>191.103918</td>\n",
       "      <td>3.808019</td>\n",
       "      <td>0.737136</td>\n",
       "      <td>5993.058672</td>\n",
       "      <td>1.375830</td>\n",
       "      <td>1.527478</td>\n",
       "      <td>16.135775</td>\n",
       "      <td>32.693101</td>\n",
       "      <td>13358.157183</td>\n",
       "      <td>7.989412</td>\n",
       "      <td>5.525288</td>\n",
       "      <td>5.489716</td>\n",
       "      <td>500.239606</td>\n",
       "      <td>500.222953</td>\n",
       "      <td>500.240249</td>\n",
       "      <td>3.334449e+06</td>\n",
       "      <td>3.060815e+06</td>\n",
       "      <td>4.192978e+05</td>\n",
       "      <td>2.275357e+06</td>\n",
       "    </tr>\n",
       "    <tr>\n",
       "      <th>min</th>\n",
       "      <td>3.700000e+01</td>\n",
       "      <td>0.004849</td>\n",
       "      <td>0.000000</td>\n",
       "      <td>-1.691405</td>\n",
       "      <td>-5.311467</td>\n",
       "      <td>0.000000</td>\n",
       "      <td>-4.584085</td>\n",
       "      <td>-13.005543</td>\n",
       "      <td>-13.005543</td>\n",
       "      <td>-13.000572</td>\n",
       "      <td>-71.745560</td>\n",
       "      <td>-89.020316</td>\n",
       "      <td>-4.284245</td>\n",
       "      <td>-117500.000000</td>\n",
       "      <td>-280.638144</td>\n",
       "      <td>0.095114</td>\n",
       "      <td>-3846.153846</td>\n",
       "      <td>2.308442</td>\n",
       "      <td>0.000000</td>\n",
       "      <td>0.000000</td>\n",
       "      <td>0.000000</td>\n",
       "      <td>0.000000</td>\n",
       "      <td>0.000000</td>\n",
       "      <td>0.000000</td>\n",
       "      <td>0.000000</td>\n",
       "      <td>0.040228</td>\n",
       "      <td>1.858165</td>\n",
       "      <td>2.110290</td>\n",
       "      <td>2.545715</td>\n",
       "      <td>3.212663</td>\n",
       "      <td>2.545715</td>\n",
       "      <td>3.714233e+04</td>\n",
       "      <td>1.566670e+03</td>\n",
       "      <td>3.026330e+03</td>\n",
       "      <td>3.300000e-01</td>\n",
       "    </tr>\n",
       "    <tr>\n",
       "      <th>25%</th>\n",
       "      <td>3.199132e+05</td>\n",
       "      <td>3.905537</td>\n",
       "      <td>0.349942</td>\n",
       "      <td>3.353701</td>\n",
       "      <td>0.315592</td>\n",
       "      <td>2.291900</td>\n",
       "      <td>0.000000</td>\n",
       "      <td>0.745784</td>\n",
       "      <td>0.747277</td>\n",
       "      <td>0.879003</td>\n",
       "      <td>6.596481</td>\n",
       "      <td>2.992371</td>\n",
       "      <td>-0.005510</td>\n",
       "      <td>0.000000</td>\n",
       "      <td>58.212708</td>\n",
       "      <td>3.902945</td>\n",
       "      <td>0.000000</td>\n",
       "      <td>91.574836</td>\n",
       "      <td>0.950269</td>\n",
       "      <td>95.078563</td>\n",
       "      <td>0.179379</td>\n",
       "      <td>0.185584</td>\n",
       "      <td>57.739972</td>\n",
       "      <td>68.049290</td>\n",
       "      <td>72.156475</td>\n",
       "      <td>80.462836</td>\n",
       "      <td>9.407191</td>\n",
       "      <td>9.453846</td>\n",
       "      <td>12.406994</td>\n",
       "      <td>13.459011</td>\n",
       "      <td>12.375742</td>\n",
       "      <td>1.237674e+05</td>\n",
       "      <td>1.152201e+05</td>\n",
       "      <td>1.399125e+04</td>\n",
       "      <td>7.693525e+04</td>\n",
       "    </tr>\n",
       "    <tr>\n",
       "      <th>50%</th>\n",
       "      <td>6.433960e+05</td>\n",
       "      <td>4.316201</td>\n",
       "      <td>0.540268</td>\n",
       "      <td>3.759286</td>\n",
       "      <td>0.530685</td>\n",
       "      <td>2.762022</td>\n",
       "      <td>0.061533</td>\n",
       "      <td>1.075435</td>\n",
       "      <td>1.077428</td>\n",
       "      <td>1.260090</td>\n",
       "      <td>9.813373</td>\n",
       "      <td>5.774089</td>\n",
       "      <td>0.013986</td>\n",
       "      <td>47.607257</td>\n",
       "      <td>66.749986</td>\n",
       "      <td>4.788256</td>\n",
       "      <td>27.472527</td>\n",
       "      <td>93.310483</td>\n",
       "      <td>1.194493</td>\n",
       "      <td>206.621489</td>\n",
       "      <td>0.499730</td>\n",
       "      <td>0.553368</td>\n",
       "      <td>69.673724</td>\n",
       "      <td>82.990164</td>\n",
       "      <td>89.167159</td>\n",
       "      <td>84.701626</td>\n",
       "      <td>10.794890</td>\n",
       "      <td>10.678721</td>\n",
       "      <td>14.899680</td>\n",
       "      <td>16.010109</td>\n",
       "      <td>14.882586</td>\n",
       "      <td>2.427572e+05</td>\n",
       "      <td>2.262362e+05</td>\n",
       "      <td>2.676317e+04</td>\n",
       "      <td>1.623050e+05</td>\n",
       "    </tr>\n",
       "    <tr>\n",
       "      <th>75%</th>\n",
       "      <td>9.491918e+05</td>\n",
       "      <td>4.755131</td>\n",
       "      <td>0.758566</td>\n",
       "      <td>4.159463</td>\n",
       "      <td>0.838680</td>\n",
       "      <td>3.250694</td>\n",
       "      <td>0.142949</td>\n",
       "      <td>1.421429</td>\n",
       "      <td>1.424451</td>\n",
       "      <td>1.646214</td>\n",
       "      <td>13.147539</td>\n",
       "      <td>8.692979</td>\n",
       "      <td>0.098518</td>\n",
       "      <td>200.000000</td>\n",
       "      <td>75.301766</td>\n",
       "      <td>6.190051</td>\n",
       "      <td>58.635080</td>\n",
       "      <td>94.993853</td>\n",
       "      <td>1.487665</td>\n",
       "      <td>655.106058</td>\n",
       "      <td>1.058548</td>\n",
       "      <td>1.215154</td>\n",
       "      <td>78.018209</td>\n",
       "      <td>94.315599</td>\n",
       "      <td>105.225374</td>\n",
       "      <td>87.924165</td>\n",
       "      <td>12.603703</td>\n",
       "      <td>12.411036</td>\n",
       "      <td>19.036933</td>\n",
       "      <td>20.117917</td>\n",
       "      <td>19.035501</td>\n",
       "      <td>5.460102e+05</td>\n",
       "      <td>5.113115e+05</td>\n",
       "      <td>6.175150e+04</td>\n",
       "      <td>3.913625e+05</td>\n",
       "    </tr>\n",
       "    <tr>\n",
       "      <th>max</th>\n",
       "      <td>5.227101e+06</td>\n",
       "      <td>25.299932</td>\n",
       "      <td>3.470988</td>\n",
       "      <td>23.949882</td>\n",
       "      <td>518.707022</td>\n",
       "      <td>247.826298</td>\n",
       "      <td>11.230681</td>\n",
       "      <td>331.488091</td>\n",
       "      <td>331.488091</td>\n",
       "      <td>419.605254</td>\n",
       "      <td>779.934535</td>\n",
       "      <td>50.877685</td>\n",
       "      <td>18.545028</td>\n",
       "      <td>80000.000000</td>\n",
       "      <td>1095.454545</td>\n",
       "      <td>1572.026600</td>\n",
       "      <td>10000.000000</td>\n",
       "      <td>99.788768</td>\n",
       "      <td>14.986740</td>\n",
       "      <td>140700.000000</td>\n",
       "      <td>32.877823</td>\n",
       "      <td>31.757129</td>\n",
       "      <td>98.857443</td>\n",
       "      <td>1818.389524</td>\n",
       "      <td>930026.000000</td>\n",
       "      <td>97.154347</td>\n",
       "      <td>97.902759</td>\n",
       "      <td>100.897155</td>\n",
       "      <td>35347.402600</td>\n",
       "      <td>35347.402600</td>\n",
       "      <td>35347.402600</td>\n",
       "      <td>4.913018e+07</td>\n",
       "      <td>4.793282e+07</td>\n",
       "      <td>9.149333e+06</td>\n",
       "      <td>3.633066e+07</td>\n",
       "    </tr>\n",
       "  </tbody>\n",
       "</table>\n",
       "</div>"
      ],
      "text/plain": [
       "           Fed RSSD  Yield on Earning Assets  Cost of Funding Earnings Assets  \\\n",
       "count  4.996000e+03              4996.000000                      4996.000000   \n",
       "mean   9.825358e+05                 4.374796                         0.575063   \n",
       "std    1.035319e+06                 1.021336                         0.306493   \n",
       "min    3.700000e+01                 0.004849                         0.000000   \n",
       "25%    3.199132e+05                 3.905537                         0.349942   \n",
       "50%    6.433960e+05                 4.316201                         0.540268   \n",
       "75%    9.491918e+05                 4.755131                         0.758566   \n",
       "max    5.227101e+06                25.299932                         3.470988   \n",
       "\n",
       "       Net Interest Margin  NonInterest Inc to Ave Asset  \\\n",
       "count          4996.000000                   4996.000000   \n",
       "mean              3.799733                      1.180668   \n",
       "std               0.958571                     10.035937   \n",
       "min              -1.691405                     -5.311467   \n",
       "25%               3.353701                      0.315592   \n",
       "50%               3.759286                      0.530685   \n",
       "75%               4.159463                      0.838680   \n",
       "max              23.949882                    518.707022   \n",
       "\n",
       "       NonInterest Exp to Ave Asset  Loan Lease Loss Prov to Assets  \\\n",
       "count                   4996.000000                     4996.000000   \n",
       "mean                       3.159360                        0.122791   \n",
       "std                        5.514374                        0.411783   \n",
       "min                        0.000000                       -4.584085   \n",
       "25%                        2.291900                        0.000000   \n",
       "50%                        2.762022                        0.061533   \n",
       "75%                        3.250694                        0.142949   \n",
       "max                      247.826298                       11.230681   \n",
       "\n",
       "       Net Op Inc to Assets  Return On Assets   Pretax ROA  Return on Equity  \\\n",
       "count           4996.000000       4996.000000  4996.000000       4996.000000   \n",
       "mean               1.222591          1.220883     1.426075         10.144929   \n",
       "std                4.975244          4.968852     6.252945         13.035112   \n",
       "min              -13.005543        -13.005543   -13.000572        -71.745560   \n",
       "25%                0.745784          0.747277     0.879003          6.596481   \n",
       "50%                1.075435          1.077428     1.260090          9.813373   \n",
       "75%                1.421429          1.424451     1.646214         13.147539   \n",
       "max              331.488091        331.488091   419.605254        779.934535   \n",
       "\n",
       "       RE to Ave Equity  Net Chargeoffs to Loans  \\\n",
       "count       4996.000000              4996.000000   \n",
       "mean           5.543414                 0.108056   \n",
       "std            6.829558                 0.580769   \n",
       "min          -89.020316                -4.284245   \n",
       "25%            2.992371                -0.005510   \n",
       "50%            5.774089                 0.013986   \n",
       "75%            8.692979                 0.098518   \n",
       "max           50.877685                18.545028   \n",
       "\n",
       "       Credit Loss Prov to Chargeoffs  Efficiency Ratio  Assets per Emp  \\\n",
       "count                     4996.000000       4996.000000     4996.000000   \n",
       "mean                        47.607257         67.735890        6.236468   \n",
       "std                       4198.377234         23.672157       24.078027   \n",
       "min                    -117500.000000       -280.638144        0.095114   \n",
       "25%                          0.000000         58.212708        3.902945   \n",
       "50%                         47.607257         66.749986        4.788256   \n",
       "75%                        200.000000         75.301766        6.190051   \n",
       "max                      80000.000000       1095.454545     1572.026600   \n",
       "\n",
       "       Cash Div to Net Inc  Earning Assets to Total Asst Ratio  \\\n",
       "count          4996.000000                         4996.000000   \n",
       "mean             39.440274                           92.972587   \n",
       "std             191.103918                            3.808019   \n",
       "min           -3846.153846                            2.308442   \n",
       "25%               0.000000                           91.574836   \n",
       "50%              27.472527                           93.310483   \n",
       "75%              58.635080                           94.993853   \n",
       "max           10000.000000                           99.788768   \n",
       "\n",
       "       Loss Allow to Loans  Loan Loss Allow to noncurr Loans  \\\n",
       "count          4996.000000                       4996.000000   \n",
       "mean              1.295630                       1089.849551   \n",
       "std               0.737136                       5993.058672   \n",
       "min               0.000000                          0.000000   \n",
       "25%               0.950269                         95.078563   \n",
       "50%               1.194493                        206.621489   \n",
       "75%               1.487665                        655.106058   \n",
       "max              14.986740                     140700.000000   \n",
       "\n",
       "       Noncurr Assets Other RE  Noncurrent Loans to Loans  \\\n",
       "count              4996.000000                4996.000000   \n",
       "mean                  0.856527                   0.986335   \n",
       "std                   1.375830                   1.527478   \n",
       "min                   0.000000                   0.000000   \n",
       "25%                   0.179379                   0.185584   \n",
       "50%                   0.499730                   0.553368   \n",
       "75%                   1.058548                   1.215154   \n",
       "max                  32.877823                  31.757129   \n",
       "\n",
       "       Net Loans Lease to Tot Assets  Net Loans Lease to Deposits  \\\n",
       "count                    4996.000000                  4996.000000   \n",
       "mean                       66.271336                    80.569061   \n",
       "std                        16.135775                    32.693101   \n",
       "min                         0.000000                     0.000000   \n",
       "25%                        57.739972                    68.049290   \n",
       "50%                        69.673724                    82.990164   \n",
       "75%                        78.018209                    94.315599   \n",
       "max                        98.857443                  1818.389524   \n",
       "\n",
       "       Net Loans Lease to core deposits  Tot Dom Deposits to Tot Assets  \\\n",
       "count                       4996.000000                     4996.000000   \n",
       "mean                         326.101988                       83.099371   \n",
       "std                        13358.157183                        7.989412   \n",
       "min                            0.000000                        0.040228   \n",
       "25%                           72.156475                       80.462836   \n",
       "50%                           89.167159                       84.701626   \n",
       "75%                          105.225374                       87.924165   \n",
       "max                       930026.000000                       97.154347   \n",
       "\n",
       "       Equity to Assets  Core Capital Ratio  Tier 1-based risk capital   \\\n",
       "count       4996.000000         4996.000000                 4996.000000   \n",
       "mean          11.751049           11.731835                   25.292191   \n",
       "std            5.525288            5.489716                  500.239606   \n",
       "min            1.858165            2.110290                    2.545715   \n",
       "25%            9.407191            9.453846                   12.406994   \n",
       "50%           10.794890           10.678721                   14.899680   \n",
       "75%           12.603703           12.411036                   19.036933   \n",
       "max           97.902759          100.897155                35347.402600   \n",
       "\n",
       "       Total risk based  Capt ratio  Common Equity tier 1  \\\n",
       "count                   4996.000000           4996.000000   \n",
       "mean                      26.358196             25.264536   \n",
       "std                      500.222953            500.240249   \n",
       "min                        3.212663              2.545715   \n",
       "25%                       13.459011             12.375742   \n",
       "50%                       16.010109             14.882586   \n",
       "75%                       20.117917             19.035501   \n",
       "max                    35347.402600          35347.402600   \n",
       "\n",
       "       Average Total Assets.1  Average earning assets  Average equity  \\\n",
       "count            4.996000e+03            4.996000e+03    4.996000e+03   \n",
       "mean             9.669133e+05            8.918345e+05    1.145872e+05   \n",
       "std              3.334449e+06            3.060815e+06    4.192978e+05   \n",
       "min              3.714233e+04            1.566670e+03    3.026330e+03   \n",
       "25%              1.237674e+05            1.152201e+05    1.399125e+04   \n",
       "50%              2.427572e+05            2.262362e+05    2.676317e+04   \n",
       "75%              5.460102e+05            5.113115e+05    6.175150e+04   \n",
       "max              4.913018e+07            4.793282e+07    9.149333e+06   \n",
       "\n",
       "       Average Total Loans  \n",
       "count         4.996000e+03  \n",
       "mean          6.665567e+05  \n",
       "std           2.275357e+06  \n",
       "min           3.300000e-01  \n",
       "25%           7.693525e+04  \n",
       "50%           1.623050e+05  \n",
       "75%           3.913625e+05  \n",
       "max           3.633066e+07  "
      ]
     },
     "execution_count": 10,
     "metadata": {},
     "output_type": "execute_result"
    }
   ],
   "source": [
    "perf_rat_medium_df.describe()"
   ]
  },
  {
   "cell_type": "code",
   "execution_count": null,
   "metadata": {},
   "outputs": [],
   "source": [
    "bal_inc_medium_df.describe()"
   ]
  },
  {
   "cell_type": "markdown",
   "metadata": {},
   "source": [
    "### **Analyze Balance Sheet & Income Statement Feature Segment.**\n",
    "\n",
    "    \n",
    "<img src=\"Data/features.png\"\n",
    "    style=\"width:200px; float: right; margin: 0 40px 40px 40px;\"></img>"
   ]
  },
  {
   "cell_type": "markdown",
   "metadata": {},
   "source": [
    "Create a dataframe with only the selected features."
   ]
  },
  {
   "cell_type": "code",
   "execution_count": 22,
   "metadata": {},
   "outputs": [],
   "source": [
    "features_perfrat_df = perf_rat_medium_df[['Tot Dom Deposits to Tot Assets', 'Pretax ROA','Net Op Inc to Assets', 'Return On Assets',\n",
    "                                        'NonInterest Inc to Ave Asset', 'NonInterest Exp to Ave Asset', 'Net Interest Margin', \n",
    "                                       'RE to Ave Equity', 'Efficiency Ratio', 'Net Loans Lease to Tot Assets']]\n"
   ]
  },
  {
   "cell_type": "markdown",
   "metadata": {},
   "source": [
    "Issues identified below:  outliers"
   ]
  },
  {
   "cell_type": "code",
   "execution_count": 23,
   "metadata": {},
   "outputs": [
    {
     "data": {
      "text/html": [
       "<div>\n",
       "<style scoped>\n",
       "    .dataframe tbody tr th:only-of-type {\n",
       "        vertical-align: middle;\n",
       "    }\n",
       "\n",
       "    .dataframe tbody tr th {\n",
       "        vertical-align: top;\n",
       "    }\n",
       "\n",
       "    .dataframe thead th {\n",
       "        text-align: right;\n",
       "    }\n",
       "</style>\n",
       "<table border=\"1\" class=\"dataframe\">\n",
       "  <thead>\n",
       "    <tr style=\"text-align: right;\">\n",
       "      <th></th>\n",
       "      <th>Tot Dom Deposits to Tot Assets</th>\n",
       "      <th>Pretax ROA</th>\n",
       "      <th>Net Op Inc to Assets</th>\n",
       "      <th>Return On Assets</th>\n",
       "      <th>NonInterest Inc to Ave Asset</th>\n",
       "      <th>NonInterest Exp to Ave Asset</th>\n",
       "      <th>Net Interest Margin</th>\n",
       "      <th>RE to Ave Equity</th>\n",
       "      <th>Efficiency Ratio</th>\n",
       "      <th>Net Loans Lease to Tot Assets</th>\n",
       "    </tr>\n",
       "  </thead>\n",
       "  <tbody>\n",
       "    <tr>\n",
       "      <th>count</th>\n",
       "      <td>4996.000000</td>\n",
       "      <td>4996.000000</td>\n",
       "      <td>4996.000000</td>\n",
       "      <td>4996.000000</td>\n",
       "      <td>4996.000000</td>\n",
       "      <td>4996.000000</td>\n",
       "      <td>4996.000000</td>\n",
       "      <td>4996.000000</td>\n",
       "      <td>4996.000000</td>\n",
       "      <td>4996.000000</td>\n",
       "    </tr>\n",
       "    <tr>\n",
       "      <th>mean</th>\n",
       "      <td>83.099371</td>\n",
       "      <td>1.426075</td>\n",
       "      <td>1.222591</td>\n",
       "      <td>1.220883</td>\n",
       "      <td>1.180668</td>\n",
       "      <td>3.159360</td>\n",
       "      <td>3.799733</td>\n",
       "      <td>5.543414</td>\n",
       "      <td>67.735890</td>\n",
       "      <td>66.271336</td>\n",
       "    </tr>\n",
       "    <tr>\n",
       "      <th>std</th>\n",
       "      <td>7.989412</td>\n",
       "      <td>6.252945</td>\n",
       "      <td>4.975244</td>\n",
       "      <td>4.968852</td>\n",
       "      <td>10.035937</td>\n",
       "      <td>5.514374</td>\n",
       "      <td>0.958571</td>\n",
       "      <td>6.829558</td>\n",
       "      <td>23.672157</td>\n",
       "      <td>16.135775</td>\n",
       "    </tr>\n",
       "    <tr>\n",
       "      <th>min</th>\n",
       "      <td>0.040228</td>\n",
       "      <td>-13.000572</td>\n",
       "      <td>-13.005543</td>\n",
       "      <td>-13.005543</td>\n",
       "      <td>-5.311467</td>\n",
       "      <td>0.000000</td>\n",
       "      <td>-1.691405</td>\n",
       "      <td>-89.020316</td>\n",
       "      <td>-280.638144</td>\n",
       "      <td>0.000000</td>\n",
       "    </tr>\n",
       "    <tr>\n",
       "      <th>25%</th>\n",
       "      <td>80.462836</td>\n",
       "      <td>0.879003</td>\n",
       "      <td>0.745784</td>\n",
       "      <td>0.747277</td>\n",
       "      <td>0.315592</td>\n",
       "      <td>2.291900</td>\n",
       "      <td>3.353701</td>\n",
       "      <td>2.992371</td>\n",
       "      <td>58.212708</td>\n",
       "      <td>57.739972</td>\n",
       "    </tr>\n",
       "    <tr>\n",
       "      <th>50%</th>\n",
       "      <td>84.701626</td>\n",
       "      <td>1.260090</td>\n",
       "      <td>1.075435</td>\n",
       "      <td>1.077428</td>\n",
       "      <td>0.530685</td>\n",
       "      <td>2.762022</td>\n",
       "      <td>3.759286</td>\n",
       "      <td>5.774089</td>\n",
       "      <td>66.749986</td>\n",
       "      <td>69.673724</td>\n",
       "    </tr>\n",
       "    <tr>\n",
       "      <th>75%</th>\n",
       "      <td>87.924165</td>\n",
       "      <td>1.646214</td>\n",
       "      <td>1.421429</td>\n",
       "      <td>1.424451</td>\n",
       "      <td>0.838680</td>\n",
       "      <td>3.250694</td>\n",
       "      <td>4.159463</td>\n",
       "      <td>8.692979</td>\n",
       "      <td>75.301766</td>\n",
       "      <td>78.018209</td>\n",
       "    </tr>\n",
       "    <tr>\n",
       "      <th>max</th>\n",
       "      <td>97.154347</td>\n",
       "      <td>419.605254</td>\n",
       "      <td>331.488091</td>\n",
       "      <td>331.488091</td>\n",
       "      <td>518.707022</td>\n",
       "      <td>247.826298</td>\n",
       "      <td>23.949882</td>\n",
       "      <td>50.877685</td>\n",
       "      <td>1095.454545</td>\n",
       "      <td>98.857443</td>\n",
       "    </tr>\n",
       "  </tbody>\n",
       "</table>\n",
       "</div>"
      ],
      "text/plain": [
       "       Tot Dom Deposits to Tot Assets   Pretax ROA  Net Op Inc to Assets  \\\n",
       "count                     4996.000000  4996.000000           4996.000000   \n",
       "mean                        83.099371     1.426075              1.222591   \n",
       "std                          7.989412     6.252945              4.975244   \n",
       "min                          0.040228   -13.000572            -13.005543   \n",
       "25%                         80.462836     0.879003              0.745784   \n",
       "50%                         84.701626     1.260090              1.075435   \n",
       "75%                         87.924165     1.646214              1.421429   \n",
       "max                         97.154347   419.605254            331.488091   \n",
       "\n",
       "       Return On Assets  NonInterest Inc to Ave Asset  \\\n",
       "count       4996.000000                   4996.000000   \n",
       "mean           1.220883                      1.180668   \n",
       "std            4.968852                     10.035937   \n",
       "min          -13.005543                     -5.311467   \n",
       "25%            0.747277                      0.315592   \n",
       "50%            1.077428                      0.530685   \n",
       "75%            1.424451                      0.838680   \n",
       "max          331.488091                    518.707022   \n",
       "\n",
       "       NonInterest Exp to Ave Asset  Net Interest Margin  RE to Ave Equity  \\\n",
       "count                   4996.000000          4996.000000       4996.000000   \n",
       "mean                       3.159360             3.799733          5.543414   \n",
       "std                        5.514374             0.958571          6.829558   \n",
       "min                        0.000000            -1.691405        -89.020316   \n",
       "25%                        2.291900             3.353701          2.992371   \n",
       "50%                        2.762022             3.759286          5.774089   \n",
       "75%                        3.250694             4.159463          8.692979   \n",
       "max                      247.826298            23.949882         50.877685   \n",
       "\n",
       "       Efficiency Ratio  Net Loans Lease to Tot Assets  \n",
       "count       4996.000000                    4996.000000  \n",
       "mean          67.735890                      66.271336  \n",
       "std           23.672157                      16.135775  \n",
       "min         -280.638144                       0.000000  \n",
       "25%           58.212708                      57.739972  \n",
       "50%           66.749986                      69.673724  \n",
       "75%           75.301766                      78.018209  \n",
       "max         1095.454545                      98.857443  "
      ]
     },
     "execution_count": 23,
     "metadata": {},
     "output_type": "execute_result"
    }
   ],
   "source": [
    "features_perfrat_df.describe()"
   ]
  },
  {
   "cell_type": "code",
   "execution_count": 29,
   "metadata": {},
   "outputs": [
    {
     "data": {
      "image/png": "[encoded data removed]",
      "text/plain": [
       "<Figure size 1296x432 with 1 Axes>"
      ]
     },
     "metadata": {},
     "output_type": "display_data"
    }
   ],
   "source": [
    "sns.set(style=\"whitegrid\")\n",
    "ax = sns.boxplot(x=features_perfrat_df[\"Tot Dom Deposits to Tot Assets\"])"
   ]
  },
  {
   "cell_type": "code",
   "execution_count": 32,
   "metadata": {},
   "outputs": [
    {
     "data": {
      "text/plain": [
       "<matplotlib.axes._subplots.AxesSubplot at 0x7f5030481b00>"
      ]
     },
     "execution_count": 32,
     "metadata": {},
     "output_type": "execute_result"
    },
    {
     "data": {
      "image/png": "[encoded data removed]",
      "text/plain": [
       "<Figure size 1296x432 with 1 Axes>"
      ]
     },
     "metadata": {},
     "output_type": "display_data"
    }
   ],
   "source": [
    "sns.distplot(features_perfrat_df['Tot Dom Deposits to Tot Assets'],hist_kws={\"range\": [0,100]})"
   ]
  },
  {
   "cell_type": "code",
   "execution_count": 33,
   "metadata": {},
   "outputs": [
    {
     "data": {
      "image/png": "[encoded data removed]",
      "text/plain": [
       "<Figure size 1296x432 with 1 Axes>"
      ]
     },
     "metadata": {},
     "output_type": "display_data"
    }
   ],
   "source": [
    "sns.set(style=\"whitegrid\")\n",
    "ax = sns.boxplot(x=features_perfrat_df['Pretax ROA'])"
   ]
  },
  {
   "cell_type": "code",
   "execution_count": 34,
   "metadata": {},
   "outputs": [
    {
     "data": {
      "text/plain": [
       "<matplotlib.axes._subplots.AxesSubplot at 0x7f5030394f60>"
      ]
     },
     "execution_count": 34,
     "metadata": {},
     "output_type": "execute_result"
    },
    {
     "data": {
      "image/png": "[encoded data removed]",
      "text/plain": [
       "<Figure size 1296x432 with 1 Axes>"
      ]
     },
     "metadata": {},
     "output_type": "display_data"
    }
   ],
   "source": [
    "sns.distplot(features_perfrat_df['Pretax ROA'],hist_kws={\"range\": [0,100]})"
   ]
  },
  {
   "cell_type": "code",
   "execution_count": 60,
   "metadata": {},
   "outputs": [
    {
     "data": {
      "text/html": [
       "<div>\n",
       "<style scoped>\n",
       "    .dataframe tbody tr th:only-of-type {\n",
       "        vertical-align: middle;\n",
       "    }\n",
       "\n",
       "    .dataframe tbody tr th {\n",
       "        vertical-align: top;\n",
       "    }\n",
       "\n",
       "    .dataframe thead th {\n",
       "        text-align: right;\n",
       "    }\n",
       "</style>\n",
       "<table border=\"1\" class=\"dataframe\">\n",
       "  <thead>\n",
       "    <tr style=\"text-align: right;\">\n",
       "      <th></th>\n",
       "      <th>Tot Dom Deposits to Tot Assets</th>\n",
       "      <th>Pretax ROA</th>\n",
       "      <th>Net Op Inc to Assets</th>\n",
       "      <th>Return On Assets</th>\n",
       "      <th>NonInterest Inc to Ave Asset</th>\n",
       "      <th>NonInterest Exp to Ave Asset</th>\n",
       "      <th>Net Interest Margin</th>\n",
       "      <th>RE to Ave Equity</th>\n",
       "      <th>Efficiency Ratio</th>\n",
       "      <th>Net Loans Lease to Tot Assets</th>\n",
       "    </tr>\n",
       "  </thead>\n",
       "  <tbody>\n",
       "    <tr>\n",
       "      <th>1682</th>\n",
       "      <td>13.084895</td>\n",
       "      <td>419.605254</td>\n",
       "      <td>331.488091</td>\n",
       "      <td>331.488091</td>\n",
       "      <td>518.707022</td>\n",
       "      <td>100.37238</td>\n",
       "      <td>1.50377</td>\n",
       "      <td>-2.438091</td>\n",
       "      <td>19.303653</td>\n",
       "      <td>2.107977</td>\n",
       "    </tr>\n",
       "  </tbody>\n",
       "</table>\n",
       "</div>"
      ],
      "text/plain": [
       "      Tot Dom Deposits to Tot Assets  Pretax ROA  Net Op Inc to Assets  \\\n",
       "1682                       13.084895  419.605254            331.488091   \n",
       "\n",
       "      Return On Assets  NonInterest Inc to Ave Asset  \\\n",
       "1682        331.488091                    518.707022   \n",
       "\n",
       "      NonInterest Exp to Ave Asset  Net Interest Margin  RE to Ave Equity  \\\n",
       "1682                     100.37238              1.50377         -2.438091   \n",
       "\n",
       "      Efficiency Ratio  Net Loans Lease to Tot Assets  \n",
       "1682         19.303653                       2.107977  "
      ]
     },
     "execution_count": 60,
     "metadata": {},
     "output_type": "execute_result"
    }
   ],
   "source": [
    "features_perfrat_df.loc[features_perfrat_df['Pretax ROA'] > 100]"
   ]
  },
  {
   "cell_type": "code",
   "execution_count": 57,
   "metadata": {},
   "outputs": [
    {
     "data": {
      "image/png": "[encoded data removed]",
      "text/plain": [
       "<Figure size 1296x432 with 1 Axes>"
      ]
     },
     "metadata": {},
     "output_type": "display_data"
    }
   ],
   "source": [
    "sns.set(style=\"whitegrid\")\n",
    "ax = sns.boxplot(x=features_perfrat_df['Return On Assets'])"
   ]
  },
  {
   "cell_type": "code",
   "execution_count": 59,
   "metadata": {},
   "outputs": [
    {
     "data": {
      "text/plain": [
       "<matplotlib.axes._subplots.AxesSubplot at 0x7f502bba80f0>"
      ]
     },
     "execution_count": 59,
     "metadata": {},
     "output_type": "execute_result"
    },
    {
     "data": {
      "image/png": "[encoded data removed]",
      "text/plain": [
       "<Figure size 1296x432 with 1 Axes>"
      ]
     },
     "metadata": {},
     "output_type": "display_data"
    }
   ],
   "source": [
    "sns.distplot(features_perfrat_df['Return On Assets'],hist_kws={\"range\": [0,100]})"
   ]
  },
  {
   "cell_type": "code",
   "execution_count": 61,
   "metadata": {},
   "outputs": [
    {
     "data": {
      "text/html": [
       "<div>\n",
       "<style scoped>\n",
       "    .dataframe tbody tr th:only-of-type {\n",
       "        vertical-align: middle;\n",
       "    }\n",
       "\n",
       "    .dataframe tbody tr th {\n",
       "        vertical-align: top;\n",
       "    }\n",
       "\n",
       "    .dataframe thead th {\n",
       "        text-align: right;\n",
       "    }\n",
       "</style>\n",
       "<table border=\"1\" class=\"dataframe\">\n",
       "  <thead>\n",
       "    <tr style=\"text-align: right;\">\n",
       "      <th></th>\n",
       "      <th>Tot Dom Deposits to Tot Assets</th>\n",
       "      <th>Pretax ROA</th>\n",
       "      <th>Net Op Inc to Assets</th>\n",
       "      <th>Return On Assets</th>\n",
       "      <th>NonInterest Inc to Ave Asset</th>\n",
       "      <th>NonInterest Exp to Ave Asset</th>\n",
       "      <th>Net Interest Margin</th>\n",
       "      <th>RE to Ave Equity</th>\n",
       "      <th>Efficiency Ratio</th>\n",
       "      <th>Net Loans Lease to Tot Assets</th>\n",
       "    </tr>\n",
       "  </thead>\n",
       "  <tbody>\n",
       "    <tr>\n",
       "      <th>1682</th>\n",
       "      <td>13.084895</td>\n",
       "      <td>419.605254</td>\n",
       "      <td>331.488091</td>\n",
       "      <td>331.488091</td>\n",
       "      <td>518.707022</td>\n",
       "      <td>100.37238</td>\n",
       "      <td>1.50377</td>\n",
       "      <td>-2.438091</td>\n",
       "      <td>19.303653</td>\n",
       "      <td>2.107977</td>\n",
       "    </tr>\n",
       "  </tbody>\n",
       "</table>\n",
       "</div>"
      ],
      "text/plain": [
       "      Tot Dom Deposits to Tot Assets  Pretax ROA  Net Op Inc to Assets  \\\n",
       "1682                       13.084895  419.605254            331.488091   \n",
       "\n",
       "      Return On Assets  NonInterest Inc to Ave Asset  \\\n",
       "1682        331.488091                    518.707022   \n",
       "\n",
       "      NonInterest Exp to Ave Asset  Net Interest Margin  RE to Ave Equity  \\\n",
       "1682                     100.37238              1.50377         -2.438091   \n",
       "\n",
       "      Efficiency Ratio  Net Loans Lease to Tot Assets  \n",
       "1682         19.303653                       2.107977  "
      ]
     },
     "execution_count": 61,
     "metadata": {},
     "output_type": "execute_result"
    }
   ],
   "source": [
    "features_perfrat_df.loc[features_perfrat_df['Return On Assets'] > 100]"
   ]
  },
  {
   "cell_type": "code",
   "execution_count": 37,
   "metadata": {},
   "outputs": [
    {
     "data": {
      "image/png": "[encoded data removed]",
      "text/plain": [
       "<Figure size 1296x432 with 1 Axes>"
      ]
     },
     "metadata": {},
     "output_type": "display_data"
    }
   ],
   "source": [
    "sns.set(style=\"whitegrid\")\n",
    "ax = sns.boxplot(x=features_perfrat_df['Net Op Inc to Assets'])"
   ]
  },
  {
   "cell_type": "code",
   "execution_count": 38,
   "metadata": {},
   "outputs": [
    {
     "data": {
      "text/plain": [
       "<matplotlib.axes._subplots.AxesSubplot at 0x7f50301aabe0>"
      ]
     },
     "execution_count": 38,
     "metadata": {},
     "output_type": "execute_result"
    },
    {
     "data": {
      "image/png": "[encoded data removed]",
      "text/plain": [
       "<Figure size 1296x432 with 1 Axes>"
      ]
     },
     "metadata": {},
     "output_type": "display_data"
    }
   ],
   "source": [
    "sns.distplot(features_perfrat_df['Net Op Inc to Assets'],hist_kws={\"range\": [0,100]})"
   ]
  },
  {
   "cell_type": "code",
   "execution_count": 62,
   "metadata": {},
   "outputs": [
    {
     "data": {
      "text/html": [
       "<div>\n",
       "<style scoped>\n",
       "    .dataframe tbody tr th:only-of-type {\n",
       "        vertical-align: middle;\n",
       "    }\n",
       "\n",
       "    .dataframe tbody tr th {\n",
       "        vertical-align: top;\n",
       "    }\n",
       "\n",
       "    .dataframe thead th {\n",
       "        text-align: right;\n",
       "    }\n",
       "</style>\n",
       "<table border=\"1\" class=\"dataframe\">\n",
       "  <thead>\n",
       "    <tr style=\"text-align: right;\">\n",
       "      <th></th>\n",
       "      <th>Tot Dom Deposits to Tot Assets</th>\n",
       "      <th>Pretax ROA</th>\n",
       "      <th>Net Op Inc to Assets</th>\n",
       "      <th>Return On Assets</th>\n",
       "      <th>NonInterest Inc to Ave Asset</th>\n",
       "      <th>NonInterest Exp to Ave Asset</th>\n",
       "      <th>Net Interest Margin</th>\n",
       "      <th>RE to Ave Equity</th>\n",
       "      <th>Efficiency Ratio</th>\n",
       "      <th>Net Loans Lease to Tot Assets</th>\n",
       "    </tr>\n",
       "  </thead>\n",
       "  <tbody>\n",
       "    <tr>\n",
       "      <th>1682</th>\n",
       "      <td>13.084895</td>\n",
       "      <td>419.605254</td>\n",
       "      <td>331.488091</td>\n",
       "      <td>331.488091</td>\n",
       "      <td>518.707022</td>\n",
       "      <td>100.37238</td>\n",
       "      <td>1.50377</td>\n",
       "      <td>-2.438091</td>\n",
       "      <td>19.303653</td>\n",
       "      <td>2.107977</td>\n",
       "    </tr>\n",
       "  </tbody>\n",
       "</table>\n",
       "</div>"
      ],
      "text/plain": [
       "      Tot Dom Deposits to Tot Assets  Pretax ROA  Net Op Inc to Assets  \\\n",
       "1682                       13.084895  419.605254            331.488091   \n",
       "\n",
       "      Return On Assets  NonInterest Inc to Ave Asset  \\\n",
       "1682        331.488091                    518.707022   \n",
       "\n",
       "      NonInterest Exp to Ave Asset  Net Interest Margin  RE to Ave Equity  \\\n",
       "1682                     100.37238              1.50377         -2.438091   \n",
       "\n",
       "      Efficiency Ratio  Net Loans Lease to Tot Assets  \n",
       "1682         19.303653                       2.107977  "
      ]
     },
     "execution_count": 62,
     "metadata": {},
     "output_type": "execute_result"
    }
   ],
   "source": [
    "features_perfrat_df.loc[features_perfrat_df['Net Op Inc to Assets'] > 100]"
   ]
  },
  {
   "cell_type": "code",
   "execution_count": 41,
   "metadata": {},
   "outputs": [
    {
     "data": {
      "image/png": "[encoded data removed]",
      "text/plain": [
       "<Figure size 1296x432 with 1 Axes>"
      ]
     },
     "metadata": {},
     "output_type": "display_data"
    }
   ],
   "source": [
    "sns.set(style=\"whitegrid\")\n",
    "ax = sns.boxplot(x=features_perfrat_df['NonInterest Inc to Ave Asset'])"
   ]
  },
  {
   "cell_type": "code",
   "execution_count": 42,
   "metadata": {},
   "outputs": [
    {
     "data": {
      "text/plain": [
       "<matplotlib.axes._subplots.AxesSubplot at 0x7f5030037518>"
      ]
     },
     "execution_count": 42,
     "metadata": {},
     "output_type": "execute_result"
    },
    {
     "data": {
      "image/png": "[encoded data removed]",
      "text/plain": [
       "<Figure size 1296x432 with 1 Axes>"
      ]
     },
     "metadata": {},
     "output_type": "display_data"
    }
   ],
   "source": [
    "sns.distplot(features_perfrat_df['NonInterest Inc to Ave Asset'],hist_kws={\"range\": [0,100]})"
   ]
  },
  {
   "cell_type": "code",
   "execution_count": 63,
   "metadata": {},
   "outputs": [
    {
     "data": {
      "text/html": [
       "<div>\n",
       "<style scoped>\n",
       "    .dataframe tbody tr th:only-of-type {\n",
       "        vertical-align: middle;\n",
       "    }\n",
       "\n",
       "    .dataframe tbody tr th {\n",
       "        vertical-align: top;\n",
       "    }\n",
       "\n",
       "    .dataframe thead th {\n",
       "        text-align: right;\n",
       "    }\n",
       "</style>\n",
       "<table border=\"1\" class=\"dataframe\">\n",
       "  <thead>\n",
       "    <tr style=\"text-align: right;\">\n",
       "      <th></th>\n",
       "      <th>Tot Dom Deposits to Tot Assets</th>\n",
       "      <th>Pretax ROA</th>\n",
       "      <th>Net Op Inc to Assets</th>\n",
       "      <th>Return On Assets</th>\n",
       "      <th>NonInterest Inc to Ave Asset</th>\n",
       "      <th>NonInterest Exp to Ave Asset</th>\n",
       "      <th>Net Interest Margin</th>\n",
       "      <th>RE to Ave Equity</th>\n",
       "      <th>Efficiency Ratio</th>\n",
       "      <th>Net Loans Lease to Tot Assets</th>\n",
       "    </tr>\n",
       "  </thead>\n",
       "  <tbody>\n",
       "    <tr>\n",
       "      <th>715</th>\n",
       "      <td>0.285932</td>\n",
       "      <td>31.776833</td>\n",
       "      <td>21.762080</td>\n",
       "      <td>21.521989</td>\n",
       "      <td>136.090655</td>\n",
       "      <td>106.979769</td>\n",
       "      <td>4.588125</td>\n",
       "      <td>37.208555</td>\n",
       "      <td>76.930370</td>\n",
       "      <td>0.000000</td>\n",
       "    </tr>\n",
       "    <tr>\n",
       "      <th>1099</th>\n",
       "      <td>0.757665</td>\n",
       "      <td>50.026777</td>\n",
       "      <td>38.715331</td>\n",
       "      <td>38.715331</td>\n",
       "      <td>107.934241</td>\n",
       "      <td>57.969133</td>\n",
       "      <td>2.425527</td>\n",
       "      <td>39.922571</td>\n",
       "      <td>52.880714</td>\n",
       "      <td>0.000000</td>\n",
       "    </tr>\n",
       "    <tr>\n",
       "      <th>1317</th>\n",
       "      <td>11.487960</td>\n",
       "      <td>50.759620</td>\n",
       "      <td>50.759620</td>\n",
       "      <td>50.759620</td>\n",
       "      <td>197.425211</td>\n",
       "      <td>147.566080</td>\n",
       "      <td>5.798675</td>\n",
       "      <td>5.629423</td>\n",
       "      <td>73.346302</td>\n",
       "      <td>14.871116</td>\n",
       "    </tr>\n",
       "    <tr>\n",
       "      <th>1682</th>\n",
       "      <td>13.084895</td>\n",
       "      <td>419.605254</td>\n",
       "      <td>331.488091</td>\n",
       "      <td>331.488091</td>\n",
       "      <td>518.707022</td>\n",
       "      <td>100.372380</td>\n",
       "      <td>1.503770</td>\n",
       "      <td>-2.438091</td>\n",
       "      <td>19.303653</td>\n",
       "      <td>2.107977</td>\n",
       "    </tr>\n",
       "    <tr>\n",
       "      <th>1699</th>\n",
       "      <td>0.519988</td>\n",
       "      <td>62.138067</td>\n",
       "      <td>57.259726</td>\n",
       "      <td>54.306900</td>\n",
       "      <td>107.363360</td>\n",
       "      <td>43.857816</td>\n",
       "      <td>2.793765</td>\n",
       "      <td>-61.848272</td>\n",
       "      <td>40.093100</td>\n",
       "      <td>0.000000</td>\n",
       "    </tr>\n",
       "    <tr>\n",
       "      <th>3364</th>\n",
       "      <td>17.377361</td>\n",
       "      <td>37.177329</td>\n",
       "      <td>27.943542</td>\n",
       "      <td>27.942960</td>\n",
       "      <td>283.398961</td>\n",
       "      <td>247.826298</td>\n",
       "      <td>1.673912</td>\n",
       "      <td>44.185434</td>\n",
       "      <td>86.955265</td>\n",
       "      <td>0.000000</td>\n",
       "    </tr>\n",
       "    <tr>\n",
       "      <th>3977</th>\n",
       "      <td>0.307768</td>\n",
       "      <td>66.840139</td>\n",
       "      <td>52.225664</td>\n",
       "      <td>51.949471</td>\n",
       "      <td>176.991698</td>\n",
       "      <td>111.647189</td>\n",
       "      <td>2.574329</td>\n",
       "      <td>22.511301</td>\n",
       "      <td>62.429602</td>\n",
       "      <td>0.000000</td>\n",
       "    </tr>\n",
       "    <tr>\n",
       "      <th>5122</th>\n",
       "      <td>3.241281</td>\n",
       "      <td>-0.109312</td>\n",
       "      <td>-0.080377</td>\n",
       "      <td>-0.080377</td>\n",
       "      <td>112.009902</td>\n",
       "      <td>111.440835</td>\n",
       "      <td>-1.691405</td>\n",
       "      <td>-0.133255</td>\n",
       "      <td>100.098186</td>\n",
       "      <td>0.000000</td>\n",
       "    </tr>\n",
       "  </tbody>\n",
       "</table>\n",
       "</div>"
      ],
      "text/plain": [
       "      Tot Dom Deposits to Tot Assets  Pretax ROA  Net Op Inc to Assets  \\\n",
       "715                         0.285932   31.776833             21.762080   \n",
       "1099                        0.757665   50.026777             38.715331   \n",
       "1317                       11.487960   50.759620             50.759620   \n",
       "1682                       13.084895  419.605254            331.488091   \n",
       "1699                        0.519988   62.138067             57.259726   \n",
       "3364                       17.377361   37.177329             27.943542   \n",
       "3977                        0.307768   66.840139             52.225664   \n",
       "5122                        3.241281   -0.109312             -0.080377   \n",
       "\n",
       "      Return On Assets  NonInterest Inc to Ave Asset  \\\n",
       "715          21.521989                    136.090655   \n",
       "1099         38.715331                    107.934241   \n",
       "1317         50.759620                    197.425211   \n",
       "1682        331.488091                    518.707022   \n",
       "1699         54.306900                    107.363360   \n",
       "3364         27.942960                    283.398961   \n",
       "3977         51.949471                    176.991698   \n",
       "5122         -0.080377                    112.009902   \n",
       "\n",
       "      NonInterest Exp to Ave Asset  Net Interest Margin  RE to Ave Equity  \\\n",
       "715                     106.979769             4.588125         37.208555   \n",
       "1099                     57.969133             2.425527         39.922571   \n",
       "1317                    147.566080             5.798675          5.629423   \n",
       "1682                    100.372380             1.503770         -2.438091   \n",
       "1699                     43.857816             2.793765        -61.848272   \n",
       "3364                    247.826298             1.673912         44.185434   \n",
       "3977                    111.647189             2.574329         22.511301   \n",
       "5122                    111.440835            -1.691405         -0.133255   \n",
       "\n",
       "      Efficiency Ratio  Net Loans Lease to Tot Assets  \n",
       "715          76.930370                       0.000000  \n",
       "1099         52.880714                       0.000000  \n",
       "1317         73.346302                      14.871116  \n",
       "1682         19.303653                       2.107977  \n",
       "1699         40.093100                       0.000000  \n",
       "3364         86.955265                       0.000000  \n",
       "3977         62.429602                       0.000000  \n",
       "5122        100.098186                       0.000000  "
      ]
     },
     "execution_count": 63,
     "metadata": {},
     "output_type": "execute_result"
    }
   ],
   "source": [
    "features_perfrat_df.loc[features_perfrat_df['NonInterest Inc to Ave Asset'] > 100]"
   ]
  },
  {
   "cell_type": "code",
   "execution_count": 43,
   "metadata": {},
   "outputs": [
    {
     "data": {
      "image/png": "[encoded data removed]",
      "text/plain": [
       "<Figure size 1296x432 with 1 Axes>"
      ]
     },
     "metadata": {},
     "output_type": "display_data"
    }
   ],
   "source": [
    "sns.set(style=\"whitegrid\")\n",
    "ax = sns.boxplot(x=features_perfrat_df['NonInterest Exp to Ave Asset'])"
   ]
  },
  {
   "cell_type": "code",
   "execution_count": 44,
   "metadata": {},
   "outputs": [
    {
     "data": {
      "text/plain": [
       "<matplotlib.axes._subplots.AxesSubplot at 0x7f502bf21c18>"
      ]
     },
     "execution_count": 44,
     "metadata": {},
     "output_type": "execute_result"
    },
    {
     "data": {
      "image/png": "[encoded data removed]",
      "text/plain": [
       "<Figure size 1296x432 with 1 Axes>"
      ]
     },
     "metadata": {},
     "output_type": "display_data"
    }
   ],
   "source": [
    "sns.distplot(features_perfrat_df['NonInterest Exp to Ave Asset'],hist_kws={\"range\": [0,100]})"
   ]
  },
  {
   "cell_type": "code",
   "execution_count": 64,
   "metadata": {},
   "outputs": [
    {
     "data": {
      "text/html": [
       "<div>\n",
       "<style scoped>\n",
       "    .dataframe tbody tr th:only-of-type {\n",
       "        vertical-align: middle;\n",
       "    }\n",
       "\n",
       "    .dataframe tbody tr th {\n",
       "        vertical-align: top;\n",
       "    }\n",
       "\n",
       "    .dataframe thead th {\n",
       "        text-align: right;\n",
       "    }\n",
       "</style>\n",
       "<table border=\"1\" class=\"dataframe\">\n",
       "  <thead>\n",
       "    <tr style=\"text-align: right;\">\n",
       "      <th></th>\n",
       "      <th>Tot Dom Deposits to Tot Assets</th>\n",
       "      <th>Pretax ROA</th>\n",
       "      <th>Net Op Inc to Assets</th>\n",
       "      <th>Return On Assets</th>\n",
       "      <th>NonInterest Inc to Ave Asset</th>\n",
       "      <th>NonInterest Exp to Ave Asset</th>\n",
       "      <th>Net Interest Margin</th>\n",
       "      <th>RE to Ave Equity</th>\n",
       "      <th>Efficiency Ratio</th>\n",
       "      <th>Net Loans Lease to Tot Assets</th>\n",
       "    </tr>\n",
       "  </thead>\n",
       "  <tbody>\n",
       "    <tr>\n",
       "      <th>715</th>\n",
       "      <td>0.285932</td>\n",
       "      <td>31.776833</td>\n",
       "      <td>21.762080</td>\n",
       "      <td>21.521989</td>\n",
       "      <td>136.090655</td>\n",
       "      <td>106.979769</td>\n",
       "      <td>4.588125</td>\n",
       "      <td>37.208555</td>\n",
       "      <td>76.930370</td>\n",
       "      <td>0.000000</td>\n",
       "    </tr>\n",
       "    <tr>\n",
       "      <th>1317</th>\n",
       "      <td>11.487960</td>\n",
       "      <td>50.759620</td>\n",
       "      <td>50.759620</td>\n",
       "      <td>50.759620</td>\n",
       "      <td>197.425211</td>\n",
       "      <td>147.566080</td>\n",
       "      <td>5.798675</td>\n",
       "      <td>5.629423</td>\n",
       "      <td>73.346302</td>\n",
       "      <td>14.871116</td>\n",
       "    </tr>\n",
       "    <tr>\n",
       "      <th>1682</th>\n",
       "      <td>13.084895</td>\n",
       "      <td>419.605254</td>\n",
       "      <td>331.488091</td>\n",
       "      <td>331.488091</td>\n",
       "      <td>518.707022</td>\n",
       "      <td>100.372380</td>\n",
       "      <td>1.503770</td>\n",
       "      <td>-2.438091</td>\n",
       "      <td>19.303653</td>\n",
       "      <td>2.107977</td>\n",
       "    </tr>\n",
       "    <tr>\n",
       "      <th>3364</th>\n",
       "      <td>17.377361</td>\n",
       "      <td>37.177329</td>\n",
       "      <td>27.943542</td>\n",
       "      <td>27.942960</td>\n",
       "      <td>283.398961</td>\n",
       "      <td>247.826298</td>\n",
       "      <td>1.673912</td>\n",
       "      <td>44.185434</td>\n",
       "      <td>86.955265</td>\n",
       "      <td>0.000000</td>\n",
       "    </tr>\n",
       "    <tr>\n",
       "      <th>3977</th>\n",
       "      <td>0.307768</td>\n",
       "      <td>66.840139</td>\n",
       "      <td>52.225664</td>\n",
       "      <td>51.949471</td>\n",
       "      <td>176.991698</td>\n",
       "      <td>111.647189</td>\n",
       "      <td>2.574329</td>\n",
       "      <td>22.511301</td>\n",
       "      <td>62.429602</td>\n",
       "      <td>0.000000</td>\n",
       "    </tr>\n",
       "    <tr>\n",
       "      <th>5122</th>\n",
       "      <td>3.241281</td>\n",
       "      <td>-0.109312</td>\n",
       "      <td>-0.080377</td>\n",
       "      <td>-0.080377</td>\n",
       "      <td>112.009902</td>\n",
       "      <td>111.440835</td>\n",
       "      <td>-1.691405</td>\n",
       "      <td>-0.133255</td>\n",
       "      <td>100.098186</td>\n",
       "      <td>0.000000</td>\n",
       "    </tr>\n",
       "  </tbody>\n",
       "</table>\n",
       "</div>"
      ],
      "text/plain": [
       "      Tot Dom Deposits to Tot Assets  Pretax ROA  Net Op Inc to Assets  \\\n",
       "715                         0.285932   31.776833             21.762080   \n",
       "1317                       11.487960   50.759620             50.759620   \n",
       "1682                       13.084895  419.605254            331.488091   \n",
       "3364                       17.377361   37.177329             27.943542   \n",
       "3977                        0.307768   66.840139             52.225664   \n",
       "5122                        3.241281   -0.109312             -0.080377   \n",
       "\n",
       "      Return On Assets  NonInterest Inc to Ave Asset  \\\n",
       "715          21.521989                    136.090655   \n",
       "1317         50.759620                    197.425211   \n",
       "1682        331.488091                    518.707022   \n",
       "3364         27.942960                    283.398961   \n",
       "3977         51.949471                    176.991698   \n",
       "5122         -0.080377                    112.009902   \n",
       "\n",
       "      NonInterest Exp to Ave Asset  Net Interest Margin  RE to Ave Equity  \\\n",
       "715                     106.979769             4.588125         37.208555   \n",
       "1317                    147.566080             5.798675          5.629423   \n",
       "1682                    100.372380             1.503770         -2.438091   \n",
       "3364                    247.826298             1.673912         44.185434   \n",
       "3977                    111.647189             2.574329         22.511301   \n",
       "5122                    111.440835            -1.691405         -0.133255   \n",
       "\n",
       "      Efficiency Ratio  Net Loans Lease to Tot Assets  \n",
       "715          76.930370                       0.000000  \n",
       "1317         73.346302                      14.871116  \n",
       "1682         19.303653                       2.107977  \n",
       "3364         86.955265                       0.000000  \n",
       "3977         62.429602                       0.000000  \n",
       "5122        100.098186                       0.000000  "
      ]
     },
     "execution_count": 64,
     "metadata": {},
     "output_type": "execute_result"
    }
   ],
   "source": [
    "features_perfrat_df.loc[features_perfrat_df['NonInterest Exp to Ave Asset'] > 100]"
   ]
  },
  {
   "cell_type": "code",
   "execution_count": 45,
   "metadata": {},
   "outputs": [
    {
     "data": {
      "image/png": "[encoded data removed]",
      "text/plain": [
       "<Figure size 1296x432 with 1 Axes>"
      ]
     },
     "metadata": {},
     "output_type": "display_data"
    }
   ],
   "source": [
    "sns.set(style=\"whitegrid\")\n",
    "ax = sns.boxplot(x=features_perfrat_df['Net Interest Margin'])"
   ]
  },
  {
   "cell_type": "code",
   "execution_count": 46,
   "metadata": {},
   "outputs": [
    {
     "data": {
      "text/plain": [
       "<matplotlib.axes._subplots.AxesSubplot at 0x7f502be2e470>"
      ]
     },
     "execution_count": 46,
     "metadata": {},
     "output_type": "execute_result"
    },
    {
     "data": {
      "image/png": "[encoded data removed]",
      "text/plain": [
       "<Figure size 1296x432 with 1 Axes>"
      ]
     },
     "metadata": {},
     "output_type": "display_data"
    }
   ],
   "source": [
    "sns.distplot(features_perfrat_df['Net Interest Margin'],hist_kws={\"range\": [0,100]})"
   ]
  },
  {
   "cell_type": "code",
   "execution_count": 66,
   "metadata": {},
   "outputs": [
    {
     "data": {
      "text/html": [
       "<div>\n",
       "<style scoped>\n",
       "    .dataframe tbody tr th:only-of-type {\n",
       "        vertical-align: middle;\n",
       "    }\n",
       "\n",
       "    .dataframe tbody tr th {\n",
       "        vertical-align: top;\n",
       "    }\n",
       "\n",
       "    .dataframe thead th {\n",
       "        text-align: right;\n",
       "    }\n",
       "</style>\n",
       "<table border=\"1\" class=\"dataframe\">\n",
       "  <thead>\n",
       "    <tr style=\"text-align: right;\">\n",
       "      <th></th>\n",
       "      <th>Tot Dom Deposits to Tot Assets</th>\n",
       "      <th>Pretax ROA</th>\n",
       "      <th>Net Op Inc to Assets</th>\n",
       "      <th>Return On Assets</th>\n",
       "      <th>NonInterest Inc to Ave Asset</th>\n",
       "      <th>NonInterest Exp to Ave Asset</th>\n",
       "      <th>Net Interest Margin</th>\n",
       "      <th>RE to Ave Equity</th>\n",
       "      <th>Efficiency Ratio</th>\n",
       "      <th>Net Loans Lease to Tot Assets</th>\n",
       "    </tr>\n",
       "  </thead>\n",
       "  <tbody>\n",
       "    <tr>\n",
       "      <th>15</th>\n",
       "      <td>70.503426</td>\n",
       "      <td>1.927874</td>\n",
       "      <td>1.349987</td>\n",
       "      <td>1.349987</td>\n",
       "      <td>2.696410</td>\n",
       "      <td>14.338192</td>\n",
       "      <td>18.641510</td>\n",
       "      <td>5.969653</td>\n",
       "      <td>76.099737</td>\n",
       "      <td>72.773878</td>\n",
       "    </tr>\n",
       "    <tr>\n",
       "      <th>1096</th>\n",
       "      <td>38.955366</td>\n",
       "      <td>5.468213</td>\n",
       "      <td>3.848346</td>\n",
       "      <td>3.848457</td>\n",
       "      <td>-0.163954</td>\n",
       "      <td>9.464457</td>\n",
       "      <td>22.160742</td>\n",
       "      <td>-4.666948</td>\n",
       "      <td>44.922433</td>\n",
       "      <td>79.649439</td>\n",
       "    </tr>\n",
       "    <tr>\n",
       "      <th>1097</th>\n",
       "      <td>62.466471</td>\n",
       "      <td>3.239871</td>\n",
       "      <td>2.318112</td>\n",
       "      <td>2.313646</td>\n",
       "      <td>1.541146</td>\n",
       "      <td>8.025713</td>\n",
       "      <td>16.836268</td>\n",
       "      <td>17.367106</td>\n",
       "      <td>44.380103</td>\n",
       "      <td>78.835627</td>\n",
       "    </tr>\n",
       "    <tr>\n",
       "      <th>3113</th>\n",
       "      <td>78.313490</td>\n",
       "      <td>8.453921</td>\n",
       "      <td>6.257195</td>\n",
       "      <td>6.257195</td>\n",
       "      <td>4.297758</td>\n",
       "      <td>6.254406</td>\n",
       "      <td>23.949882</td>\n",
       "      <td>24.806305</td>\n",
       "      <td>24.111971</td>\n",
       "      <td>81.859780</td>\n",
       "    </tr>\n",
       "    <tr>\n",
       "      <th>5483</th>\n",
       "      <td>69.216731</td>\n",
       "      <td>12.379465</td>\n",
       "      <td>9.555416</td>\n",
       "      <td>9.483340</td>\n",
       "      <td>14.888388</td>\n",
       "      <td>19.847058</td>\n",
       "      <td>20.979359</td>\n",
       "      <td>10.825796</td>\n",
       "      <td>59.306141</td>\n",
       "      <td>87.670456</td>\n",
       "    </tr>\n",
       "  </tbody>\n",
       "</table>\n",
       "</div>"
      ],
      "text/plain": [
       "      Tot Dom Deposits to Tot Assets  Pretax ROA  Net Op Inc to Assets  \\\n",
       "15                         70.503426    1.927874              1.349987   \n",
       "1096                       38.955366    5.468213              3.848346   \n",
       "1097                       62.466471    3.239871              2.318112   \n",
       "3113                       78.313490    8.453921              6.257195   \n",
       "5483                       69.216731   12.379465              9.555416   \n",
       "\n",
       "      Return On Assets  NonInterest Inc to Ave Asset  \\\n",
       "15            1.349987                      2.696410   \n",
       "1096          3.848457                     -0.163954   \n",
       "1097          2.313646                      1.541146   \n",
       "3113          6.257195                      4.297758   \n",
       "5483          9.483340                     14.888388   \n",
       "\n",
       "      NonInterest Exp to Ave Asset  Net Interest Margin  RE to Ave Equity  \\\n",
       "15                       14.338192            18.641510          5.969653   \n",
       "1096                      9.464457            22.160742         -4.666948   \n",
       "1097                      8.025713            16.836268         17.367106   \n",
       "3113                      6.254406            23.949882         24.806305   \n",
       "5483                     19.847058            20.979359         10.825796   \n",
       "\n",
       "      Efficiency Ratio  Net Loans Lease to Tot Assets  \n",
       "15           76.099737                      72.773878  \n",
       "1096         44.922433                      79.649439  \n",
       "1097         44.380103                      78.835627  \n",
       "3113         24.111971                      81.859780  \n",
       "5483         59.306141                      87.670456  "
      ]
     },
     "execution_count": 66,
     "metadata": {},
     "output_type": "execute_result"
    }
   ],
   "source": [
    "features_perfrat_df.loc[features_perfrat_df['Net Interest Margin'] > 15]"
   ]
  },
  {
   "cell_type": "code",
   "execution_count": 47,
   "metadata": {},
   "outputs": [
    {
     "data": {
      "image/png": "[encoded data removed]",
      "text/plain": [
       "<Figure size 1296x432 with 1 Axes>"
      ]
     },
     "metadata": {},
     "output_type": "display_data"
    }
   ],
   "source": [
    "sns.set(style=\"whitegrid\")\n",
    "ax = sns.boxplot(x=features_perfrat_df['RE to Ave Equity'])"
   ]
  },
  {
   "cell_type": "code",
   "execution_count": 48,
   "metadata": {},
   "outputs": [
    {
     "data": {
      "text/plain": [
       "<matplotlib.axes._subplots.AxesSubplot at 0x7f502bcca080>"
      ]
     },
     "execution_count": 48,
     "metadata": {},
     "output_type": "execute_result"
    },
    {
     "data": {
      "image/png": "[encoded data removed]",
      "text/plain": [
       "<Figure size 1296x432 with 1 Axes>"
      ]
     },
     "metadata": {},
     "output_type": "display_data"
    }
   ],
   "source": [
    "sns.distplot(features_perfrat_df['RE to Ave Equity'],hist_kws={\"range\": [0,100]})"
   ]
  },
  {
   "cell_type": "code",
   "execution_count": 79,
   "metadata": {},
   "outputs": [
    {
     "data": {
      "text/html": [
       "<div>\n",
       "<style scoped>\n",
       "    .dataframe tbody tr th:only-of-type {\n",
       "        vertical-align: middle;\n",
       "    }\n",
       "\n",
       "    .dataframe tbody tr th {\n",
       "        vertical-align: top;\n",
       "    }\n",
       "\n",
       "    .dataframe thead th {\n",
       "        text-align: right;\n",
       "    }\n",
       "</style>\n",
       "<table border=\"1\" class=\"dataframe\">\n",
       "  <thead>\n",
       "    <tr style=\"text-align: right;\">\n",
       "      <th></th>\n",
       "      <th>Tot Dom Deposits to Tot Assets</th>\n",
       "      <th>Pretax ROA</th>\n",
       "      <th>Net Op Inc to Assets</th>\n",
       "      <th>Return On Assets</th>\n",
       "      <th>NonInterest Inc to Ave Asset</th>\n",
       "      <th>NonInterest Exp to Ave Asset</th>\n",
       "      <th>Net Interest Margin</th>\n",
       "      <th>RE to Ave Equity</th>\n",
       "      <th>Efficiency Ratio</th>\n",
       "      <th>Net Loans Lease to Tot Assets</th>\n",
       "    </tr>\n",
       "  </thead>\n",
       "  <tbody>\n",
       "    <tr>\n",
       "      <th>189</th>\n",
       "      <td>84.897883</td>\n",
       "      <td>6.646310</td>\n",
       "      <td>5.076245</td>\n",
       "      <td>5.076245</td>\n",
       "      <td>1.428043</td>\n",
       "      <td>3.786123</td>\n",
       "      <td>9.991293</td>\n",
       "      <td>-60.113848</td>\n",
       "      <td>35.645121</td>\n",
       "      <td>83.617596</td>\n",
       "    </tr>\n",
       "    <tr>\n",
       "      <th>565</th>\n",
       "      <td>83.938470</td>\n",
       "      <td>-1.779420</td>\n",
       "      <td>-1.772760</td>\n",
       "      <td>-1.779420</td>\n",
       "      <td>0.652246</td>\n",
       "      <td>4.616502</td>\n",
       "      <td>2.954015</td>\n",
       "      <td>-68.920099</td>\n",
       "      <td>162.338993</td>\n",
       "      <td>60.756380</td>\n",
       "    </tr>\n",
       "    <tr>\n",
       "      <th>1042</th>\n",
       "      <td>95.199620</td>\n",
       "      <td>-2.238541</td>\n",
       "      <td>-2.238541</td>\n",
       "      <td>-2.238541</td>\n",
       "      <td>-0.188402</td>\n",
       "      <td>5.858698</td>\n",
       "      <td>4.374857</td>\n",
       "      <td>-71.745560</td>\n",
       "      <td>160.604365</td>\n",
       "      <td>63.125200</td>\n",
       "    </tr>\n",
       "    <tr>\n",
       "      <th>1629</th>\n",
       "      <td>84.930805</td>\n",
       "      <td>3.158303</td>\n",
       "      <td>1.007607</td>\n",
       "      <td>1.822959</td>\n",
       "      <td>0.146457</td>\n",
       "      <td>2.014215</td>\n",
       "      <td>4.222709</td>\n",
       "      <td>-55.277070</td>\n",
       "      <td>48.647524</td>\n",
       "      <td>81.129041</td>\n",
       "    </tr>\n",
       "    <tr>\n",
       "      <th>1699</th>\n",
       "      <td>0.519988</td>\n",
       "      <td>62.138067</td>\n",
       "      <td>57.259726</td>\n",
       "      <td>54.306900</td>\n",
       "      <td>107.363360</td>\n",
       "      <td>43.857816</td>\n",
       "      <td>2.793765</td>\n",
       "      <td>-61.848272</td>\n",
       "      <td>40.093100</td>\n",
       "      <td>0.000000</td>\n",
       "    </tr>\n",
       "    <tr>\n",
       "      <th>1752</th>\n",
       "      <td>89.861131</td>\n",
       "      <td>-5.467718</td>\n",
       "      <td>-5.467718</td>\n",
       "      <td>-5.467718</td>\n",
       "      <td>-5.311467</td>\n",
       "      <td>4.031257</td>\n",
       "      <td>4.557074</td>\n",
       "      <td>-48.395722</td>\n",
       "      <td>-280.638144</td>\n",
       "      <td>64.636660</td>\n",
       "    </tr>\n",
       "    <tr>\n",
       "      <th>1863</th>\n",
       "      <td>81.934078</td>\n",
       "      <td>1.939676</td>\n",
       "      <td>1.364215</td>\n",
       "      <td>1.573008</td>\n",
       "      <td>2.428054</td>\n",
       "      <td>4.164538</td>\n",
       "      <td>4.039431</td>\n",
       "      <td>-89.020316</td>\n",
       "      <td>70.400139</td>\n",
       "      <td>57.490227</td>\n",
       "    </tr>\n",
       "    <tr>\n",
       "      <th>2713</th>\n",
       "      <td>76.276143</td>\n",
       "      <td>14.765942</td>\n",
       "      <td>10.617618</td>\n",
       "      <td>10.617618</td>\n",
       "      <td>29.208257</td>\n",
       "      <td>11.846751</td>\n",
       "      <td>6.989403</td>\n",
       "      <td>50.877685</td>\n",
       "      <td>33.229415</td>\n",
       "      <td>72.466288</td>\n",
       "    </tr>\n",
       "    <tr>\n",
       "      <th>2787</th>\n",
       "      <td>83.745848</td>\n",
       "      <td>-5.006674</td>\n",
       "      <td>-5.010785</td>\n",
       "      <td>-5.010785</td>\n",
       "      <td>0.598597</td>\n",
       "      <td>2.634486</td>\n",
       "      <td>2.879212</td>\n",
       "      <td>-50.002728</td>\n",
       "      <td>77.766990</td>\n",
       "      <td>67.442378</td>\n",
       "    </tr>\n",
       "    <tr>\n",
       "      <th>3255</th>\n",
       "      <td>66.609995</td>\n",
       "      <td>-4.319076</td>\n",
       "      <td>0.377007</td>\n",
       "      <td>-4.424655</td>\n",
       "      <td>4.042818</td>\n",
       "      <td>3.564915</td>\n",
       "      <td>0.004849</td>\n",
       "      <td>-53.839400</td>\n",
       "      <td>88.076918</td>\n",
       "      <td>63.840479</td>\n",
       "    </tr>\n",
       "    <tr>\n",
       "      <th>3256</th>\n",
       "      <td>87.172103</td>\n",
       "      <td>0.388547</td>\n",
       "      <td>4.474496</td>\n",
       "      <td>4.474496</td>\n",
       "      <td>1.033371</td>\n",
       "      <td>4.741106</td>\n",
       "      <td>4.598412</td>\n",
       "      <td>41.563997</td>\n",
       "      <td>92.425463</td>\n",
       "      <td>78.172201</td>\n",
       "    </tr>\n",
       "    <tr>\n",
       "      <th>3364</th>\n",
       "      <td>17.377361</td>\n",
       "      <td>37.177329</td>\n",
       "      <td>27.943542</td>\n",
       "      <td>27.942960</td>\n",
       "      <td>283.398961</td>\n",
       "      <td>247.826298</td>\n",
       "      <td>1.673912</td>\n",
       "      <td>44.185434</td>\n",
       "      <td>86.955265</td>\n",
       "      <td>0.000000</td>\n",
       "    </tr>\n",
       "    <tr>\n",
       "      <th>3405</th>\n",
       "      <td>81.679112</td>\n",
       "      <td>-1.411942</td>\n",
       "      <td>-1.411942</td>\n",
       "      <td>-1.411942</td>\n",
       "      <td>0.553023</td>\n",
       "      <td>4.304389</td>\n",
       "      <td>2.928809</td>\n",
       "      <td>-63.948132</td>\n",
       "      <td>130.463576</td>\n",
       "      <td>75.074475</td>\n",
       "    </tr>\n",
       "    <tr>\n",
       "      <th>3413</th>\n",
       "      <td>57.677530</td>\n",
       "      <td>4.557891</td>\n",
       "      <td>4.557891</td>\n",
       "      <td>4.557891</td>\n",
       "      <td>0.100413</td>\n",
       "      <td>3.750218</td>\n",
       "      <td>3.865169</td>\n",
       "      <td>41.829730</td>\n",
       "      <td>100.703400</td>\n",
       "      <td>78.453453</td>\n",
       "    </tr>\n",
       "    <tr>\n",
       "      <th>3523</th>\n",
       "      <td>92.150368</td>\n",
       "      <td>-4.366121</td>\n",
       "      <td>-4.366121</td>\n",
       "      <td>-4.366121</td>\n",
       "      <td>0.500326</td>\n",
       "      <td>3.245359</td>\n",
       "      <td>3.479093</td>\n",
       "      <td>-59.907231</td>\n",
       "      <td>90.525849</td>\n",
       "      <td>66.816150</td>\n",
       "    </tr>\n",
       "    <tr>\n",
       "      <th>4797</th>\n",
       "      <td>81.905108</td>\n",
       "      <td>-3.090316</td>\n",
       "      <td>-3.090316</td>\n",
       "      <td>-3.090316</td>\n",
       "      <td>1.476433</td>\n",
       "      <td>7.622702</td>\n",
       "      <td>3.857703</td>\n",
       "      <td>-54.439064</td>\n",
       "      <td>168.182967</td>\n",
       "      <td>64.488440</td>\n",
       "    </tr>\n",
       "    <tr>\n",
       "      <th>5014</th>\n",
       "      <td>80.146954</td>\n",
       "      <td>0.956715</td>\n",
       "      <td>0.919699</td>\n",
       "      <td>0.919699</td>\n",
       "      <td>1.230062</td>\n",
       "      <td>2.477209</td>\n",
       "      <td>2.437145</td>\n",
       "      <td>-51.332233</td>\n",
       "      <td>71.782178</td>\n",
       "      <td>60.667457</td>\n",
       "    </tr>\n",
       "  </tbody>\n",
       "</table>\n",
       "</div>"
      ],
      "text/plain": [
       "      Tot Dom Deposits to Tot Assets  Pretax ROA  Net Op Inc to Assets  \\\n",
       "189                        84.897883    6.646310              5.076245   \n",
       "565                        83.938470   -1.779420             -1.772760   \n",
       "1042                       95.199620   -2.238541             -2.238541   \n",
       "1629                       84.930805    3.158303              1.007607   \n",
       "1699                        0.519988   62.138067             57.259726   \n",
       "1752                       89.861131   -5.467718             -5.467718   \n",
       "1863                       81.934078    1.939676              1.364215   \n",
       "2713                       76.276143   14.765942             10.617618   \n",
       "2787                       83.745848   -5.006674             -5.010785   \n",
       "3255                       66.609995   -4.319076              0.377007   \n",
       "3256                       87.172103    0.388547              4.474496   \n",
       "3364                       17.377361   37.177329             27.943542   \n",
       "3405                       81.679112   -1.411942             -1.411942   \n",
       "3413                       57.677530    4.557891              4.557891   \n",
       "3523                       92.150368   -4.366121             -4.366121   \n",
       "4797                       81.905108   -3.090316             -3.090316   \n",
       "5014                       80.146954    0.956715              0.919699   \n",
       "\n",
       "      Return On Assets  NonInterest Inc to Ave Asset  \\\n",
       "189           5.076245                      1.428043   \n",
       "565          -1.779420                      0.652246   \n",
       "1042         -2.238541                     -0.188402   \n",
       "1629          1.822959                      0.146457   \n",
       "1699         54.306900                    107.363360   \n",
       "1752         -5.467718                     -5.311467   \n",
       "1863          1.573008                      2.428054   \n",
       "2713         10.617618                     29.208257   \n",
       "2787         -5.010785                      0.598597   \n",
       "3255         -4.424655                      4.042818   \n",
       "3256          4.474496                      1.033371   \n",
       "3364         27.942960                    283.398961   \n",
       "3405         -1.411942                      0.553023   \n",
       "3413          4.557891                      0.100413   \n",
       "3523         -4.366121                      0.500326   \n",
       "4797         -3.090316                      1.476433   \n",
       "5014          0.919699                      1.230062   \n",
       "\n",
       "      NonInterest Exp to Ave Asset  Net Interest Margin  RE to Ave Equity  \\\n",
       "189                       3.786123             9.991293        -60.113848   \n",
       "565                       4.616502             2.954015        -68.920099   \n",
       "1042                      5.858698             4.374857        -71.745560   \n",
       "1629                      2.014215             4.222709        -55.277070   \n",
       "1699                     43.857816             2.793765        -61.848272   \n",
       "1752                      4.031257             4.557074        -48.395722   \n",
       "1863                      4.164538             4.039431        -89.020316   \n",
       "2713                     11.846751             6.989403         50.877685   \n",
       "2787                      2.634486             2.879212        -50.002728   \n",
       "3255                      3.564915             0.004849        -53.839400   \n",
       "3256                      4.741106             4.598412         41.563997   \n",
       "3364                    247.826298             1.673912         44.185434   \n",
       "3405                      4.304389             2.928809        -63.948132   \n",
       "3413                      3.750218             3.865169         41.829730   \n",
       "3523                      3.245359             3.479093        -59.907231   \n",
       "4797                      7.622702             3.857703        -54.439064   \n",
       "5014                      2.477209             2.437145        -51.332233   \n",
       "\n",
       "      Efficiency Ratio  Net Loans Lease to Tot Assets  \n",
       "189          35.645121                      83.617596  \n",
       "565         162.338993                      60.756380  \n",
       "1042        160.604365                      63.125200  \n",
       "1629         48.647524                      81.129041  \n",
       "1699         40.093100                       0.000000  \n",
       "1752       -280.638144                      64.636660  \n",
       "1863         70.400139                      57.490227  \n",
       "2713         33.229415                      72.466288  \n",
       "2787         77.766990                      67.442378  \n",
       "3255         88.076918                      63.840479  \n",
       "3256         92.425463                      78.172201  \n",
       "3364         86.955265                       0.000000  \n",
       "3405        130.463576                      75.074475  \n",
       "3413        100.703400                      78.453453  \n",
       "3523         90.525849                      66.816150  \n",
       "4797        168.182967                      64.488440  \n",
       "5014         71.782178                      60.667457  "
      ]
     },
     "execution_count": 79,
     "metadata": {},
     "output_type": "execute_result"
    }
   ],
   "source": [
    "features_perfrat_df.loc[(features_perfrat_df['RE to Ave Equity'] > 40) | (features_perfrat_df['RE to Ave Equity'] < -40)]"
   ]
  },
  {
   "cell_type": "code",
   "execution_count": 49,
   "metadata": {},
   "outputs": [
    {
     "data": {
      "image/png": "[encoded data removed]",
      "text/plain": [
       "<Figure size 1296x432 with 1 Axes>"
      ]
     },
     "metadata": {},
     "output_type": "display_data"
    }
   ],
   "source": [
    "sns.set(style=\"whitegrid\")\n",
    "ax = sns.boxplot(x=features_perfrat_df['Efficiency Ratio'])"
   ]
  },
  {
   "cell_type": "code",
   "execution_count": 50,
   "metadata": {},
   "outputs": [
    {
     "data": {
      "text/plain": [
       "<matplotlib.axes._subplots.AxesSubplot at 0x7f502bbf0ba8>"
      ]
     },
     "execution_count": 50,
     "metadata": {},
     "output_type": "execute_result"
    },
    {
     "data": {
      "image/png": "[encoded data removed]",
      "text/plain": [
       "<Figure size 1296x432 with 1 Axes>"
      ]
     },
     "metadata": {},
     "output_type": "display_data"
    }
   ],
   "source": [
    "sns.distplot(features_perfrat_df['Efficiency Ratio'],hist_kws={\"range\": [0,100]})"
   ]
  },
  {
   "cell_type": "code",
   "execution_count": 81,
   "metadata": {},
   "outputs": [
    {
     "data": {
      "text/html": [
       "<div>\n",
       "<style scoped>\n",
       "    .dataframe tbody tr th:only-of-type {\n",
       "        vertical-align: middle;\n",
       "    }\n",
       "\n",
       "    .dataframe tbody tr th {\n",
       "        vertical-align: top;\n",
       "    }\n",
       "\n",
       "    .dataframe thead th {\n",
       "        text-align: right;\n",
       "    }\n",
       "</style>\n",
       "<table border=\"1\" class=\"dataframe\">\n",
       "  <thead>\n",
       "    <tr style=\"text-align: right;\">\n",
       "      <th></th>\n",
       "      <th>Tot Dom Deposits to Tot Assets</th>\n",
       "      <th>Pretax ROA</th>\n",
       "      <th>Net Op Inc to Assets</th>\n",
       "      <th>Return On Assets</th>\n",
       "      <th>NonInterest Inc to Ave Asset</th>\n",
       "      <th>NonInterest Exp to Ave Asset</th>\n",
       "      <th>Net Interest Margin</th>\n",
       "      <th>RE to Ave Equity</th>\n",
       "      <th>Efficiency Ratio</th>\n",
       "      <th>Net Loans Lease to Tot Assets</th>\n",
       "    </tr>\n",
       "  </thead>\n",
       "  <tbody>\n",
       "    <tr>\n",
       "      <th>610</th>\n",
       "      <td>81.047431</td>\n",
       "      <td>-3.323233</td>\n",
       "      <td>-3.324730</td>\n",
       "      <td>-3.324730</td>\n",
       "      <td>0.043431</td>\n",
       "      <td>5.469331</td>\n",
       "      <td>2.533686</td>\n",
       "      <td>-18.809837</td>\n",
       "      <td>214.823529</td>\n",
       "      <td>63.755222</td>\n",
       "    </tr>\n",
       "    <tr>\n",
       "      <th>696</th>\n",
       "      <td>57.672831</td>\n",
       "      <td>-4.195750</td>\n",
       "      <td>-4.199572</td>\n",
       "      <td>-4.199572</td>\n",
       "      <td>0.057319</td>\n",
       "      <td>8.303612</td>\n",
       "      <td>4.214935</td>\n",
       "      <td>-13.843053</td>\n",
       "      <td>202.139535</td>\n",
       "      <td>55.054477</td>\n",
       "    </tr>\n",
       "    <tr>\n",
       "      <th>1111</th>\n",
       "      <td>15.145060</td>\n",
       "      <td>-3.527921</td>\n",
       "      <td>-3.527921</td>\n",
       "      <td>-3.527921</td>\n",
       "      <td>0.517569</td>\n",
       "      <td>4.207450</td>\n",
       "      <td>0.262774</td>\n",
       "      <td>-4.259842</td>\n",
       "      <td>545.662100</td>\n",
       "      <td>3.774382</td>\n",
       "    </tr>\n",
       "    <tr>\n",
       "      <th>1454</th>\n",
       "      <td>53.352039</td>\n",
       "      <td>-13.000572</td>\n",
       "      <td>-13.005543</td>\n",
       "      <td>-13.005543</td>\n",
       "      <td>0.004972</td>\n",
       "      <td>13.179547</td>\n",
       "      <td>1.294238</td>\n",
       "      <td>-22.708333</td>\n",
       "      <td>1095.454545</td>\n",
       "      <td>25.982528</td>\n",
       "    </tr>\n",
       "    <tr>\n",
       "      <th>1752</th>\n",
       "      <td>89.861131</td>\n",
       "      <td>-5.467718</td>\n",
       "      <td>-5.467718</td>\n",
       "      <td>-5.467718</td>\n",
       "      <td>-5.311467</td>\n",
       "      <td>4.031257</td>\n",
       "      <td>4.557074</td>\n",
       "      <td>-48.395722</td>\n",
       "      <td>-280.638144</td>\n",
       "      <td>64.636660</td>\n",
       "    </tr>\n",
       "    <tr>\n",
       "      <th>3024</th>\n",
       "      <td>56.628745</td>\n",
       "      <td>-9.379131</td>\n",
       "      <td>-7.416057</td>\n",
       "      <td>-7.416057</td>\n",
       "      <td>0.038006</td>\n",
       "      <td>10.704371</td>\n",
       "      <td>2.992135</td>\n",
       "      <td>-13.664320</td>\n",
       "      <td>397.467573</td>\n",
       "      <td>58.709773</td>\n",
       "    </tr>\n",
       "    <tr>\n",
       "      <th>3048</th>\n",
       "      <td>86.767482</td>\n",
       "      <td>-1.877853</td>\n",
       "      <td>-1.877853</td>\n",
       "      <td>-1.877853</td>\n",
       "      <td>0.074724</td>\n",
       "      <td>3.716719</td>\n",
       "      <td>1.781029</td>\n",
       "      <td>-29.585420</td>\n",
       "      <td>202.120141</td>\n",
       "      <td>46.257905</td>\n",
       "    </tr>\n",
       "    <tr>\n",
       "      <th>4490</th>\n",
       "      <td>81.116766</td>\n",
       "      <td>2.214063</td>\n",
       "      <td>2.214063</td>\n",
       "      <td>2.214063</td>\n",
       "      <td>-0.641059</td>\n",
       "      <td>3.303494</td>\n",
       "      <td>1.916319</td>\n",
       "      <td>16.200457</td>\n",
       "      <td>282.120253</td>\n",
       "      <td>28.605345</td>\n",
       "    </tr>\n",
       "  </tbody>\n",
       "</table>\n",
       "</div>"
      ],
      "text/plain": [
       "      Tot Dom Deposits to Tot Assets  Pretax ROA  Net Op Inc to Assets  \\\n",
       "610                        81.047431   -3.323233             -3.324730   \n",
       "696                        57.672831   -4.195750             -4.199572   \n",
       "1111                       15.145060   -3.527921             -3.527921   \n",
       "1454                       53.352039  -13.000572            -13.005543   \n",
       "1752                       89.861131   -5.467718             -5.467718   \n",
       "3024                       56.628745   -9.379131             -7.416057   \n",
       "3048                       86.767482   -1.877853             -1.877853   \n",
       "4490                       81.116766    2.214063              2.214063   \n",
       "\n",
       "      Return On Assets  NonInterest Inc to Ave Asset  \\\n",
       "610          -3.324730                      0.043431   \n",
       "696          -4.199572                      0.057319   \n",
       "1111         -3.527921                      0.517569   \n",
       "1454        -13.005543                      0.004972   \n",
       "1752         -5.467718                     -5.311467   \n",
       "3024         -7.416057                      0.038006   \n",
       "3048         -1.877853                      0.074724   \n",
       "4490          2.214063                     -0.641059   \n",
       "\n",
       "      NonInterest Exp to Ave Asset  Net Interest Margin  RE to Ave Equity  \\\n",
       "610                       5.469331             2.533686        -18.809837   \n",
       "696                       8.303612             4.214935        -13.843053   \n",
       "1111                      4.207450             0.262774         -4.259842   \n",
       "1454                     13.179547             1.294238        -22.708333   \n",
       "1752                      4.031257             4.557074        -48.395722   \n",
       "3024                     10.704371             2.992135        -13.664320   \n",
       "3048                      3.716719             1.781029        -29.585420   \n",
       "4490                      3.303494             1.916319         16.200457   \n",
       "\n",
       "      Efficiency Ratio  Net Loans Lease to Tot Assets  \n",
       "610         214.823529                      63.755222  \n",
       "696         202.139535                      55.054477  \n",
       "1111        545.662100                       3.774382  \n",
       "1454       1095.454545                      25.982528  \n",
       "1752       -280.638144                      64.636660  \n",
       "3024        397.467573                      58.709773  \n",
       "3048        202.120141                      46.257905  \n",
       "4490        282.120253                      28.605345  "
      ]
     },
     "execution_count": 81,
     "metadata": {},
     "output_type": "execute_result"
    }
   ],
   "source": [
    "features_perfrat_df.loc[(features_perfrat_df['Efficiency Ratio'] > 200) | (features_perfrat_df['Efficiency Ratio'] < -200)]"
   ]
  },
  {
   "cell_type": "code",
   "execution_count": 51,
   "metadata": {},
   "outputs": [
    {
     "data": {
      "image/png": "[encoded data removed]",
      "text/plain": [
       "<Figure size 1296x432 with 1 Axes>"
      ]
     },
     "metadata": {},
     "output_type": "display_data"
    }
   ],
   "source": [
    "sns.set(style=\"whitegrid\")\n",
    "ax = sns.boxplot(x=features_perfrat_df['Net Loans Lease to Tot Assets'])"
   ]
  },
  {
   "cell_type": "code",
   "execution_count": 52,
   "metadata": {},
   "outputs": [
    {
     "data": {
      "text/plain": [
       "<matplotlib.axes._subplots.AxesSubplot at 0x7f5033f339b0>"
      ]
     },
     "execution_count": 52,
     "metadata": {},
     "output_type": "execute_result"
    },
    {
     "data": {
      "image/png": "[encoded data removed]",
      "text/plain": [
       "<Figure size 1296x432 with 1 Axes>"
      ]
     },
     "metadata": {},
     "output_type": "display_data"
    }
   ],
   "source": [
    "sns.distplot(features_perfrat_df['Net Loans Lease to Tot Assets'],hist_kws={\"range\": [0,100]})"
   ]
  },
  {
   "cell_type": "code",
   "execution_count": null,
   "metadata": {},
   "outputs": [],
   "source": []
  },
  {
   "cell_type": "markdown",
   "metadata": {},
   "source": [
    "Issues identified below:  higly correlated features (> 0.70)"
   ]
  },
  {
   "cell_type": "code",
   "execution_count": 24,
   "metadata": {},
   "outputs": [
    {
     "data": {
      "image/png": "[encoded data removed]",
      "text/plain": [
       "<Figure size 864x864 with 2 Axes>"
      ]
     },
     "metadata": {},
     "output_type": "display_data"
    }
   ],
   "source": [
    "# Correlation visualization\n",
    "corrmat = features_perfrat_df.corr()\n",
    "f, ax = plt.subplots(figsize=(12, 12))\n",
    "sns.heatmap(corrmat, vmax=.8, square=True);"
   ]
  },
  {
   "cell_type": "code",
   "execution_count": 26,
   "metadata": {},
   "outputs": [
    {
     "data": {
      "text/html": [
       "<div>\n",
       "<style scoped>\n",
       "    .dataframe tbody tr th:only-of-type {\n",
       "        vertical-align: middle;\n",
       "    }\n",
       "\n",
       "    .dataframe tbody tr th {\n",
       "        vertical-align: top;\n",
       "    }\n",
       "\n",
       "    .dataframe thead th {\n",
       "        text-align: right;\n",
       "    }\n",
       "</style>\n",
       "<table border=\"1\" class=\"dataframe\">\n",
       "  <thead>\n",
       "    <tr style=\"text-align: right;\">\n",
       "      <th></th>\n",
       "      <th>Tot Dom Deposits to Tot Assets</th>\n",
       "      <th>Pretax ROA</th>\n",
       "      <th>Net Op Inc to Assets</th>\n",
       "      <th>Return On Assets</th>\n",
       "      <th>NonInterest Inc to Ave Asset</th>\n",
       "      <th>NonInterest Exp to Ave Asset</th>\n",
       "      <th>Net Interest Margin</th>\n",
       "      <th>RE to Ave Equity</th>\n",
       "      <th>Efficiency Ratio</th>\n",
       "      <th>Net Loans Lease to Tot Assets</th>\n",
       "    </tr>\n",
       "  </thead>\n",
       "  <tbody>\n",
       "    <tr>\n",
       "      <th>Tot Dom Deposits to Tot Assets</th>\n",
       "      <td>1.000000</td>\n",
       "      <td>-0.241687</td>\n",
       "      <td>-0.238503</td>\n",
       "      <td>-0.237229</td>\n",
       "      <td>-0.378283</td>\n",
       "      <td>-0.390345</td>\n",
       "      <td>0.103278</td>\n",
       "      <td>0.021702</td>\n",
       "      <td>-0.043420</td>\n",
       "      <td>0.030163</td>\n",
       "    </tr>\n",
       "    <tr>\n",
       "      <th>Pretax ROA</th>\n",
       "      <td>-0.241687</td>\n",
       "      <td>1.000000</td>\n",
       "      <td>0.998149</td>\n",
       "      <td>0.998460</td>\n",
       "      <td>0.862737</td>\n",
       "      <td>0.433911</td>\n",
       "      <td>0.009290</td>\n",
       "      <td>0.057550</td>\n",
       "      <td>-0.119589</td>\n",
       "      <td>-0.085243</td>\n",
       "    </tr>\n",
       "    <tr>\n",
       "      <th>Net Op Inc to Assets</th>\n",
       "      <td>-0.238503</td>\n",
       "      <td>0.998149</td>\n",
       "      <td>1.000000</td>\n",
       "      <td>0.999747</td>\n",
       "      <td>0.862855</td>\n",
       "      <td>0.436178</td>\n",
       "      <td>0.011522</td>\n",
       "      <td>0.058135</td>\n",
       "      <td>-0.128952</td>\n",
       "      <td>-0.088522</td>\n",
       "    </tr>\n",
       "    <tr>\n",
       "      <th>Return On Assets</th>\n",
       "      <td>-0.237229</td>\n",
       "      <td>0.998460</td>\n",
       "      <td>0.999747</td>\n",
       "      <td>1.000000</td>\n",
       "      <td>0.862283</td>\n",
       "      <td>0.435359</td>\n",
       "      <td>0.012070</td>\n",
       "      <td>0.061873</td>\n",
       "      <td>-0.129139</td>\n",
       "      <td>-0.087299</td>\n",
       "    </tr>\n",
       "    <tr>\n",
       "      <th>NonInterest Inc to Ave Asset</th>\n",
       "      <td>-0.378283</td>\n",
       "      <td>0.862737</td>\n",
       "      <td>0.862855</td>\n",
       "      <td>0.862283</td>\n",
       "      <td>1.000000</td>\n",
       "      <td>0.824714</td>\n",
       "      <td>-0.051144</td>\n",
       "      <td>0.044278</td>\n",
       "      <td>-0.004489</td>\n",
       "      <td>-0.156971</td>\n",
       "    </tr>\n",
       "    <tr>\n",
       "      <th>NonInterest Exp to Ave Asset</th>\n",
       "      <td>-0.390345</td>\n",
       "      <td>0.433911</td>\n",
       "      <td>0.436178</td>\n",
       "      <td>0.435359</td>\n",
       "      <td>0.824714</td>\n",
       "      <td>1.000000</td>\n",
       "      <td>0.016115</td>\n",
       "      <td>0.041055</td>\n",
       "      <td>0.108326</td>\n",
       "      <td>-0.132192</td>\n",
       "    </tr>\n",
       "    <tr>\n",
       "      <th>Net Interest Margin</th>\n",
       "      <td>0.103278</td>\n",
       "      <td>0.009290</td>\n",
       "      <td>0.011522</td>\n",
       "      <td>0.012070</td>\n",
       "      <td>-0.051144</td>\n",
       "      <td>0.016115</td>\n",
       "      <td>1.000000</td>\n",
       "      <td>0.103207</td>\n",
       "      <td>-0.131407</td>\n",
       "      <td>0.378533</td>\n",
       "    </tr>\n",
       "    <tr>\n",
       "      <th>RE to Ave Equity</th>\n",
       "      <td>0.021702</td>\n",
       "      <td>0.057550</td>\n",
       "      <td>0.058135</td>\n",
       "      <td>0.061873</td>\n",
       "      <td>0.044278</td>\n",
       "      <td>0.041055</td>\n",
       "      <td>0.103207</td>\n",
       "      <td>1.000000</td>\n",
       "      <td>-0.289210</td>\n",
       "      <td>0.074092</td>\n",
       "    </tr>\n",
       "    <tr>\n",
       "      <th>Efficiency Ratio</th>\n",
       "      <td>-0.043420</td>\n",
       "      <td>-0.119589</td>\n",
       "      <td>-0.128952</td>\n",
       "      <td>-0.129139</td>\n",
       "      <td>-0.004489</td>\n",
       "      <td>0.108326</td>\n",
       "      <td>-0.131407</td>\n",
       "      <td>-0.289210</td>\n",
       "      <td>1.000000</td>\n",
       "      <td>-0.060346</td>\n",
       "    </tr>\n",
       "    <tr>\n",
       "      <th>Net Loans Lease to Tot Assets</th>\n",
       "      <td>0.030163</td>\n",
       "      <td>-0.085243</td>\n",
       "      <td>-0.088522</td>\n",
       "      <td>-0.087299</td>\n",
       "      <td>-0.156971</td>\n",
       "      <td>-0.132192</td>\n",
       "      <td>0.378533</td>\n",
       "      <td>0.074092</td>\n",
       "      <td>-0.060346</td>\n",
       "      <td>1.000000</td>\n",
       "    </tr>\n",
       "  </tbody>\n",
       "</table>\n",
       "</div>"
      ],
      "text/plain": [
       "                                Tot Dom Deposits to Tot Assets  Pretax ROA  \\\n",
       "Tot Dom Deposits to Tot Assets                        1.000000   -0.241687   \n",
       "Pretax ROA                                           -0.241687    1.000000   \n",
       "Net Op Inc to Assets                                 -0.238503    0.998149   \n",
       "Return On Assets                                     -0.237229    0.998460   \n",
       "NonInterest Inc to Ave Asset                         -0.378283    0.862737   \n",
       "NonInterest Exp to Ave Asset                         -0.390345    0.433911   \n",
       "Net Interest Margin                                   0.103278    0.009290   \n",
       "RE to Ave Equity                                      0.021702    0.057550   \n",
       "Efficiency Ratio                                     -0.043420   -0.119589   \n",
       "Net Loans Lease to Tot Assets                         0.030163   -0.085243   \n",
       "\n",
       "                                Net Op Inc to Assets  Return On Assets  \\\n",
       "Tot Dom Deposits to Tot Assets             -0.238503         -0.237229   \n",
       "Pretax ROA                                  0.998149          0.998460   \n",
       "Net Op Inc to Assets                        1.000000          0.999747   \n",
       "Return On Assets                            0.999747          1.000000   \n",
       "NonInterest Inc to Ave Asset                0.862855          0.862283   \n",
       "NonInterest Exp to Ave Asset                0.436178          0.435359   \n",
       "Net Interest Margin                         0.011522          0.012070   \n",
       "RE to Ave Equity                            0.058135          0.061873   \n",
       "Efficiency Ratio                           -0.128952         -0.129139   \n",
       "Net Loans Lease to Tot Assets              -0.088522         -0.087299   \n",
       "\n",
       "                                NonInterest Inc to Ave Asset  \\\n",
       "Tot Dom Deposits to Tot Assets                     -0.378283   \n",
       "Pretax ROA                                          0.862737   \n",
       "Net Op Inc to Assets                                0.862855   \n",
       "Return On Assets                                    0.862283   \n",
       "NonInterest Inc to Ave Asset                        1.000000   \n",
       "NonInterest Exp to Ave Asset                        0.824714   \n",
       "Net Interest Margin                                -0.051144   \n",
       "RE to Ave Equity                                    0.044278   \n",
       "Efficiency Ratio                                   -0.004489   \n",
       "Net Loans Lease to Tot Assets                      -0.156971   \n",
       "\n",
       "                                NonInterest Exp to Ave Asset  \\\n",
       "Tot Dom Deposits to Tot Assets                     -0.390345   \n",
       "Pretax ROA                                          0.433911   \n",
       "Net Op Inc to Assets                                0.436178   \n",
       "Return On Assets                                    0.435359   \n",
       "NonInterest Inc to Ave Asset                        0.824714   \n",
       "NonInterest Exp to Ave Asset                        1.000000   \n",
       "Net Interest Margin                                 0.016115   \n",
       "RE to Ave Equity                                    0.041055   \n",
       "Efficiency Ratio                                    0.108326   \n",
       "Net Loans Lease to Tot Assets                      -0.132192   \n",
       "\n",
       "                                Net Interest Margin  RE to Ave Equity  \\\n",
       "Tot Dom Deposits to Tot Assets             0.103278          0.021702   \n",
       "Pretax ROA                                 0.009290          0.057550   \n",
       "Net Op Inc to Assets                       0.011522          0.058135   \n",
       "Return On Assets                           0.012070          0.061873   \n",
       "NonInterest Inc to Ave Asset              -0.051144          0.044278   \n",
       "NonInterest Exp to Ave Asset               0.016115          0.041055   \n",
       "Net Interest Margin                        1.000000          0.103207   \n",
       "RE to Ave Equity                           0.103207          1.000000   \n",
       "Efficiency Ratio                          -0.131407         -0.289210   \n",
       "Net Loans Lease to Tot Assets              0.378533          0.074092   \n",
       "\n",
       "                                Efficiency Ratio  \\\n",
       "Tot Dom Deposits to Tot Assets         -0.043420   \n",
       "Pretax ROA                             -0.119589   \n",
       "Net Op Inc to Assets                   -0.128952   \n",
       "Return On Assets                       -0.129139   \n",
       "NonInterest Inc to Ave Asset           -0.004489   \n",
       "NonInterest Exp to Ave Asset            0.108326   \n",
       "Net Interest Margin                    -0.131407   \n",
       "RE to Ave Equity                       -0.289210   \n",
       "Efficiency Ratio                        1.000000   \n",
       "Net Loans Lease to Tot Assets          -0.060346   \n",
       "\n",
       "                                Net Loans Lease to Tot Assets  \n",
       "Tot Dom Deposits to Tot Assets                       0.030163  \n",
       "Pretax ROA                                          -0.085243  \n",
       "Net Op Inc to Assets                                -0.088522  \n",
       "Return On Assets                                    -0.087299  \n",
       "NonInterest Inc to Ave Asset                        -0.156971  \n",
       "NonInterest Exp to Ave Asset                        -0.132192  \n",
       "Net Interest Margin                                  0.378533  \n",
       "RE to Ave Equity                                     0.074092  \n",
       "Efficiency Ratio                                    -0.060346  \n",
       "Net Loans Lease to Tot Assets                        1.000000  "
      ]
     },
     "execution_count": 26,
     "metadata": {},
     "output_type": "execute_result"
    }
   ],
   "source": [
    "features_perfrat_df.corr()"
   ]
  },
  {
   "cell_type": "code",
   "execution_count": null,
   "metadata": {},
   "outputs": [],
   "source": [
    "\n",
    "\n",
    "#Pull specific rows and turn visualize as columns\n",
    "car_df.ix[0]"
   ]
  },
  {
   "cell_type": "code",
   "execution_count": null,
   "metadata": {},
   "outputs": [],
   "source": [
    "#What are the available columns?\n",
    "car_df.columns"
   ]
  },
  {
   "cell_type": "code",
   "execution_count": null,
   "metadata": {},
   "outputs": [],
   "source": [
    "#descriptive statistics summary of a given column dataset\n",
    "car_df['Net Income'].describe()"
   ]
  },
  {
   "cell_type": "code",
   "execution_count": null,
   "metadata": {},
   "outputs": [],
   "source": [
    "car_df['Cash Dividends'].describe()"
   ]
  },
  {
   "cell_type": "code",
   "execution_count": null,
   "metadata": {},
   "outputs": [],
   "source": [
    "car_df['Total Assets'].describe()"
   ]
  },
  {
   "cell_type": "code",
   "execution_count": null,
   "metadata": {},
   "outputs": [],
   "source": []
  },
  {
   "cell_type": "markdown",
   "metadata": {},
   "source": [
    "Definition of Kurtosis https://en.wikipedia.org/wiki/Kurtosis"
   ]
  },
  {
   "cell_type": "code",
   "execution_count": null,
   "metadata": {},
   "outputs": [],
   "source": [
    "print(\"Skewness: %f\" % car_df['Cash Dividends'].skew())\n",
    "print(\"Kurtosis: %f\" % car_df['Cash Dividends'].kurt())"
   ]
  },
  {
   "cell_type": "code",
   "execution_count": null,
   "metadata": {},
   "outputs": [],
   "source": [
    "print(\"Skewness: %f\" % car_df['Total Assets'].skew())\n",
    "print(\"Kurtosis: %f\" % car_df['Total Assets'].kurt())"
   ]
  },
  {
   "cell_type": "code",
   "execution_count": null,
   "metadata": {},
   "outputs": [],
   "source": [
    "scatter1 = pd.concat([car_df['Total Assets'], car_df['Cash Dividends']], axis=1)\n",
    "scatter1.plot.scatter(x='Total Assets', y='Cash Dividends')"
   ]
  },
  {
   "cell_type": "code",
   "execution_count": null,
   "metadata": {},
   "outputs": [],
   "source": [
    "scatter1 = pd.concat([car_df['Total Assets'], car_df['Bank Equity']], axis=1)\n",
    "scatter1.plot.scatter(x='Total Assets', y='Bank Equity')"
   ]
  },
  {
   "cell_type": "code",
   "execution_count": null,
   "metadata": {},
   "outputs": [],
   "source": [
    "car_df.plot.scatter(x='Total Assets', y='Net Income');"
   ]
  },
  {
   "cell_type": "code",
   "execution_count": null,
   "metadata": {},
   "outputs": [],
   "source": [
    "# Show correlations\n",
    "car_df.corr()"
   ]
  },
  {
   "cell_type": "code",
   "execution_count": null,
   "metadata": {},
   "outputs": [],
   "source": [
    "# Correlation visualization\n",
    "corrmat = car_df.corr()\n",
    "f, ax = plt.subplots(figsize=(12, 12))\n",
    "sns.heatmap(corrmat, vmax=.8, square=True);"
   ]
  },
  {
   "cell_type": "code",
   "execution_count": null,
   "metadata": {},
   "outputs": [],
   "source": []
  },
  {
   "cell_type": "markdown",
   "metadata": {},
   "source": [
    "Boxplot Total Assets"
   ]
  },
  {
   "cell_type": "markdown",
   "metadata": {},
   "source": [
    "boxplot documentation: https://seaborn.pydata.org/generated/seaborn.boxplot.html"
   ]
  },
  {
   "cell_type": "code",
   "execution_count": null,
   "metadata": {},
   "outputs": [],
   "source": []
  },
  {
   "cell_type": "code",
   "execution_count": null,
   "metadata": {},
   "outputs": [],
   "source": [
    "sns.set(style=\"whitegrid\")\n",
    "ax = sns.boxplot(x=car_df[\"Total Assets\"])"
   ]
  },
  {
   "cell_type": "markdown",
   "metadata": {},
   "source": [
    "Pairplot\n"
   ]
  },
  {
   "cell_type": "code",
   "execution_count": null,
   "metadata": {},
   "outputs": [],
   "source": [
    "#sns.pairplot(car_df)"
   ]
  },
  {
   "cell_type": "code",
   "execution_count": null,
   "metadata": {},
   "outputs": [],
   "source": [
    "#sns.heatmap(car_df.corr(),cmap='coolwarm',annot=True)"
   ]
  },
  {
   "cell_type": "code",
   "execution_count": null,
   "metadata": {},
   "outputs": [],
   "source": [
    "#sns.clustermap(car_df)"
   ]
  },
  {
   "cell_type": "code",
   "execution_count": null,
   "metadata": {},
   "outputs": [],
   "source": [
    "from sklearn.preprocessing import StandardScaler"
   ]
  },
  {
   "cell_type": "code",
   "execution_count": null,
   "metadata": {},
   "outputs": [],
   "source": [
    "#standardizing data: Total Assets\n",
    "\n",
    "total_assets_standardized = StandardScaler().fit_transform(car_df['Total Assets'][:,np.newaxis]);\n",
    "low_range = total_assets_standardized[total_assets_standardized[:,0].argsort()][:20]\n",
    "high_range= total_assets_standardized[total_assets_standardized[:,0].argsort()][-20:]\n",
    "print('outer range (low) of the distribution:')\n",
    "low_range"
   ]
  },
  {
   "cell_type": "code",
   "execution_count": null,
   "metadata": {},
   "outputs": [],
   "source": [
    "print('\\nouter range (high) of the distribution:')\n",
    "high_range"
   ]
  },
  {
   "cell_type": "markdown",
   "metadata": {},
   "source": [
    "There are a few high variances as seen on above columns"
   ]
  },
  {
   "cell_type": "code",
   "execution_count": null,
   "metadata": {},
   "outputs": [],
   "source": []
  },
  {
   "cell_type": "code",
   "execution_count": null,
   "metadata": {},
   "outputs": [],
   "source": [
    "perf_rat_medium_df.head()"
   ]
  },
  {
   "cell_type": "code",
   "execution_count": null,
   "metadata": {},
   "outputs": [],
   "source": [
    "my_list_ratios = list(perf_rat_medium_df.columns.values)"
   ]
  },
  {
   "cell_type": "code",
   "execution_count": null,
   "metadata": {},
   "outputs": [],
   "source": [
    "my_list_ratios"
   ]
  },
  {
   "cell_type": "code",
   "execution_count": null,
   "metadata": {},
   "outputs": [],
   "source": []
  }
 ],
 "metadata": {
  "kernelspec": {
   "display_name": "Python 3",
   "language": "python",
   "name": "python3"
  },
  "language_info": {
   "codemirror_mode": {
    "name": "ipython",
    "version": 3
   },
   "file_extension": ".py",
   "mimetype": "text/x-python",
   "name": "python",
   "nbconvert_exporter": "python",
   "pygments_lexer": "ipython3",
   "version": "3.6.6"
  }
 },
 "nbformat": 4,
 "nbformat_minor": 2
}
