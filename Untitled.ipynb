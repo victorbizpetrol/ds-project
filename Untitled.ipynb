{
 "cells": [
  {
   "cell_type": "code",
   "execution_count": null,
   "metadata": {},
   "outputs": [],
   "source": [
    "upper_limit = features_df['Tot Dom Deposits to Tot Assets'].mean() + 3 * features_df['Tot Dom Deposits to Tot Assets'].std()\n",
    "lower_limit = features_df['Tot Dom Deposits to Tot Assets'].mean() - 3 * features_df['Tot Dom Deposits to Tot Assets'].std()\n",
    "print(f\"lower: {lower_limit} upper: {upper_limit}\")\n",
    "\n",
    "modified_df = features_df.loc[(features_df['Tot Dom Deposits to Tot Assets'] > lower_limit) & (features_df['Tot Dom Deposits to Tot Assets'] < upper_limit)]\n",
    "\n"
   ]
  }
 ],
 "metadata": {
  "kernelspec": {
   "display_name": "Python 3",
   "language": "python",
   "name": "python3"
  },
  "language_info": {
   "codemirror_mode": {
    "name": "ipython",
    "version": 3
   },
   "file_extension": ".py",
   "mimetype": "text/x-python",
   "name": "python",
   "nbconvert_exporter": "python",
   "pygments_lexer": "ipython3",
   "version": "3.6.6"
  }
 },
 "nbformat": 4,
 "nbformat_minor": 2
}
