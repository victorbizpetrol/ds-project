{
 "cells": [
  {
   "cell_type": "code",
   "execution_count": 4,
   "metadata": {},
   "outputs": [],
   "source": [
    "import pandas as pd\n",
    "import json"
   ]
  },
  {
   "cell_type": "code",
   "execution_count": 7,
   "metadata": {},
   "outputs": [],
   "source": [
    "#Another import from the web using read_html\n",
    "#https://www.fdic.gov/bank/individual/failed/banklist.html\n",
    "data = pd.read_html('https://www.fdic.gov/bank/individual/failed/banklist.html')"
   ]
  },
  {
   "cell_type": "code",
   "execution_count": 8,
   "metadata": {},
   "outputs": [
    {
     "data": {
      "text/html": [
       "<div>\n",
       "<style scoped>\n",
       "    .dataframe tbody tr th:only-of-type {\n",
       "        vertical-align: middle;\n",
       "    }\n",
       "\n",
       "    .dataframe tbody tr th {\n",
       "        vertical-align: top;\n",
       "    }\n",
       "\n",
       "    .dataframe thead th {\n",
       "        text-align: right;\n",
       "    }\n",
       "</style>\n",
       "<table border=\"1\" class=\"dataframe\">\n",
       "  <thead>\n",
       "    <tr style=\"text-align: right;\">\n",
       "      <th></th>\n",
       "      <th>Bank Name</th>\n",
       "      <th>City</th>\n",
       "      <th>ST</th>\n",
       "      <th>CERT</th>\n",
       "      <th>Acquiring Institution</th>\n",
       "      <th>Closing Date</th>\n",
       "      <th>Updated Date</th>\n",
       "    </tr>\n",
       "  </thead>\n",
       "  <tbody>\n",
       "    <tr>\n",
       "      <th>0</th>\n",
       "      <td>Washington Federal Bank for Savings</td>\n",
       "      <td>Chicago</td>\n",
       "      <td>IL</td>\n",
       "      <td>30570</td>\n",
       "      <td>Royal Savings Bank</td>\n",
       "      <td>December 15, 2017</td>\n",
       "      <td>February 21, 2018</td>\n",
       "    </tr>\n",
       "    <tr>\n",
       "      <th>1</th>\n",
       "      <td>The Farmers and Merchants State Bank of Argonia</td>\n",
       "      <td>Argonia</td>\n",
       "      <td>KS</td>\n",
       "      <td>17719</td>\n",
       "      <td>Conway Bank</td>\n",
       "      <td>October 13, 2017</td>\n",
       "      <td>February 21, 2018</td>\n",
       "    </tr>\n",
       "    <tr>\n",
       "      <th>2</th>\n",
       "      <td>Fayette County Bank</td>\n",
       "      <td>Saint Elmo</td>\n",
       "      <td>IL</td>\n",
       "      <td>1802</td>\n",
       "      <td>United Fidelity Bank, fsb</td>\n",
       "      <td>May 26, 2017</td>\n",
       "      <td>July 26, 2017</td>\n",
       "    </tr>\n",
       "    <tr>\n",
       "      <th>3</th>\n",
       "      <td>Guaranty Bank, (d/b/a BestBank in Georgia &amp; Mi...</td>\n",
       "      <td>Milwaukee</td>\n",
       "      <td>WI</td>\n",
       "      <td>30003</td>\n",
       "      <td>First-Citizens Bank &amp; Trust Company</td>\n",
       "      <td>May 5, 2017</td>\n",
       "      <td>March 22, 2018</td>\n",
       "    </tr>\n",
       "    <tr>\n",
       "      <th>4</th>\n",
       "      <td>First NBC Bank</td>\n",
       "      <td>New Orleans</td>\n",
       "      <td>LA</td>\n",
       "      <td>58302</td>\n",
       "      <td>Whitney Bank</td>\n",
       "      <td>April 28, 2017</td>\n",
       "      <td>December 5, 2017</td>\n",
       "    </tr>\n",
       "    <tr>\n",
       "      <th>5</th>\n",
       "      <td>Proficio Bank</td>\n",
       "      <td>Cottonwood Heights</td>\n",
       "      <td>UT</td>\n",
       "      <td>35495</td>\n",
       "      <td>Cache Valley Bank</td>\n",
       "      <td>March 3, 2017</td>\n",
       "      <td>March 7, 2018</td>\n",
       "    </tr>\n",
       "    <tr>\n",
       "      <th>6</th>\n",
       "      <td>Seaway Bank and Trust Company</td>\n",
       "      <td>Chicago</td>\n",
       "      <td>IL</td>\n",
       "      <td>19328</td>\n",
       "      <td>State Bank of Texas</td>\n",
       "      <td>January 27, 2017</td>\n",
       "      <td>May 18, 2017</td>\n",
       "    </tr>\n",
       "    <tr>\n",
       "      <th>7</th>\n",
       "      <td>Harvest Community Bank</td>\n",
       "      <td>Pennsville</td>\n",
       "      <td>NJ</td>\n",
       "      <td>34951</td>\n",
       "      <td>First-Citizens Bank &amp; Trust Company</td>\n",
       "      <td>January 13, 2017</td>\n",
       "      <td>May 18, 2017</td>\n",
       "    </tr>\n",
       "    <tr>\n",
       "      <th>8</th>\n",
       "      <td>Allied Bank</td>\n",
       "      <td>Mulberry</td>\n",
       "      <td>AR</td>\n",
       "      <td>91</td>\n",
       "      <td>Today's Bank</td>\n",
       "      <td>September 23, 2016</td>\n",
       "      <td>September 25, 2017</td>\n",
       "    </tr>\n",
       "    <tr>\n",
       "      <th>9</th>\n",
       "      <td>The Woodbury Banking Company</td>\n",
       "      <td>Woodbury</td>\n",
       "      <td>GA</td>\n",
       "      <td>11297</td>\n",
       "      <td>United Bank</td>\n",
       "      <td>August 19, 2016</td>\n",
       "      <td>June 1, 2017</td>\n",
       "    </tr>\n",
       "    <tr>\n",
       "      <th>10</th>\n",
       "      <td>First CornerStone Bank</td>\n",
       "      <td>King of Prussia</td>\n",
       "      <td>PA</td>\n",
       "      <td>35312</td>\n",
       "      <td>First-Citizens Bank &amp; Trust Company</td>\n",
       "      <td>May 6, 2016</td>\n",
       "      <td>September 6, 2016</td>\n",
       "    </tr>\n",
       "    <tr>\n",
       "      <th>11</th>\n",
       "      <td>Trust Company Bank</td>\n",
       "      <td>Memphis</td>\n",
       "      <td>TN</td>\n",
       "      <td>9956</td>\n",
       "      <td>The Bank of Fayette County</td>\n",
       "      <td>April 29, 2016</td>\n",
       "      <td>September 6, 2016</td>\n",
       "    </tr>\n",
       "    <tr>\n",
       "      <th>12</th>\n",
       "      <td>North Milwaukee State Bank</td>\n",
       "      <td>Milwaukee</td>\n",
       "      <td>WI</td>\n",
       "      <td>20364</td>\n",
       "      <td>First-Citizens Bank &amp; Trust Company</td>\n",
       "      <td>March 11, 2016</td>\n",
       "      <td>March 13, 2017</td>\n",
       "    </tr>\n",
       "    <tr>\n",
       "      <th>13</th>\n",
       "      <td>Hometown National Bank</td>\n",
       "      <td>Longview</td>\n",
       "      <td>WA</td>\n",
       "      <td>35156</td>\n",
       "      <td>Twin City Bank</td>\n",
       "      <td>October 2, 2015</td>\n",
       "      <td>February 19, 2018</td>\n",
       "    </tr>\n",
       "    <tr>\n",
       "      <th>14</th>\n",
       "      <td>The Bank of Georgia</td>\n",
       "      <td>Peachtree City</td>\n",
       "      <td>GA</td>\n",
       "      <td>35259</td>\n",
       "      <td>Fidelity Bank</td>\n",
       "      <td>October 2, 2015</td>\n",
       "      <td>July 9, 2018</td>\n",
       "    </tr>\n",
       "  </tbody>\n",
       "</table>\n",
       "</div>"
      ],
      "text/plain": [
       "                                            Bank Name                City  ST  \\\n",
       "0                 Washington Federal Bank for Savings             Chicago  IL   \n",
       "1     The Farmers and Merchants State Bank of Argonia             Argonia  KS   \n",
       "2                                 Fayette County Bank          Saint Elmo  IL   \n",
       "3   Guaranty Bank, (d/b/a BestBank in Georgia & Mi...           Milwaukee  WI   \n",
       "4                                      First NBC Bank         New Orleans  LA   \n",
       "5                                       Proficio Bank  Cottonwood Heights  UT   \n",
       "6                       Seaway Bank and Trust Company             Chicago  IL   \n",
       "7                              Harvest Community Bank          Pennsville  NJ   \n",
       "8                                         Allied Bank            Mulberry  AR   \n",
       "9                        The Woodbury Banking Company            Woodbury  GA   \n",
       "10                             First CornerStone Bank     King of Prussia  PA   \n",
       "11                                 Trust Company Bank             Memphis  TN   \n",
       "12                         North Milwaukee State Bank           Milwaukee  WI   \n",
       "13                             Hometown National Bank            Longview  WA   \n",
       "14                                The Bank of Georgia      Peachtree City  GA   \n",
       "\n",
       "     CERT                Acquiring Institution        Closing Date  \\\n",
       "0   30570                   Royal Savings Bank   December 15, 2017   \n",
       "1   17719                          Conway Bank    October 13, 2017   \n",
       "2    1802            United Fidelity Bank, fsb        May 26, 2017   \n",
       "3   30003  First-Citizens Bank & Trust Company         May 5, 2017   \n",
       "4   58302                         Whitney Bank      April 28, 2017   \n",
       "5   35495                    Cache Valley Bank       March 3, 2017   \n",
       "6   19328                  State Bank of Texas    January 27, 2017   \n",
       "7   34951  First-Citizens Bank & Trust Company    January 13, 2017   \n",
       "8      91                         Today's Bank  September 23, 2016   \n",
       "9   11297                          United Bank     August 19, 2016   \n",
       "10  35312  First-Citizens Bank & Trust Company         May 6, 2016   \n",
       "11   9956           The Bank of Fayette County      April 29, 2016   \n",
       "12  20364  First-Citizens Bank & Trust Company      March 11, 2016   \n",
       "13  35156                       Twin City Bank     October 2, 2015   \n",
       "14  35259                        Fidelity Bank     October 2, 2015   \n",
       "\n",
       "          Updated Date  \n",
       "0    February 21, 2018  \n",
       "1    February 21, 2018  \n",
       "2        July 26, 2017  \n",
       "3       March 22, 2018  \n",
       "4     December 5, 2017  \n",
       "5        March 7, 2018  \n",
       "6         May 18, 2017  \n",
       "7         May 18, 2017  \n",
       "8   September 25, 2017  \n",
       "9         June 1, 2017  \n",
       "10   September 6, 2016  \n",
       "11   September 6, 2016  \n",
       "12      March 13, 2017  \n",
       "13   February 19, 2018  \n",
       "14        July 9, 2018  "
      ]
     },
     "execution_count": 8,
     "metadata": {},
     "output_type": "execute_result"
    }
   ],
   "source": [
    "type(data)\n",
    "data[0].head(15)"
   ]
  },
  {
   "cell_type": "code",
   "execution_count": 6,
   "metadata": {},
   "outputs": [],
   "source": [
    "import pandas as pd\n",
    "import numpy as np\n",
    "test =  pd.read_csv('Data/test.csv')\n"
   ]
  },
  {
   "cell_type": "code",
   "execution_count": 10,
   "metadata": {},
   "outputs": [
    {
     "data": {
      "text/plain": [
       "(5551, 139)"
      ]
     },
     "execution_count": 10,
     "metadata": {},
     "output_type": "execute_result"
    }
   ],
   "source": [
    "test.shape"
   ]
  },
  {
   "cell_type": "code",
   "execution_count": 15,
   "metadata": {},
   "outputs": [],
   "source": [
    "name = test['name']"
   ]
  },
  {
   "cell_type": "code",
   "execution_count": 16,
   "metadata": {},
   "outputs": [
    {
     "data": {
      "text/plain": [
       "(5551,)"
      ]
     },
     "execution_count": 16,
     "metadata": {},
     "output_type": "execute_result"
    }
   ],
   "source": [
    "name.shape"
   ]
  },
  {
   "cell_type": "code",
   "execution_count": 19,
   "metadata": {},
   "outputs": [],
   "source": [
    "name.to_csv('Data/name.csv')"
   ]
  },
  {
   "cell_type": "code",
   "execution_count": null,
   "metadata": {},
   "outputs": [],
   "source": []
  },
  {
   "cell_type": "code",
   "execution_count": null,
   "metadata": {},
   "outputs": [],
   "source": []
  },
  {
   "cell_type": "code",
   "execution_count": null,
   "metadata": {},
   "outputs": [],
   "source": []
  },
  {
   "cell_type": "code",
   "execution_count": null,
   "metadata": {},
   "outputs": [],
   "source": []
  },
  {
   "cell_type": "code",
   "execution_count": null,
   "metadata": {},
   "outputs": [],
   "source": []
  },
  {
   "cell_type": "code",
   "execution_count": 2,
   "metadata": {},
   "outputs": [
    {
     "name": "stdout",
     "output_type": "stream",
     "text": [
      "Microsoft Corporation\n"
     ]
    }
   ],
   "source": [
    "# Retrieve company name with ticker symbol input, yahoo API\n",
    "import requests\n",
    "def get_symbol(symbol):\n",
    "    url = \"http://d.yimg.com/autoc.finance.yahoo.com/autoc?query={}&region=1&lang=en\".format(symbol)\n",
    "    result = requests.get(url).json()\n",
    "    for x in result['ResultSet']['Result']:\n",
    "        if x['symbol'] == symbol:\n",
    "            return x['name']\n",
    "company = get_symbol(\"MSFT\")\n",
    "\n",
    "print(company)"
   ]
  },
  {
   "cell_type": "code",
   "execution_count": null,
   "metadata": {},
   "outputs": [],
   "source": []
  },
  {
   "cell_type": "code",
   "execution_count": 2,
   "metadata": {},
   "outputs": [],
   "source": [
    "import pandas as pd\n",
    "import numpy as np\n",
    "import matplotlib.pyplot as plt\n",
    "import seaborn as sns\n",
    "%matplotlib inline"
   ]
  },
  {
   "cell_type": "code",
   "execution_count": 3,
   "metadata": {},
   "outputs": [],
   "source": [
    "null_df = pd.read_csv('Data/car_v1.csv')"
   ]
  },
  {
   "cell_type": "code",
   "execution_count": 10,
   "metadata": {},
   "outputs": [
    {
     "data": {
      "text/plain": [
       "<matplotlib.axes._subplots.AxesSubplot at 0x7fa85a4d2ba8>"
      ]
     },
     "execution_count": 10,
     "metadata": {},
     "output_type": "execute_result"
    },
    {
     "data": {
      "image/png": "[encoded data removed]",
      "text/plain": [
       "<Figure size 432x288 with 1 Axes>"
      ]
     },
     "metadata": {
      "needs_background": "light"
     },
     "output_type": "display_data"
    }
   ],
   "source": [
    "sns.heatmap(null_df.isnull(),yticklabels=False,cbar=False,cmap='viridis')"
   ]
  },
  {
   "cell_type": "code",
   "execution_count": 11,
   "metadata": {},
   "outputs": [
    {
     "data": {
      "text/plain": [
       "<matplotlib.axes._subplots.AxesSubplot at 0x7fa857ffd278>"
      ]
     },
     "execution_count": 11,
     "metadata": {},
     "output_type": "execute_result"
    },
    {
     "data": {
      "image/png": "[encoded data removed]",
      "text/plain": [
       "<Figure size 432x288 with 2 Axes>"
      ]
     },
     "metadata": {
      "needs_background": "light"
     },
     "output_type": "display_data"
    }
   ],
   "source": [
    "sns.heatmap(null_df.isnull()[['numemp', 'chbali']])\n"
   ]
  },
  {
   "cell_type": "code",
   "execution_count": 50,
   "metadata": {},
   "outputs": [
    {
     "name": "stdout",
     "output_type": "stream",
     "text": [
      "\n",
      "The following command must be run outside of the IPython shell:\n",
      "\n",
      "    $ pip install missingno\n",
      "\n",
      "The Python package manager (pip) can only be used from outside of IPython.\n",
      "Please reissue the `pip` command in a separate terminal or command prompt.\n",
      "\n",
      "See the Python documentation for more information on how to install packages:\n",
      "\n",
      "    https://docs.python.org/3/installing/\n"
     ]
    }
   ],
   "source": [
    "#pip install missingno"
   ]
  },
  {
   "cell_type": "code",
   "execution_count": 6,
   "metadata": {},
   "outputs": [],
   "source": [
    "import missingno as msno"
   ]
  },
  {
   "cell_type": "code",
   "execution_count": 14,
   "metadata": {},
   "outputs": [
    {
     "data": {
      "text/plain": [
       "<matplotlib.axes._subplots.AxesSubplot at 0x7f398dfc3be0>"
      ]
     },
     "execution_count": 14,
     "metadata": {},
     "output_type": "execute_result"
    },
    {
     "data": {
      "image/png": "[encoded data removed]",
      "text/plain": [
       "<Figure size 1800x720 with 2 Axes>"
      ]
     },
     "metadata": {
      "needs_background": "light"
     },
     "output_type": "display_data"
    }
   ],
   "source": [
    "\n",
    "msno.matrix(null_df)"
   ]
  },
  {
   "cell_type": "code",
   "execution_count": 16,
   "metadata": {},
   "outputs": [
    {
     "data": {
      "text/plain": [
       "<matplotlib.axes._subplots.AxesSubplot at 0x7f398cc53d68>"
      ]
     },
     "execution_count": 16,
     "metadata": {},
     "output_type": "execute_result"
    },
    {
     "data": {
      "image/png": "[encoded data removed]",
      "text/plain": [
       "<Figure size 1728x720 with 2 Axes>"
      ]
     },
     "metadata": {
      "needs_background": "light"
     },
     "output_type": "display_data"
    }
   ],
   "source": [
    "msno.bar(null_df.sample(6))"
   ]
  },
  {
   "cell_type": "code",
   "execution_count": null,
   "metadata": {},
   "outputs": [
    {
     "data": {
      "text/plain": [
       "<matplotlib.axes._subplots.AxesSubplot at 0x7f398a9d0eb8>"
      ]
     },
     "execution_count": 19,
     "metadata": {},
     "output_type": "execute_result"
    }
   ],
   "source": [
    "msno.heatmap(null_df.sample(100))"
   ]
  },
  {
   "cell_type": "code",
   "execution_count": null,
   "metadata": {},
   "outputs": [],
   "source": []
  },
  {
   "cell_type": "code",
   "execution_count": 24,
   "metadata": {},
   "outputs": [
    {
     "data": {
      "text/plain": [
       "(5551, 127)"
      ]
     },
     "execution_count": 24,
     "metadata": {},
     "output_type": "execute_result"
    }
   ],
   "source": [
    "null_df.shape"
   ]
  },
  {
   "cell_type": "markdown",
   "metadata": {},
   "source": [
    "\n",
    "### **Count the Null Columns**"
   ]
  },
  {
   "cell_type": "code",
   "execution_count": 41,
   "metadata": {},
   "outputs": [
    {
     "data": {
      "text/plain": [
       "cert           0\n",
       "fed_rssd       0\n",
       "name           0\n",
       "city           0\n",
       "stalp          0\n",
       "zip            0\n",
       "repdte         0\n",
       "address        0\n",
       "namehcr     1251\n",
       "offdom         0\n",
       "mutual         0\n",
       "numemp         9\n",
       "asset          0\n",
       "chbal          0\n",
       "chbali         9\n",
       "sc             0\n",
       "frepo          0\n",
       "lnlsnet        0\n",
       "lnatres        9\n",
       "trade          0\n",
       "bkprem         9\n",
       "ore            9\n",
       "intan          9\n",
       "idoa           0\n",
       "liabeq         0\n",
       "liab           0\n",
       "dep            0\n",
       "depi           9\n",
       "depdom         0\n",
       "iddepinr       1\n",
       "            ... \n",
       "asset5_y       0\n",
       "ernast5       10\n",
       "eq5            9\n",
       "lnlsgr5       36\n",
       "cert.1         0\n",
       "intinc         9\n",
       "eintexp        9\n",
       "nim            9\n",
       "elnatr         9\n",
       "nonii          9\n",
       "ifiduc         9\n",
       "iserchg        9\n",
       "igltrad     3698\n",
       "idothnii       0\n",
       "nonix          9\n",
       "esal           9\n",
       "epremagg       9\n",
       "IDEOTH         0\n",
       "idpretx        0\n",
       "iglsec         9\n",
       "itax           9\n",
       "ibefxtr        9\n",
       "extra          9\n",
       "netinc         9\n",
       "NETIMIN        9\n",
       "NETINBM        9\n",
       "ntlnls         9\n",
       "eqcdiv         9\n",
       "eqcstkrx       9\n",
       "noij           9\n",
       "Length: 127, dtype: int64"
      ]
     },
     "execution_count": 41,
     "metadata": {},
     "output_type": "execute_result"
    }
   ],
   "source": [
    "null_df.isnull().sum()"
   ]
  },
  {
   "cell_type": "markdown",
   "metadata": {},
   "source": [
    "#### ***Single Column Is Null***\n"
   ]
  },
  {
   "cell_type": "markdown",
   "metadata": {},
   "source": [
    "\n",
    "#### Find a patterns in respect to other columns in which a columns has a total of 9 nulls  \n",
    "##### - Retreive the row index for the solitary row which has \"lnatres\" as null**\n"
   ]
  },
  {
   "cell_type": "code",
   "execution_count": 23,
   "metadata": {},
   "outputs": [],
   "source": [
    "null_columns=null_df.columns[null_df.isnull().any()]"
   ]
  },
  {
   "cell_type": "code",
   "execution_count": 21,
   "metadata": {},
   "outputs": [
    {
     "name": "stdout",
     "output_type": "stream",
     "text": [
      "     namehcr  numemp  chbali  lnatres  bkprem  ore  intan  depi   iddepinr  \\\n",
      "268      NaN     NaN     NaN      NaN     NaN  NaN    NaN   NaN  87.520758   \n",
      "282      NaN     NaN     NaN      NaN     NaN  NaN    NaN   NaN  98.649697   \n",
      "313      NaN     NaN     NaN      NaN     NaN  NaN    NaN   NaN  58.088665   \n",
      "390      NaN     NaN     NaN      NaN     NaN  NaN    NaN   NaN  98.551696   \n",
      "3127     NaN     NaN     NaN      NaN     NaN  NaN    NaN   NaN  28.799863   \n",
      "3194     NaN     NaN     NaN      NaN     NaN  NaN    NaN   NaN  99.463723   \n",
      "4175     NaN     NaN     NaN      NaN     NaN  NaN    NaN   NaN  97.203041   \n",
      "4176     NaN     NaN     NaN      NaN     NaN  NaN    NaN   NaN  81.501127   \n",
      "4380     NaN     NaN     NaN      NaN     NaN  NaN    NaN   NaN  98.362486   \n",
      "\n",
      "      subnd  ...   itax  ibefxtr  extra  netinc  NETIMIN  NETINBM  ntlnls  \\\n",
      "268     NaN  ...    NaN      NaN    NaN     NaN      NaN      NaN     NaN   \n",
      "282     NaN  ...    NaN      NaN    NaN     NaN      NaN      NaN     NaN   \n",
      "313     NaN  ...    NaN      NaN    NaN     NaN      NaN      NaN     NaN   \n",
      "390     NaN  ...    NaN      NaN    NaN     NaN      NaN      NaN     NaN   \n",
      "3127    NaN  ...    NaN      NaN    NaN     NaN      NaN      NaN     NaN   \n",
      "3194    NaN  ...    NaN      NaN    NaN     NaN      NaN      NaN     NaN   \n",
      "4175    NaN  ...    NaN      NaN    NaN     NaN      NaN      NaN     NaN   \n",
      "4176    NaN  ...    NaN      NaN    NaN     NaN      NaN      NaN     NaN   \n",
      "4380    NaN  ...    NaN      NaN    NaN     NaN      NaN      NaN     NaN   \n",
      "\n",
      "      eqcdiv  eqcstkrx  noij  \n",
      "268      NaN       NaN   NaN  \n",
      "282      NaN       NaN   NaN  \n",
      "313      NaN       NaN   NaN  \n",
      "390      NaN       NaN   NaN  \n",
      "3127     NaN       NaN   NaN  \n",
      "3194     NaN       NaN   NaN  \n",
      "4175     NaN       NaN   NaN  \n",
      "4176     NaN       NaN   NaN  \n",
      "4380     NaN       NaN   NaN  \n",
      "\n",
      "[9 rows x 90 columns]\n"
     ]
    }
   ],
   "source": [
    "print(null_df[null_df[\"lnatres\"].isnull()][null_columns])"
   ]
  },
  {
   "cell_type": "code",
   "execution_count": 24,
   "metadata": {},
   "outputs": [],
   "source": [
    "#find the solitary row which has \"numemp\" as null?"
   ]
  },
  {
   "cell_type": "code",
   "execution_count": 17,
   "metadata": {},
   "outputs": [
    {
     "name": "stdout",
     "output_type": "stream",
     "text": [
      "     namehcr  numemp  chbali  lnatres  bkprem  ore  intan  depi   iddepinr  \\\n",
      "268      NaN     NaN     NaN      NaN     NaN  NaN    NaN   NaN  87.520758   \n",
      "282      NaN     NaN     NaN      NaN     NaN  NaN    NaN   NaN  98.649697   \n",
      "313      NaN     NaN     NaN      NaN     NaN  NaN    NaN   NaN  58.088665   \n",
      "390      NaN     NaN     NaN      NaN     NaN  NaN    NaN   NaN  98.551696   \n",
      "3127     NaN     NaN     NaN      NaN     NaN  NaN    NaN   NaN  28.799863   \n",
      "3194     NaN     NaN     NaN      NaN     NaN  NaN    NaN   NaN  99.463723   \n",
      "4175     NaN     NaN     NaN      NaN     NaN  NaN    NaN   NaN  97.203041   \n",
      "4176     NaN     NaN     NaN      NaN     NaN  NaN    NaN   NaN  81.501127   \n",
      "4380     NaN     NaN     NaN      NaN     NaN  NaN    NaN   NaN  98.362486   \n",
      "\n",
      "      subnd  ...   itax  ibefxtr  extra  netinc  NETIMIN  NETINBM  ntlnls  \\\n",
      "268     NaN  ...    NaN      NaN    NaN     NaN      NaN      NaN     NaN   \n",
      "282     NaN  ...    NaN      NaN    NaN     NaN      NaN      NaN     NaN   \n",
      "313     NaN  ...    NaN      NaN    NaN     NaN      NaN      NaN     NaN   \n",
      "390     NaN  ...    NaN      NaN    NaN     NaN      NaN      NaN     NaN   \n",
      "3127    NaN  ...    NaN      NaN    NaN     NaN      NaN      NaN     NaN   \n",
      "3194    NaN  ...    NaN      NaN    NaN     NaN      NaN      NaN     NaN   \n",
      "4175    NaN  ...    NaN      NaN    NaN     NaN      NaN      NaN     NaN   \n",
      "4176    NaN  ...    NaN      NaN    NaN     NaN      NaN      NaN     NaN   \n",
      "4380    NaN  ...    NaN      NaN    NaN     NaN      NaN      NaN     NaN   \n",
      "\n",
      "      eqcdiv  eqcstkrx  noij  \n",
      "268      NaN       NaN   NaN  \n",
      "282      NaN       NaN   NaN  \n",
      "313      NaN       NaN   NaN  \n",
      "390      NaN       NaN   NaN  \n",
      "3127     NaN       NaN   NaN  \n",
      "3194     NaN       NaN   NaN  \n",
      "4175     NaN       NaN   NaN  \n",
      "4176     NaN       NaN   NaN  \n",
      "4380     NaN       NaN   NaN  \n",
      "\n",
      "[9 rows x 90 columns]\n"
     ]
    }
   ],
   "source": [
    "print(null_df[null_df[\"numemp\"].isnull()][null_columns])"
   ]
  },
  {
   "cell_type": "code",
   "execution_count": 8,
   "metadata": {},
   "outputs": [
    {
     "name": "stdout",
     "output_type": "stream",
     "text": [
      "       cert  fed_rssd                                 name         city stalp  \\\n",
      "268   33686    790105                   Bank Hapoalim B.M.     New York    NY   \n",
      "282   33681    909000                       Bank of Baroda     New York    NY   \n",
      "313   33653    908508                        Bank of China     New York    NY   \n",
      "390   33648    727709                        Bank of India     New York    NY   \n",
      "3127  33656    449515  Metropolitan Bank and Trust Company     New York    NY   \n",
      "3194  33661    887461           Mizrahi Tefahot Bank, Ltd.  Los Angeles    CA   \n",
      "4175  33682     95716                  State Bank of India     New York    NY   \n",
      "4176  33664    217237                  State Bank of India      Chicago    IL   \n",
      "4380  33646   1751420           The Bank of East Asia Ltd.     New York    NY   \n",
      "\n",
      "        zip   repdte                       address namehcr  offdom  ...  itax  \\\n",
      "268   10036  6/30/18   1120 Avenue Of The Americas     NaN       1  ...   NaN   \n",
      "282   10016  6/30/18               One Park Avenue     NaN       1  ...   NaN   \n",
      "313   10018  6/30/18   1045 Avenue Of The Americas     NaN       1  ...   NaN   \n",
      "390   10017  6/30/18                  277 Park Ave     NaN       1  ...   NaN   \n",
      "3127  10022  6/30/18           10 East 53rd Street     NaN       1  ...   NaN   \n",
      "3194  90017  6/30/18  800 Wilshire Blvd, 14th Floo     NaN       1  ...   NaN   \n",
      "4175  10022  6/30/18               460 Park Avenue     NaN       1  ...   NaN   \n",
      "4176  60603  6/30/18    19 S. Lasalle St., 2nd Fl.     NaN       1  ...   NaN   \n",
      "4380  10022  6/30/18            540 Madison Avenue     NaN       1  ...   NaN   \n",
      "\n",
      "      ibefxtr  extra  netinc  NETIMIN  NETINBM  ntlnls  eqcdiv  eqcstkrx  noij  \n",
      "268       NaN    NaN     NaN      NaN      NaN     NaN     NaN       NaN   NaN  \n",
      "282       NaN    NaN     NaN      NaN      NaN     NaN     NaN       NaN   NaN  \n",
      "313       NaN    NaN     NaN      NaN      NaN     NaN     NaN       NaN   NaN  \n",
      "390       NaN    NaN     NaN      NaN      NaN     NaN     NaN       NaN   NaN  \n",
      "3127      NaN    NaN     NaN      NaN      NaN     NaN     NaN       NaN   NaN  \n",
      "3194      NaN    NaN     NaN      NaN      NaN     NaN     NaN       NaN   NaN  \n",
      "4175      NaN    NaN     NaN      NaN      NaN     NaN     NaN       NaN   NaN  \n",
      "4176      NaN    NaN     NaN      NaN      NaN     NaN     NaN       NaN   NaN  \n",
      "4380      NaN    NaN     NaN      NaN      NaN     NaN     NaN       NaN   NaN  \n",
      "\n",
      "[9 rows x 127 columns]\n"
     ]
    }
   ],
   "source": [
    "print(null_df[null_df[\"numemp\"].isnull()])"
   ]
  },
  {
   "cell_type": "code",
   "execution_count": null,
   "metadata": {},
   "outputs": [],
   "source": []
  },
  {
   "cell_type": "code",
   "execution_count": null,
   "metadata": {},
   "outputs": [],
   "source": []
  },
  {
   "cell_type": "code",
   "execution_count": 18,
   "metadata": {},
   "outputs": [
    {
     "name": "stdout",
     "output_type": "stream",
     "text": [
      "                           namehcr  numemp   chbali  lnatres  bkprem     ore  \\\n",
      "0        DELMARVA BANCSHARES, INC.    48.0  22763.0   1824.0  5248.0   649.0   \n",
      "1              BANC INVESTORS, LLC    18.0   4321.0    789.0  2024.0  3220.0   \n",
      "2  1ST UNITED BANCORPORATION, INC.     9.0  20429.0    899.0   946.0     0.0   \n",
      "3    SOUTHEASTERN BANCSHARES, INC.    42.0   2035.0   1143.0  5052.0     0.0   \n",
      "4                              NaN    15.0   9909.0    193.0   416.0    51.0   \n",
      "\n",
      "    intan      depi   iddepinr  subnd   ...     itax  ibefxtr  extra  netinc  \\\n",
      "0  2313.0  205200.0  78.779139    0.0   ...    574.0   1799.0    0.0  1799.0   \n",
      "1     0.0   62773.0  82.742266    0.0   ...      0.0    214.0    0.0   214.0   \n",
      "2     0.0   30940.0  88.901767    0.0   ...      0.0    435.0    0.0   435.0   \n",
      "3     0.0   87477.0  80.903417    0.0   ...      0.0   1923.0    0.0  1923.0   \n",
      "4     0.0   29087.0  90.931762    0.0   ...      0.0    148.0    0.0   148.0   \n",
      "\n",
      "   NETIMIN  NETINBM  ntlnls  eqcdiv  eqcstkrx    noij  \n",
      "0      0.0   1799.0    96.0     0.0       0.0  1799.0  \n",
      "1      0.0    214.0   -20.0     0.0       0.0   214.0  \n",
      "2      0.0    435.0  -344.0   173.0       0.0   435.0  \n",
      "3      0.0   1923.0    16.0   925.0       0.0  1910.0  \n",
      "4      0.0    148.0    21.0    56.0       0.0   148.0  \n",
      "\n",
      "[5 rows x 90 columns]\n"
     ]
    }
   ],
   "source": [
    "\n",
    "print(null_df[null_df.isnull().any(axis=1)][null_columns].head())"
   ]
  },
  {
   "cell_type": "code",
   "execution_count": 4,
   "metadata": {},
   "outputs": [
    {
     "data": {
      "text/plain": [
       "RangeIndex(start=0, stop=5551, step=1)"
      ]
     },
     "execution_count": 4,
     "metadata": {},
     "output_type": "execute_result"
    }
   ],
   "source": [
    "null_df.index"
   ]
  },
  {
   "cell_type": "code",
   "execution_count": 15,
   "metadata": {},
   "outputs": [
    {
     "data": {
      "text/plain": [
       "nan"
      ]
     },
     "execution_count": 15,
     "metadata": {},
     "output_type": "execute_result"
    }
   ],
   "source": [
    "null_df.loc[282]['numemp']"
   ]
  },
  {
   "cell_type": "code",
   "execution_count": 19,
   "metadata": {},
   "outputs": [],
   "source": [
    "filtered_nan= filtered_df = null_df[null_df['numemp'].notnull()]"
   ]
  },
  {
   "cell_type": "code",
   "execution_count": 22,
   "metadata": {},
   "outputs": [
    {
     "name": "stdout",
     "output_type": "stream",
     "text": [
      "Empty DataFrame\n",
      "Columns: [cert, fed_rssd, name, city, stalp, zip, repdte, address, namehcr, offdom, mutual, numemp, asset, chbal, chbali, sc, frepo, lnlsnet, lnatres, trade, bkprem, ore, intan, idoa, liabeq, liab, dep, depi, depdom, iddepinr, frepp, tradel, idobrmtg, subnd, idoliab, eqtot, eq, eqpp, eqcs, eqsur, equptot, eqconsub, nclnls, NCGTYPAR, oaienc, ernast, asstlt, asset5, asset2, RWAJT, AVASSETJ, OALIFINS, OALIFGEN, OALIFSEP, Oalifhyb, voliab, lnexamt, othbfhlb, lnlssale, ucln, RBCT1J, RBCT2, uc, obsdir, idntilr, idntigr, intincy, intexpy, nimy, noniiay, nonixay, elnatry, noijy, roa, roaptx, roe, roeinjr, ntlnlsr, elnantr, iderncvr, eeffr, astempm, iddivnir, ernastr, lnatresr, lnresncr, nperfv, nclnlsr, lnlsntv, lnlsdepr, idlncorr, depdastr, eqv, rbc1aaj, rbc1rwaj, rbcrwaj, rbct1cer, asset5_y, ernast5, eq5, ...]\n",
      "Index: []\n",
      "\n",
      "[0 rows x 127 columns]\n"
     ]
    }
   ],
   "source": [
    "print(filtered_nan[filtered_nan[\"numemp\"].isnull()])"
   ]
  },
  {
   "cell_type": "code",
   "execution_count": 23,
   "metadata": {},
   "outputs": [
    {
     "data": {
      "text/plain": [
       "cert           0\n",
       "fed_rssd       0\n",
       "name           0\n",
       "city           0\n",
       "stalp          0\n",
       "zip            0\n",
       "repdte         0\n",
       "address        0\n",
       "namehcr     1242\n",
       "offdom         0\n",
       "mutual         0\n",
       "numemp         0\n",
       "asset          0\n",
       "chbal          0\n",
       "chbali         0\n",
       "sc             0\n",
       "frepo          0\n",
       "lnlsnet        0\n",
       "lnatres        0\n",
       "trade          0\n",
       "bkprem         0\n",
       "ore            0\n",
       "intan          0\n",
       "idoa           0\n",
       "liabeq         0\n",
       "liab           0\n",
       "dep            0\n",
       "depi           0\n",
       "depdom         0\n",
       "iddepinr       1\n",
       "            ... \n",
       "asset5_y       0\n",
       "ernast5        1\n",
       "eq5            0\n",
       "lnlsgr5       36\n",
       "cert.1         0\n",
       "intinc         0\n",
       "eintexp        0\n",
       "nim            0\n",
       "elnatr         0\n",
       "nonii          0\n",
       "ifiduc         0\n",
       "iserchg        0\n",
       "igltrad     3689\n",
       "idothnii       0\n",
       "nonix          0\n",
       "esal           0\n",
       "epremagg       0\n",
       "IDEOTH         0\n",
       "idpretx        0\n",
       "iglsec         0\n",
       "itax           0\n",
       "ibefxtr        0\n",
       "extra          0\n",
       "netinc         0\n",
       "NETIMIN        0\n",
       "NETINBM        0\n",
       "ntlnls         0\n",
       "eqcdiv         0\n",
       "eqcstkrx       0\n",
       "noij           0\n",
       "Length: 127, dtype: int64"
      ]
     },
     "execution_count": 23,
     "metadata": {},
     "output_type": "execute_result"
    }
   ],
   "source": [
    "filtered_nan.isnull().sum()"
   ]
  },
  {
   "cell_type": "code",
   "execution_count": 27,
   "metadata": {},
   "outputs": [
    {
     "data": {
      "text/plain": [
       "(5551, 127)"
      ]
     },
     "execution_count": 27,
     "metadata": {},
     "output_type": "execute_result"
    }
   ],
   "source": [
    "null_df.shape\n",
    "\n"
   ]
  },
  {
   "cell_type": "code",
   "execution_count": 28,
   "metadata": {},
   "outputs": [
    {
     "data": {
      "text/plain": [
       "(5542, 127)"
      ]
     },
     "execution_count": 28,
     "metadata": {},
     "output_type": "execute_result"
    }
   ],
   "source": [
    "filtered_nan.shape"
   ]
  },
  {
   "cell_type": "code",
   "execution_count": null,
   "metadata": {},
   "outputs": [],
   "source": [
    "df.dropna(axis=0, how='all') #remve all row where all value is 'NaN' exists"
   ]
  },
  {
   "cell_type": "code",
   "execution_count": 3,
   "metadata": {},
   "outputs": [
    {
     "ename": "SyntaxError",
     "evalue": "unexpected EOF while parsing (<ipython-input-3-e36ab13b8df1>, line 1)",
     "output_type": "error",
     "traceback": [
      "\u001b[0;36m  File \u001b[0;32m\"<ipython-input-3-e36ab13b8df1>\"\u001b[0;36m, line \u001b[0;32m1\u001b[0m\n\u001b[0;31m    null_df.dropna(thresh=500  #Keep only the rows with at least 500 non-na values\u001b[0m\n\u001b[0m                                                                                  ^\u001b[0m\n\u001b[0;31mSyntaxError\u001b[0m\u001b[0;31m:\u001b[0m unexpected EOF while parsing\n"
     ]
    }
   ],
   "source": [
    "null_df.dropna(thresh=500  #Keep only the rows with at least 500 non-na values"
   ]
  },
  {
   "cell_type": "code",
   "execution_count": 16,
   "metadata": {},
   "outputs": [
    {
     "data": {
      "text/plain": [
       "0       False\n",
       "1       False\n",
       "2       False\n",
       "3       False\n",
       "4       False\n",
       "5       False\n",
       "6       False\n",
       "7       False\n",
       "8       False\n",
       "9       False\n",
       "10      False\n",
       "11      False\n",
       "12      False\n",
       "13      False\n",
       "14      False\n",
       "15      False\n",
       "16      False\n",
       "17      False\n",
       "18      False\n",
       "19      False\n",
       "20      False\n",
       "21      False\n",
       "22      False\n",
       "23      False\n",
       "24      False\n",
       "25      False\n",
       "26      False\n",
       "27      False\n",
       "28      False\n",
       "29      False\n",
       "        ...  \n",
       "5521    False\n",
       "5522    False\n",
       "5523    False\n",
       "5524    False\n",
       "5525    False\n",
       "5526    False\n",
       "5527    False\n",
       "5528    False\n",
       "5529    False\n",
       "5530    False\n",
       "5531    False\n",
       "5532    False\n",
       "5533    False\n",
       "5534    False\n",
       "5535    False\n",
       "5536    False\n",
       "5537    False\n",
       "5538    False\n",
       "5539    False\n",
       "5540    False\n",
       "5541    False\n",
       "5542    False\n",
       "5543    False\n",
       "5544    False\n",
       "5545    False\n",
       "5546    False\n",
       "5547    False\n",
       "5548    False\n",
       "5549    False\n",
       "5550    False\n",
       "Length: 5551, dtype: bool"
      ]
     },
     "execution_count": 16,
     "metadata": {},
     "output_type": "execute_result"
    }
   ],
   "source": [
    "null_df.duplicated()"
   ]
  },
  {
   "cell_type": "code",
   "execution_count": null,
   "metadata": {},
   "outputs": [],
   "source": []
  }
 ],
 "metadata": {
  "kernelspec": {
   "display_name": "Python 3",
   "language": "python",
   "name": "python3"
  },
  "language_info": {
   "codemirror_mode": {
    "name": "ipython",
    "version": 3
   },
   "file_extension": ".py",
   "mimetype": "text/x-python",
   "name": "python",
   "nbconvert_exporter": "python",
   "pygments_lexer": "ipython3",
   "version": "3.6.6"
  }
 },
 "nbformat": 4,
 "nbformat_minor": 2
}
